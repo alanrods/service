{
 "cells": [
  {
   "cell_type": "code",
   "execution_count": 3,
   "metadata": {
    "collapsed": true
   },
   "outputs": [],
   "source": [
    "import numpy as np\n",
    "import pickle\n",
    "import re"
   ]
  },
  {
   "cell_type": "code",
   "execution_count": 18,
   "metadata": {
    "collapsed": true
   },
   "outputs": [],
   "source": [
    "def saveDict(path, sequence_dict):\n",
    "    return np.save(path, sequence_dict)\n",
    "\n",
    "def loadDict(path):\n",
    "    return pickle.load(open(path,\"rb\"))\n",
    "\n",
    "def loadTokenizer(path):\n",
    "    return pickle.load(open(path,'rb'))"
   ]
  },
  {
   "cell_type": "code",
   "execution_count": 19,
   "metadata": {
    "collapsed": true
   },
   "outputs": [],
   "source": [
    "def normalize_tweet(tweet):\n",
    "    tweet = re.sub(r'(#(S|s)arcasmo|#(I|i)ron(i|\\W)a)','',tweet)\n",
    "    tweet = re.sub(r'#SARCASMO|#IRON(I|\\W)A','',tweet)\n",
    "    tweet = re.sub(r'https?://t\\.co/(\\w|\\d)+','http://link', tweet) #tweet link\n",
    "    tweet = re.sub(r'((https?):((//)|(\\\\\\\\))+([\\w\\d:#@%/;$()~_?\\+-=\\\\\\.&](#!)?)*)','http://link', tweet) #normal link\n",
    "    tweet = re.sub(r'@.\\w*','@',tweet)\n",
    "    tweet = re.sub(r'#','',tweet)\n",
    "    return tweet"
   ]
  },
  {
   "cell_type": "code",
   "execution_count": 21,
   "metadata": {},
   "outputs": [],
   "source": [
    "#dict_50_50 = pickle.load(open(\"./data/ann/dicFile_50_50.p\",\"rb\"))"
   ]
  },
  {
   "cell_type": "code",
   "execution_count": 22,
   "metadata": {
    "collapsed": true
   },
   "outputs": [],
   "source": [
    "tweet = \"#SARCASMO que #dia taaan https://github.com/alanrods productivo BLABLA http://t.co/n8HsGOkF6h @Alan https://github.com/alanrods/service\""
   ]
  },
  {
   "cell_type": "code",
   "execution_count": 10,
   "metadata": {},
   "outputs": [
    {
     "name": "stdout",
     "output_type": "stream",
     "text": [
      " que dia taaan http://link productivo BLABLA http://link @ http://link\n"
     ]
    }
   ],
   "source": [
    "nTweet = normalize_tweet(tweet)\n",
    "print nTweet"
   ]
  },
  {
   "cell_type": "code",
   "execution_count": 6,
   "metadata": {},
   "outputs": [
    {
     "name": "stderr",
     "output_type": "stream",
     "text": [
      "Using TensorFlow backend.\n"
     ]
    }
   ],
   "source": [
    "tokenizer = loadTokenizer('./data/Tokenizer/tokenizer.pickle')"
   ]
  },
  {
   "cell_type": "code",
   "execution_count": 24,
   "metadata": {},
   "outputs": [],
   "source": [
    "dict_50_50 = tokenizer.word_index"
   ]
  },
  {
   "cell_type": "code",
   "execution_count": 37,
   "metadata": {},
   "outputs": [
    {
     "name": "stdout",
     "output_type": "stream",
     "text": [
      "None\n"
     ]
    }
   ],
   "source": [
    "#tokenizer.texts_to_sequences(nTweet)"
   ]
  },
  {
   "cell_type": "code",
   "execution_count": 55,
   "metadata": {},
   "outputs": [],
   "source": [
    "seq = tokenizer.texts_to_sequences([nTweet])"
   ]
  },
  {
   "cell_type": "code",
   "execution_count": 53,
   "metadata": {},
   "outputs": [],
   "source": [
    "a = tokenizer.texts_to_sequences(nTweet.split())\n",
    "b = tokenizer.texts_to_sequences(nTweet)"
   ]
  },
  {
   "cell_type": "code",
   "execution_count": 46,
   "metadata": {},
   "outputs": [
    {
     "name": "stdout",
     "output_type": "stream",
     "text": [
      "1\n",
      "166\n",
      "3404\n",
      "11\n",
      "3019\n",
      "3\n"
     ]
    }
   ],
   "source": [
    "print dict_50_50['que']\n",
    "print dict_50_50['dia']\n",
    "print dict_50_50['taan']\n",
    "print dict_50_50['http://link']\n",
    "print dict_50_50['productivo']\n",
    "print dict_50_50['@']"
   ]
  },
  {
   "cell_type": "code",
   "execution_count": 56,
   "metadata": {},
   "outputs": [
    {
     "data": {
      "text/plain": [
       "[[1, 166, 2906, 11, 3019, 11, 3, 11]]"
      ]
     },
     "execution_count": 56,
     "metadata": {},
     "output_type": "execute_result"
    }
   ],
   "source": [
    "seq"
   ]
  },
  {
   "cell_type": "code",
   "execution_count": 58,
   "metadata": {},
   "outputs": [
    {
     "data": {
      "text/plain": [
       "[[],\n",
       " [52],\n",
       " [449],\n",
       " [291],\n",
       " [],\n",
       " [239],\n",
       " [1230],\n",
       " [4],\n",
       " [],\n",
       " [904],\n",
       " [4],\n",
       " [4],\n",
       " [4],\n",
       " [104],\n",
       " [],\n",
       " [6089],\n",
       " [904],\n",
       " [904],\n",
       " [2702],\n",
       " [66],\n",
       " [1584],\n",
       " [1584],\n",
       " [1753],\n",
       " [1230],\n",
       " [104],\n",
       " [906],\n",
       " [],\n",
       " [2702],\n",
       " [4428],\n",
       " [68],\n",
       " [239],\n",
       " [449],\n",
       " [1233],\n",
       " [904],\n",
       " [1230],\n",
       " [2852],\n",
       " [68],\n",
       " [],\n",
       " [2041],\n",
       " [2541],\n",
       " [81],\n",
       " [2041],\n",
       " [2541],\n",
       " [81],\n",
       " [],\n",
       " [6089],\n",
       " [904],\n",
       " [904],\n",
       " [2702],\n",
       " [66],\n",
       " [1584],\n",
       " [1584],\n",
       " [1753],\n",
       " [1230],\n",
       " [104],\n",
       " [906],\n",
       " [],\n",
       " [3],\n",
       " [],\n",
       " [6089],\n",
       " [904],\n",
       " [904],\n",
       " [2702],\n",
       " [66],\n",
       " [1584],\n",
       " [1584],\n",
       " [1753],\n",
       " [1230],\n",
       " [104],\n",
       " [906]]"
      ]
     },
     "execution_count": 58,
     "metadata": {},
     "output_type": "execute_result"
    }
   ],
   "source": [
    "b"
   ]
  },
  {
   "cell_type": "code",
   "execution_count": null,
   "metadata": {
    "collapsed": true
   },
   "outputs": [],
   "source": []
  }
 ],
 "metadata": {
  "kernelspec": {
   "display_name": "Python(irnoy-env)",
   "language": "python",
   "name": "web"
  },
  "language_info": {
   "codemirror_mode": {
    "name": "ipython",
    "version": 2
   },
   "file_extension": ".py",
   "mimetype": "text/x-python",
   "name": "python",
   "nbconvert_exporter": "python",
   "pygments_lexer": "ipython2",
   "version": "2.7.12"
  }
 },
 "nbformat": 4,
 "nbformat_minor": 2
}
