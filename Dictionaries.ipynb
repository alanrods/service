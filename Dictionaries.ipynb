{
 "cells": [
  {
   "cell_type": "code",
   "execution_count": 90,
   "metadata": {
    "collapsed": true
   },
   "outputs": [],
   "source": [
    "import numpy as np\n",
    "import pickle"
   ]
  },
  {
   "cell_type": "code",
   "execution_count": 91,
   "metadata": {
    "collapsed": true
   },
   "outputs": [],
   "source": [
    "dict_50_50 = pickle.load(open(\"./data/ann/dicFile_50_50.p\",\"rb\"))"
   ]
  },
  {
   "cell_type": "code",
   "execution_count": 105,
   "metadata": {
    "collapsed": true
   },
   "outputs": [],
   "source": [
    "def get_lValue(d_items):\n",
    "    values = d_items.values()\n",
    "    values.sort()\n",
    "    return values[-1]\n",
    "\n",
    "def get_value(d_items, key):\n",
    "    value = d_items.get(unicode(key),False) \n",
    "    if value:\n",
    "        return value\n",
    "    else:\n",
    "        value = get_lValue(d_items) + 1\n",
    "        d_items[key] = value #Add the new key to the Dict\n",
    "        return value"
   ]
  },
  {
   "cell_type": "code",
   "execution_count": 106,
   "metadata": {
    "collapsed": true
   },
   "outputs": [],
   "source": [
    "supreme = get_value(dict_50_50,'PAPU PRO')"
   ]
  }
 ],
 "metadata": {
  "kernelspec": {
   "display_name": "Python(irnoy-env)",
   "language": "python",
   "name": "web"
  },
  "language_info": {
   "codemirror_mode": {
    "name": "ipython",
    "version": 2
   },
   "file_extension": ".py",
   "mimetype": "text/x-python",
   "name": "python",
   "nbconvert_exporter": "python",
   "pygments_lexer": "ipython2",
   "version": "2.7.12"
  }
 },
 "nbformat": 4,
 "nbformat_minor": 2
}
