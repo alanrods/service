{
 "cells": [
  {
   "cell_type": "markdown",
   "metadata": {},
   "source": [
    "## LSTM CNN BIDIRECTIONAL"
   ]
  },
  {
   "cell_type": "code",
   "execution_count": 1,
   "metadata": {},
   "outputs": [
    {
     "name": "stderr",
     "output_type": "stream",
     "text": [
      "Using TensorFlow backend.\n"
     ]
    }
   ],
   "source": [
    "from keras.preprocessing import sequence\n",
    "from keras.models import Sequential\n",
    "from keras.layers import Dense, Embedding, Dropout, Bidirectional\n",
    "from keras.layers import LSTM\n",
    "from keras.layers import Conv1D, MaxPooling1D\n",
    "from keras.models import model_from_json"
   ]
  },
  {
   "cell_type": "code",
   "execution_count": 2,
   "metadata": {
    "collapsed": true
   },
   "outputs": [],
   "source": [
    "import numpy as np\n",
    "import pandas as pd"
   ]
  },
  {
   "cell_type": "code",
   "execution_count": 3,
   "metadata": {
    "collapsed": true
   },
   "outputs": [],
   "source": [
    "import pickle"
   ]
  },
  {
   "cell_type": "code",
   "execution_count": 4,
   "metadata": {
    "collapsed": true
   },
   "outputs": [],
   "source": [
    "from sklearn.model_selection import train_test_split\n",
    "from sklearn.model_selection import StratifiedKFold"
   ]
  },
  {
   "cell_type": "markdown",
   "metadata": {},
   "source": [
    "Embeding"
   ]
  },
  {
   "cell_type": "code",
   "execution_count": 5,
   "metadata": {
    "collapsed": true
   },
   "outputs": [],
   "source": [
    "max_features = 20000\n",
    "maxlen = 20\n",
    "embedding_size = 128"
   ]
  },
  {
   "cell_type": "markdown",
   "metadata": {},
   "source": [
    "Convolution"
   ]
  },
  {
   "cell_type": "code",
   "execution_count": 6,
   "metadata": {
    "collapsed": true
   },
   "outputs": [],
   "source": [
    "kernel_size = 5\n",
    "filters = 64\n",
    "pool_size = 4"
   ]
  },
  {
   "cell_type": "markdown",
   "metadata": {},
   "source": [
    "LSTM"
   ]
  },
  {
   "cell_type": "code",
   "execution_count": 7,
   "metadata": {
    "collapsed": true
   },
   "outputs": [],
   "source": [
    "lstm_output_size = 128"
   ]
  },
  {
   "cell_type": "markdown",
   "metadata": {},
   "source": [
    "Training"
   ]
  },
  {
   "cell_type": "code",
   "execution_count": 8,
   "metadata": {
    "collapsed": true
   },
   "outputs": [],
   "source": [
    "batch_size = 32\n",
    "epochs = 20"
   ]
  },
  {
   "cell_type": "code",
   "execution_count": 9,
   "metadata": {
    "collapsed": true
   },
   "outputs": [],
   "source": [
    "def load_ds(path):\n",
    "    vecfile = open(path,'r')\n",
    "    return pickle.load(vecfile)"
   ]
  },
  {
   "cell_type": "code",
   "execution_count": 10,
   "metadata": {},
   "outputs": [
    {
     "data": {
      "text/html": [
       "<div>\n",
       "<style>\n",
       "    .dataframe thead tr:only-child th {\n",
       "        text-align: right;\n",
       "    }\n",
       "\n",
       "    .dataframe thead th {\n",
       "        text-align: left;\n",
       "    }\n",
       "\n",
       "    .dataframe tbody tr th {\n",
       "        vertical-align: top;\n",
       "    }\n",
       "</style>\n",
       "<table border=\"1\" class=\"dataframe\">\n",
       "  <thead>\n",
       "    <tr style=\"text-align: right;\">\n",
       "      <th></th>\n",
       "      <th>category</th>\n",
       "      <th>tweet_sec</th>\n",
       "    </tr>\n",
       "  </thead>\n",
       "  <tbody>\n",
       "    <tr>\n",
       "      <th>0</th>\n",
       "      <td>1</td>\n",
       "      <td>[268, 459, 146, 2, 470, 4493]</td>\n",
       "    </tr>\n",
       "    <tr>\n",
       "      <th>1</th>\n",
       "      <td>1</td>\n",
       "      <td>[2264, 7, 9784, 3050]</td>\n",
       "    </tr>\n",
       "    <tr>\n",
       "      <th>2</th>\n",
       "      <td>0</td>\n",
       "      <td>[80, 172, 35, 1, 14, 39, 2265, 7, 9785, 2266, ...</td>\n",
       "    </tr>\n",
       "    <tr>\n",
       "      <th>3</th>\n",
       "      <td>1</td>\n",
       "      <td>[107, 41, 21, 471, 9, 659, 5, 216, 300, 5, 7, ...</td>\n",
       "    </tr>\n",
       "    <tr>\n",
       "      <th>4</th>\n",
       "      <td>1</td>\n",
       "      <td>[562, 106, 29, 563, 29, 422]</td>\n",
       "    </tr>\n",
       "  </tbody>\n",
       "</table>\n",
       "</div>"
      ],
      "text/plain": [
       "   category                                          tweet_sec\n",
       "0         1                      [268, 459, 146, 2, 470, 4493]\n",
       "1         1                              [2264, 7, 9784, 3050]\n",
       "2         0  [80, 172, 35, 1, 14, 39, 2265, 7, 9785, 2266, ...\n",
       "3         1  [107, 41, 21, 471, 9, 659, 5, 216, 300, 5, 7, ...\n",
       "4         1                       [562, 106, 29, 563, 29, 422]"
      ]
     },
     "execution_count": 10,
     "metadata": {},
     "output_type": "execute_result"
    }
   ],
   "source": [
    "ds = load_ds('./data/ann/vectors_50_50.txt')\n",
    "ds.head()"
   ]
  },
  {
   "cell_type": "code",
   "execution_count": 11,
   "metadata": {},
   "outputs": [
    {
     "name": "stdout",
     "output_type": "stream",
     "text": [
      "Pad sequences (samples x time)\n",
      "('tweet shape:', (15306, 20))\n"
     ]
    }
   ],
   "source": [
    "print('Pad sequences (samples x time)')\n",
    "tweet_sec = sequence.pad_sequences(ds['tweet_sec'], maxlen=maxlen)\n",
    "print('tweet shape:', tweet_sec.shape)"
   ]
  },
  {
   "cell_type": "code",
   "execution_count": 12,
   "metadata": {
    "collapsed": true
   },
   "outputs": [],
   "source": [
    "def build_arch():\n",
    "    print('Build model...')\n",
    "    model = Sequential()\n",
    "    model.add(Embedding(max_features, embedding_size, input_length=maxlen))\n",
    "    model.add(Dropout(0.25))\n",
    "    model.add(Conv1D(filters,\n",
    "                 kernel_size,\n",
    "                 padding='valid',\n",
    "                 activation='relu',\n",
    "                 strides=1))\n",
    "    model.add(MaxPooling1D(pool_size=pool_size))\n",
    "    model.add(Bidirectional(\n",
    "                LSTM(lstm_output_size,\n",
    "                   activation='tanh', \n",
    "                   recurrent_activation='hard_sigmoid', \n",
    "                   dropout=0.2, \n",
    "                   recurrent_dropout=0.2\n",
    "                    )\n",
    "                )\n",
    "             )\n",
    "    model.add(Dense(1, activation='sigmoid'))\n",
    "    return model"
   ]
  },
  {
   "cell_type": "code",
   "execution_count": 13,
   "metadata": {
    "collapsed": true
   },
   "outputs": [],
   "source": [
    "def cross_val(tweet_sec, target, nFolds):\n",
    "    kFold = StratifiedKFold(n_splits=nFolds, shuffle=True)\n",
    "    scores = []\n",
    "    for train, test in kFold.split(tweet_sec,target):\n",
    "        model = build_arch()\n",
    "        model.compile(loss='binary_crossentropy', optimizer='adam', metrics=['accuracy'])\n",
    "        model.fit(tweet_sec[train],\n",
    "                  target[train],\n",
    "                  batch_size=batch_size,\n",
    "                  epochs=epochs,verbose=1,\n",
    "                  validation_split=0.1)\n",
    "        score, acc = model.evaluate(tweet_sec[test], target[test],batch_size=batch_size)\n",
    "        scores.append(acc * 100)\n",
    "    return scores   "
   ]
  },
  {
   "cell_type": "code",
   "execution_count": 14,
   "metadata": {
    "collapsed": true
   },
   "outputs": [],
   "source": [
    "#Training with the 100% of the data set\n",
    "def train_model(tweet_sec,target):\n",
    "    model = build_arch()\n",
    "    model.compile(loss='binary_crossentropy', optimizer='adam', metrics=['accuracy'])\n",
    "    return model.fit(tweet_sec, target,\n",
    "              batch_size=batch_size,\n",
    "              epochs=epochs,\n",
    "              verbose=1)        "
   ]
  },
  {
   "cell_type": "code",
   "execution_count": 15,
   "metadata": {
    "scrolled": true
   },
   "outputs": [
    {
     "name": "stdout",
     "output_type": "stream",
     "text": [
      "Build model...\n",
      "Train on 12396 samples, validate on 1378 samples\n",
      "Epoch 1/20\n",
      "12396/12396 [==============================] - 25s - loss: 0.4010 - acc: 0.8145 - val_loss: 0.3048 - val_acc: 0.8803\n",
      "Epoch 2/20\n",
      "12396/12396 [==============================] - 25s - loss: 0.1843 - acc: 0.9329 - val_loss: 0.2955 - val_acc: 0.8882\n",
      "Epoch 3/20\n",
      "12396/12396 [==============================] - 23s - loss: 0.0873 - acc: 0.9707 - val_loss: 0.3664 - val_acc: 0.8578\n",
      "Epoch 4/20\n",
      "12396/12396 [==============================] - 23s - loss: 0.0382 - acc: 0.9888 - val_loss: 0.5516 - val_acc: 0.8549\n",
      "Epoch 5/20\n",
      "12396/12396 [==============================] - 23s - loss: 0.0207 - acc: 0.9939 - val_loss: 0.5192 - val_acc: 0.8672\n",
      "Epoch 6/20\n",
      "12396/12396 [==============================] - 23s - loss: 0.0149 - acc: 0.9956 - val_loss: 0.6437 - val_acc: 0.8534\n",
      "Epoch 7/20\n",
      "12396/12396 [==============================] - 23s - loss: 0.0109 - acc: 0.9965 - val_loss: 0.7875 - val_acc: 0.8578\n",
      "Epoch 8/20\n",
      "12396/12396 [==============================] - 23s - loss: 0.0118 - acc: 0.9960 - val_loss: 0.7815 - val_acc: 0.8512\n",
      "Epoch 9/20\n",
      "12396/12396 [==============================] - 23s - loss: 0.0117 - acc: 0.9958 - val_loss: 0.7675 - val_acc: 0.8607\n",
      "Epoch 10/20\n",
      "12396/12396 [==============================] - 23s - loss: 0.0058 - acc: 0.9981 - val_loss: 0.8300 - val_acc: 0.8556\n",
      "Epoch 11/20\n",
      "12396/12396 [==============================] - 23s - loss: 0.0076 - acc: 0.9977 - val_loss: 0.8971 - val_acc: 0.8563\n",
      "Epoch 12/20\n",
      "12396/12396 [==============================] - 23s - loss: 0.0069 - acc: 0.9975 - val_loss: 0.8319 - val_acc: 0.8556\n",
      "Epoch 13/20\n",
      "12396/12396 [==============================] - 23s - loss: 0.0045 - acc: 0.9983 - val_loss: 1.0330 - val_acc: 0.8527\n",
      "Epoch 14/20\n",
      "12396/12396 [==============================] - 23s - loss: 0.0037 - acc: 0.9985 - val_loss: 0.9554 - val_acc: 0.8592\n",
      "Epoch 15/20\n",
      "12396/12396 [==============================] - 25s - loss: 0.0031 - acc: 0.9989 - val_loss: 1.0332 - val_acc: 0.8403\n",
      "Epoch 16/20\n",
      "12396/12396 [==============================] - 23s - loss: 0.0066 - acc: 0.9976 - val_loss: 0.8863 - val_acc: 0.8498\n",
      "Epoch 17/20\n",
      "12396/12396 [==============================] - 23s - loss: 0.0046 - acc: 0.9985 - val_loss: 1.1413 - val_acc: 0.8498\n",
      "Epoch 18/20\n",
      "12396/12396 [==============================] - 23s - loss: 0.0053 - acc: 0.9982 - val_loss: 1.0530 - val_acc: 0.8520\n",
      "Epoch 19/20\n",
      "12396/12396 [==============================] - 23s - loss: 0.0036 - acc: 0.9987 - val_loss: 1.0829 - val_acc: 0.8491\n",
      "Epoch 20/20\n",
      "12396/12396 [==============================] - 23s - loss: 0.0048 - acc: 0.9984 - val_loss: 1.4579 - val_acc: 0.8440\n",
      "1472/1532 [===========================>..] - ETA: 0sBuild model...\n",
      "Train on 12396 samples, validate on 1378 samples\n",
      "Epoch 1/20\n",
      "12396/12396 [==============================] - 24s - loss: 0.4012 - acc: 0.8166 - val_loss: 0.2839 - val_acc: 0.8774\n",
      "Epoch 2/20\n",
      "12396/12396 [==============================] - 24s - loss: 0.1836 - acc: 0.9313 - val_loss: 0.3342 - val_acc: 0.8679\n",
      "Epoch 3/20\n",
      "12396/12396 [==============================] - 24s - loss: 0.0850 - acc: 0.9716 - val_loss: 0.4150 - val_acc: 0.8607\n",
      "Epoch 4/20\n",
      "12396/12396 [==============================] - 24s - loss: 0.0431 - acc: 0.9859 - val_loss: 0.4897 - val_acc: 0.8447\n",
      "Epoch 5/20\n",
      "12396/12396 [==============================] - 24s - loss: 0.0250 - acc: 0.9919 - val_loss: 0.6734 - val_acc: 0.8374\n",
      "Epoch 6/20\n",
      "12396/12396 [==============================] - 24s - loss: 0.0152 - acc: 0.9952 - val_loss: 0.6967 - val_acc: 0.8418\n",
      "Epoch 7/20\n",
      "12396/12396 [==============================] - 23s - loss: 0.0122 - acc: 0.9965 - val_loss: 0.8056 - val_acc: 0.8447\n",
      "Epoch 8/20\n",
      "12396/12396 [==============================] - 23s - loss: 0.0093 - acc: 0.9972 - val_loss: 0.8744 - val_acc: 0.8382\n",
      "Epoch 9/20\n",
      "12396/12396 [==============================] - 23s - loss: 0.0089 - acc: 0.9970 - val_loss: 0.8615 - val_acc: 0.8418\n",
      "Epoch 10/20\n",
      "12396/12396 [==============================] - 23s - loss: 0.0066 - acc: 0.9976 - val_loss: 0.8189 - val_acc: 0.8396\n",
      "Epoch 11/20\n",
      "12396/12396 [==============================] - 23s - loss: 0.0052 - acc: 0.9984 - val_loss: 0.9901 - val_acc: 0.8433\n",
      "Epoch 12/20\n",
      "12396/12396 [==============================] - 24s - loss: 0.0105 - acc: 0.9964 - val_loss: 1.0035 - val_acc: 0.8273\n",
      "Epoch 13/20\n",
      "12396/12396 [==============================] - 24s - loss: 0.0070 - acc: 0.9973 - val_loss: 1.0537 - val_acc: 0.8418\n",
      "Epoch 14/20\n",
      "12396/12396 [==============================] - 24s - loss: 0.0048 - acc: 0.9984 - val_loss: 0.9554 - val_acc: 0.8360\n",
      "Epoch 15/20\n",
      "12396/12396 [==============================] - 24s - loss: 0.0034 - acc: 0.9990 - val_loss: 1.3510 - val_acc: 0.8208\n",
      "Epoch 16/20\n",
      "12396/12396 [==============================] - 24s - loss: 0.0032 - acc: 0.9990 - val_loss: 1.2593 - val_acc: 0.8331\n",
      "Epoch 17/20\n",
      "12396/12396 [==============================] - 24s - loss: 0.0062 - acc: 0.9981 - val_loss: 1.1925 - val_acc: 0.8345\n",
      "Epoch 18/20\n",
      "12396/12396 [==============================] - 24s - loss: 0.0050 - acc: 0.9985 - val_loss: 1.0084 - val_acc: 0.8374\n",
      "Epoch 19/20\n",
      "12396/12396 [==============================] - 23s - loss: 0.0069 - acc: 0.9978 - val_loss: 1.0020 - val_acc: 0.8360\n",
      "Epoch 20/20\n",
      "12396/12396 [==============================] - 24s - loss: 0.0036 - acc: 0.9985 - val_loss: 1.1371 - val_acc: 0.8338\n",
      "1376/1532 [=========================>....] - ETA: 0sBuild model...\n",
      "Train on 12396 samples, validate on 1378 samples\n",
      "Epoch 1/20\n",
      "12396/12396 [==============================] - 24s - loss: 0.3965 - acc: 0.8154 - val_loss: 0.2768 - val_acc: 0.8853\n",
      "Epoch 2/20\n",
      "12396/12396 [==============================] - 23s - loss: 0.1836 - acc: 0.9322 - val_loss: 0.3171 - val_acc: 0.8708\n",
      "Epoch 3/20\n",
      "12396/12396 [==============================] - 23s - loss: 0.0853 - acc: 0.9703 - val_loss: 0.4081 - val_acc: 0.8643\n",
      "Epoch 4/20\n",
      "12396/12396 [==============================] - 23s - loss: 0.0422 - acc: 0.9872 - val_loss: 0.5193 - val_acc: 0.8563\n",
      "Epoch 5/20\n",
      "12396/12396 [==============================] - 23s - loss: 0.0224 - acc: 0.9922 - val_loss: 0.5652 - val_acc: 0.8483\n",
      "Epoch 6/20\n",
      "12396/12396 [==============================] - 23s - loss: 0.0148 - acc: 0.9948 - val_loss: 0.6954 - val_acc: 0.8607\n",
      "Epoch 7/20\n",
      "12396/12396 [==============================] - 23s - loss: 0.0085 - acc: 0.9972 - val_loss: 0.7824 - val_acc: 0.8520\n",
      "Epoch 8/20\n",
      "12396/12396 [==============================] - 23s - loss: 0.0078 - acc: 0.9978 - val_loss: 1.0070 - val_acc: 0.8309\n",
      "Epoch 9/20\n",
      "12396/12396 [==============================] - 23s - loss: 0.0100 - acc: 0.9963 - val_loss: 0.8133 - val_acc: 0.8447\n",
      "Epoch 10/20\n",
      "12396/12396 [==============================] - 23s - loss: 0.0058 - acc: 0.9979 - val_loss: 0.9849 - val_acc: 0.8476\n",
      "Epoch 11/20\n",
      "12396/12396 [==============================] - 23s - loss: 0.0062 - acc: 0.9977 - val_loss: 0.8112 - val_acc: 0.8491\n",
      "Epoch 12/20\n",
      "12396/12396 [==============================] - 23s - loss: 0.0045 - acc: 0.9985 - val_loss: 0.9507 - val_acc: 0.8469\n",
      "Epoch 13/20\n",
      "12396/12396 [==============================] - 23s - loss: 0.0034 - acc: 0.9985 - val_loss: 1.0858 - val_acc: 0.8425\n",
      "Epoch 14/20\n",
      "12396/12396 [==============================] - 23s - loss: 0.0050 - acc: 0.9982 - val_loss: 0.9103 - val_acc: 0.8433\n",
      "Epoch 15/20\n",
      "12396/12396 [==============================] - 25s - loss: 0.0052 - acc: 0.9982 - val_loss: 0.9511 - val_acc: 0.8302\n",
      "Epoch 16/20\n",
      "12396/12396 [==============================] - 24s - loss: 0.0061 - acc: 0.9981 - val_loss: 1.0718 - val_acc: 0.8389\n",
      "Epoch 17/20\n",
      "12396/12396 [==============================] - 24s - loss: 0.0055 - acc: 0.9982 - val_loss: 0.9657 - val_acc: 0.8360\n",
      "Epoch 18/20\n",
      "12396/12396 [==============================] - 24s - loss: 0.0047 - acc: 0.9985 - val_loss: 1.0516 - val_acc: 0.8382\n",
      "Epoch 19/20\n",
      "12396/12396 [==============================] - 24s - loss: 0.0024 - acc: 0.9991 - val_loss: 1.1147 - val_acc: 0.8505\n",
      "Epoch 20/20\n",
      "12396/12396 [==============================] - 24s - loss: 0.0028 - acc: 0.9990 - val_loss: 1.2332 - val_acc: 0.8331\n",
      "1376/1532 [=========================>....] - ETA: 0sBuild model...\n",
      "Train on 12398 samples, validate on 1378 samples\n",
      "Epoch 1/20\n"
     ]
    },
    {
     "name": "stdout",
     "output_type": "stream",
     "text": [
      "12398/12398 [==============================] - 24s - loss: 0.3999 - acc: 0.8134 - val_loss: 0.2873 - val_acc: 0.8824\n",
      "Epoch 2/20\n",
      "12398/12398 [==============================] - 23s - loss: 0.1832 - acc: 0.9291 - val_loss: 0.3480 - val_acc: 0.8672\n",
      "Epoch 3/20\n",
      "12398/12398 [==============================] - 23s - loss: 0.0828 - acc: 0.9721 - val_loss: 0.4222 - val_acc: 0.8491\n",
      "Epoch 4/20\n",
      "12398/12398 [==============================] - 23s - loss: 0.0379 - acc: 0.9871 - val_loss: 0.5403 - val_acc: 0.8541\n",
      "Epoch 5/20\n",
      "12398/12398 [==============================] - 23s - loss: 0.0186 - acc: 0.9937 - val_loss: 0.6922 - val_acc: 0.8425\n",
      "Epoch 6/20\n",
      "12398/12398 [==============================] - 23s - loss: 0.0133 - acc: 0.9956 - val_loss: 0.7083 - val_acc: 0.8476\n",
      "Epoch 7/20\n",
      "12398/12398 [==============================] - 23s - loss: 0.0107 - acc: 0.9961 - val_loss: 0.9183 - val_acc: 0.8483\n",
      "Epoch 8/20\n",
      "12398/12398 [==============================] - 23s - loss: 0.0086 - acc: 0.9966 - val_loss: 0.8411 - val_acc: 0.8389\n",
      "Epoch 9/20\n",
      "12398/12398 [==============================] - 23s - loss: 0.0098 - acc: 0.9964 - val_loss: 0.8069 - val_acc: 0.8324\n",
      "Epoch 10/20\n",
      "12398/12398 [==============================] - 23s - loss: 0.0068 - acc: 0.9981 - val_loss: 1.0996 - val_acc: 0.8345\n",
      "Epoch 11/20\n",
      "12398/12398 [==============================] - 23s - loss: 0.0071 - acc: 0.9980 - val_loss: 1.0067 - val_acc: 0.8440\n",
      "Epoch 12/20\n",
      "12398/12398 [==============================] - 23s - loss: 0.0031 - acc: 0.9991 - val_loss: 1.2039 - val_acc: 0.8374\n",
      "Epoch 13/20\n",
      "12398/12398 [==============================] - 23s - loss: 0.0030 - acc: 0.9988 - val_loss: 1.0780 - val_acc: 0.8462\n",
      "Epoch 14/20\n",
      "12398/12398 [==============================] - 23s - loss: 0.0069 - acc: 0.9981 - val_loss: 1.1711 - val_acc: 0.8208\n",
      "Epoch 15/20\n",
      "12398/12398 [==============================] - 23s - loss: 0.0063 - acc: 0.9982 - val_loss: 0.9717 - val_acc: 0.8440\n",
      "Epoch 16/20\n",
      "12398/12398 [==============================] - 23s - loss: 0.0063 - acc: 0.9983 - val_loss: 1.0380 - val_acc: 0.8447\n",
      "Epoch 17/20\n",
      "12398/12398 [==============================] - 23s - loss: 0.0047 - acc: 0.9984 - val_loss: 1.1518 - val_acc: 0.8389\n",
      "Epoch 18/20\n",
      "12398/12398 [==============================] - 23s - loss: 0.0052 - acc: 0.9983 - val_loss: 0.9476 - val_acc: 0.8374\n",
      "Epoch 19/20\n",
      "12398/12398 [==============================] - 23s - loss: 0.0033 - acc: 0.9989 - val_loss: 0.9777 - val_acc: 0.8324\n",
      "Epoch 20/20\n",
      "12398/12398 [==============================] - 23s - loss: 0.0028 - acc: 0.9990 - val_loss: 1.3000 - val_acc: 0.8244\n",
      "1312/1530 [========================>.....] - ETA: 0sBuild model...\n",
      "Train on 12398 samples, validate on 1378 samples\n",
      "Epoch 1/20\n",
      "12398/12398 [==============================] - 24s - loss: 0.4084 - acc: 0.8086 - val_loss: 0.3035 - val_acc: 0.8795\n",
      "Epoch 2/20\n",
      "12398/12398 [==============================] - 23s - loss: 0.1828 - acc: 0.9315 - val_loss: 0.3043 - val_acc: 0.8774\n",
      "Epoch 3/20\n",
      "12398/12398 [==============================] - 23s - loss: 0.0884 - acc: 0.9710 - val_loss: 0.4269 - val_acc: 0.8549\n",
      "Epoch 4/20\n",
      "12398/12398 [==============================] - 23s - loss: 0.0386 - acc: 0.9877 - val_loss: 0.5473 - val_acc: 0.8462\n",
      "Epoch 5/20\n",
      "12398/12398 [==============================] - 23s - loss: 0.0197 - acc: 0.9939 - val_loss: 0.6629 - val_acc: 0.8498\n",
      "Epoch 6/20\n",
      "12398/12398 [==============================] - 23s - loss: 0.0109 - acc: 0.9962 - val_loss: 0.7050 - val_acc: 0.8512\n",
      "Epoch 7/20\n",
      "12398/12398 [==============================] - 23s - loss: 0.0116 - acc: 0.9960 - val_loss: 0.6980 - val_acc: 0.8498\n",
      "Epoch 8/20\n",
      "12398/12398 [==============================] - 23s - loss: 0.0136 - acc: 0.9948 - val_loss: 0.8039 - val_acc: 0.8418\n",
      "Epoch 9/20\n",
      "12398/12398 [==============================] - 23s - loss: 0.0064 - acc: 0.9977 - val_loss: 0.9459 - val_acc: 0.8389\n",
      "Epoch 10/20\n",
      "12398/12398 [==============================] - 23s - loss: 0.0059 - acc: 0.9983 - val_loss: 0.8724 - val_acc: 0.8491\n",
      "Epoch 11/20\n",
      "12398/12398 [==============================] - 23s - loss: 0.0077 - acc: 0.9975 - val_loss: 0.8759 - val_acc: 0.8440\n",
      "Epoch 12/20\n",
      "12398/12398 [==============================] - 23s - loss: 0.0076 - acc: 0.9968 - val_loss: 0.9477 - val_acc: 0.8454\n",
      "Epoch 13/20\n",
      "12398/12398 [==============================] - 23s - loss: 0.0033 - acc: 0.9987 - val_loss: 1.1595 - val_acc: 0.8244\n",
      "Epoch 14/20\n",
      "12398/12398 [==============================] - 23s - loss: 0.0077 - acc: 0.9975 - val_loss: 0.9751 - val_acc: 0.8396\n",
      "Epoch 15/20\n",
      "12398/12398 [==============================] - 23s - loss: 0.0046 - acc: 0.9985 - val_loss: 0.9901 - val_acc: 0.8280\n",
      "Epoch 16/20\n",
      "12398/12398 [==============================] - 23s - loss: 0.0037 - acc: 0.9987 - val_loss: 1.1749 - val_acc: 0.8433\n",
      "Epoch 17/20\n",
      "12398/12398 [==============================] - 23s - loss: 0.0019 - acc: 0.9994 - val_loss: 1.4810 - val_acc: 0.8266\n",
      "Epoch 18/20\n",
      "12398/12398 [==============================] - 23s - loss: 0.0051 - acc: 0.9980 - val_loss: 1.4086 - val_acc: 0.8287\n",
      "Epoch 19/20\n",
      "12398/12398 [==============================] - 23s - loss: 0.0050 - acc: 0.9979 - val_loss: 1.0737 - val_acc: 0.8389\n",
      "Epoch 20/20\n",
      "12398/12398 [==============================] - 23s - loss: 0.0037 - acc: 0.9989 - val_loss: 1.1190 - val_acc: 0.8338\n",
      "1408/1530 [==========================>...] - ETA: 0sBuild model...\n",
      "Train on 12398 samples, validate on 1378 samples\n",
      "Epoch 1/20\n",
      "12398/12398 [==============================] - 24s - loss: 0.4013 - acc: 0.8133 - val_loss: 0.2943 - val_acc: 0.8846\n",
      "Epoch 2/20\n",
      "12398/12398 [==============================] - 23s - loss: 0.1804 - acc: 0.9339 - val_loss: 0.3397 - val_acc: 0.8621\n",
      "Epoch 3/20\n",
      "12398/12398 [==============================] - 23s - loss: 0.0867 - acc: 0.9703 - val_loss: 0.4132 - val_acc: 0.8621\n",
      "Epoch 4/20\n",
      "12398/12398 [==============================] - 23s - loss: 0.0393 - acc: 0.9879 - val_loss: 0.5129 - val_acc: 0.8498\n",
      "Epoch 5/20\n",
      "12398/12398 [==============================] - 23s - loss: 0.0231 - acc: 0.9926 - val_loss: 0.6105 - val_acc: 0.8433\n",
      "Epoch 6/20\n",
      "12398/12398 [==============================] - 23s - loss: 0.0133 - acc: 0.9953 - val_loss: 0.7612 - val_acc: 0.8389\n",
      "Epoch 7/20\n",
      "12398/12398 [==============================] - 23s - loss: 0.0127 - acc: 0.9957 - val_loss: 0.7560 - val_acc: 0.8512\n",
      "Epoch 8/20\n",
      "12398/12398 [==============================] - 23s - loss: 0.0114 - acc: 0.9960 - val_loss: 0.8699 - val_acc: 0.8382\n",
      "Epoch 9/20\n",
      "12398/12398 [==============================] - 23s - loss: 0.0111 - acc: 0.9964 - val_loss: 0.7665 - val_acc: 0.8440\n",
      "Epoch 10/20\n",
      "12398/12398 [==============================] - 23s - loss: 0.0058 - acc: 0.9981 - val_loss: 0.9756 - val_acc: 0.8331\n",
      "Epoch 11/20\n",
      "12398/12398 [==============================] - 23s - loss: 0.0059 - acc: 0.9981 - val_loss: 0.9383 - val_acc: 0.8440\n",
      "Epoch 12/20\n",
      "12398/12398 [==============================] - 23s - loss: 0.0080 - acc: 0.9972 - val_loss: 0.8749 - val_acc: 0.8433\n",
      "Epoch 13/20\n",
      "12398/12398 [==============================] - 23s - loss: 0.0053 - acc: 0.9985 - val_loss: 0.9214 - val_acc: 0.8425\n",
      "Epoch 14/20\n",
      "12398/12398 [==============================] - 23s - loss: 0.0075 - acc: 0.9975 - val_loss: 1.0038 - val_acc: 0.8433\n",
      "Epoch 15/20\n",
      "12398/12398 [==============================] - 23s - loss: 0.0054 - acc: 0.9984 - val_loss: 1.0015 - val_acc: 0.8425\n",
      "Epoch 16/20\n",
      "12398/12398 [==============================] - 23s - loss: 0.0052 - acc: 0.9979 - val_loss: 1.0382 - val_acc: 0.8382\n",
      "Epoch 17/20\n",
      "12398/12398 [==============================] - 23s - loss: 0.0058 - acc: 0.9981 - val_loss: 1.1285 - val_acc: 0.8374\n",
      "Epoch 18/20\n",
      "12398/12398 [==============================] - 23s - loss: 0.0045 - acc: 0.9980 - val_loss: 1.1506 - val_acc: 0.8360\n",
      "Epoch 19/20\n",
      "12398/12398 [==============================] - 23s - loss: 0.0044 - acc: 0.9985 - val_loss: 1.0662 - val_acc: 0.8353\n",
      "Epoch 20/20\n",
      "12398/12398 [==============================] - 23s - loss: 0.0020 - acc: 0.9994 - val_loss: 1.1176 - val_acc: 0.8433\n",
      "1376/1530 [=========================>....] - ETA: 0sBuild model...\n",
      "Train on 12398 samples, validate on 1378 samples\n",
      "Epoch 1/20\n",
      "12398/12398 [==============================] - 25s - loss: 0.3958 - acc: 0.8139 - val_loss: 0.2791 - val_acc: 0.8861\n",
      "Epoch 2/20\n"
     ]
    },
    {
     "name": "stdout",
     "output_type": "stream",
     "text": [
      "12398/12398 [==============================] - 23s - loss: 0.1830 - acc: 0.9321 - val_loss: 0.2994 - val_acc: 0.8716\n",
      "Epoch 3/20\n",
      "12398/12398 [==============================] - 23s - loss: 0.0784 - acc: 0.9738 - val_loss: 0.4816 - val_acc: 0.8512\n",
      "Epoch 4/20\n",
      "12398/12398 [==============================] - 23s - loss: 0.0342 - acc: 0.9894 - val_loss: 0.5464 - val_acc: 0.8462\n",
      "Epoch 5/20\n",
      "12398/12398 [==============================] - 23s - loss: 0.0186 - acc: 0.9940 - val_loss: 0.5823 - val_acc: 0.8454\n",
      "Epoch 6/20\n",
      "12398/12398 [==============================] - 23s - loss: 0.0110 - acc: 0.9964 - val_loss: 0.7339 - val_acc: 0.8527\n",
      "Epoch 7/20\n",
      "12398/12398 [==============================] - 23s - loss: 0.0097 - acc: 0.9968 - val_loss: 0.9143 - val_acc: 0.8345\n",
      "Epoch 8/20\n",
      "12398/12398 [==============================] - 23s - loss: 0.0088 - acc: 0.9969 - val_loss: 0.9416 - val_acc: 0.8491\n",
      "Epoch 9/20\n",
      "12398/12398 [==============================] - 23s - loss: 0.0085 - acc: 0.9972 - val_loss: 0.7976 - val_acc: 0.8469\n",
      "Epoch 10/20\n",
      "12398/12398 [==============================] - 23s - loss: 0.0085 - acc: 0.9970 - val_loss: 0.8966 - val_acc: 0.8462\n",
      "Epoch 11/20\n",
      "12398/12398 [==============================] - 23s - loss: 0.0067 - acc: 0.9977 - val_loss: 0.9936 - val_acc: 0.8512\n",
      "Epoch 12/20\n",
      "12398/12398 [==============================] - 23s - loss: 0.0059 - acc: 0.9983 - val_loss: 0.9633 - val_acc: 0.8447\n",
      "Epoch 13/20\n",
      "12398/12398 [==============================] - 23s - loss: 0.0050 - acc: 0.9980 - val_loss: 1.0323 - val_acc: 0.8440\n",
      "Epoch 14/20\n",
      "12398/12398 [==============================] - 23s - loss: 0.0041 - acc: 0.9984 - val_loss: 1.1375 - val_acc: 0.8367\n",
      "Epoch 15/20\n",
      "12398/12398 [==============================] - 23s - loss: 0.0078 - acc: 0.9973 - val_loss: 0.9296 - val_acc: 0.8338\n",
      "Epoch 16/20\n",
      "12398/12398 [==============================] - 23s - loss: 0.0031 - acc: 0.9991 - val_loss: 1.1084 - val_acc: 0.8447\n",
      "Epoch 17/20\n",
      "12398/12398 [==============================] - 23s - loss: 0.0065 - acc: 0.9982 - val_loss: 0.9921 - val_acc: 0.8367\n",
      "Epoch 18/20\n",
      "12398/12398 [==============================] - 23s - loss: 0.0035 - acc: 0.9990 - val_loss: 1.2421 - val_acc: 0.8360\n",
      "Epoch 19/20\n",
      "12398/12398 [==============================] - 23s - loss: 0.0018 - acc: 0.9994 - val_loss: 1.2154 - val_acc: 0.8396\n",
      "Epoch 20/20\n",
      "12398/12398 [==============================] - 23s - loss: 0.0049 - acc: 0.9987 - val_loss: 1.0737 - val_acc: 0.8353\n",
      "1504/1530 [============================>.] - ETA: 0sBuild model...\n",
      "Train on 12398 samples, validate on 1378 samples\n",
      "Epoch 1/20\n",
      "12398/12398 [==============================] - 24s - loss: 0.4060 - acc: 0.8130 - val_loss: 0.2774 - val_acc: 0.8832\n",
      "Epoch 2/20\n",
      "12398/12398 [==============================] - 23s - loss: 0.1839 - acc: 0.9318 - val_loss: 0.3048 - val_acc: 0.8774\n",
      "Epoch 3/20\n",
      "12398/12398 [==============================] - 23s - loss: 0.0851 - acc: 0.9709 - val_loss: 0.4268 - val_acc: 0.8599\n",
      "Epoch 4/20\n",
      "12398/12398 [==============================] - 23s - loss: 0.0423 - acc: 0.9877 - val_loss: 0.4794 - val_acc: 0.8614\n",
      "Epoch 5/20\n",
      "12398/12398 [==============================] - 23s - loss: 0.0234 - acc: 0.9927 - val_loss: 0.6894 - val_acc: 0.8433\n",
      "Epoch 6/20\n",
      "12398/12398 [==============================] - 23s - loss: 0.0164 - acc: 0.9941 - val_loss: 0.6849 - val_acc: 0.8505\n",
      "Epoch 7/20\n",
      "12398/12398 [==============================] - 23s - loss: 0.0120 - acc: 0.9957 - val_loss: 0.7061 - val_acc: 0.8520\n",
      "Epoch 8/20\n",
      "12398/12398 [==============================] - 23s - loss: 0.0081 - acc: 0.9973 - val_loss: 0.8877 - val_acc: 0.8592\n",
      "Epoch 9/20\n",
      "12398/12398 [==============================] - 23s - loss: 0.0098 - acc: 0.9962 - val_loss: 0.8927 - val_acc: 0.8469\n",
      "Epoch 10/20\n",
      "12398/12398 [==============================] - 23s - loss: 0.0083 - acc: 0.9969 - val_loss: 0.9390 - val_acc: 0.8512\n",
      "Epoch 11/20\n",
      "12398/12398 [==============================] - 23s - loss: 0.0081 - acc: 0.9973 - val_loss: 0.9327 - val_acc: 0.8411\n",
      "Epoch 12/20\n",
      "12398/12398 [==============================] - 23s - loss: 0.0079 - acc: 0.9974 - val_loss: 1.0080 - val_acc: 0.8309\n",
      "Epoch 13/20\n",
      "12398/12398 [==============================] - 23s - loss: 0.0062 - acc: 0.9981 - val_loss: 0.9370 - val_acc: 0.8302\n",
      "Epoch 14/20\n",
      "12398/12398 [==============================] - 23s - loss: 0.0048 - acc: 0.9982 - val_loss: 0.9590 - val_acc: 0.8345\n",
      "Epoch 15/20\n",
      "12398/12398 [==============================] - 23s - loss: 0.0040 - acc: 0.9988 - val_loss: 0.9350 - val_acc: 0.8411\n",
      "Epoch 16/20\n",
      "12398/12398 [==============================] - 23s - loss: 0.0027 - acc: 0.9992 - val_loss: 1.2746 - val_acc: 0.8360\n",
      "Epoch 17/20\n",
      "12398/12398 [==============================] - 23s - loss: 0.0055 - acc: 0.9984 - val_loss: 0.8367 - val_acc: 0.8476\n",
      "Epoch 18/20\n",
      "12398/12398 [==============================] - 23s - loss: 0.0032 - acc: 0.9990 - val_loss: 1.1056 - val_acc: 0.8353\n",
      "Epoch 19/20\n",
      "12398/12398 [==============================] - 23s - loss: 0.0024 - acc: 0.9992 - val_loss: 1.2407 - val_acc: 0.8353\n",
      "Epoch 20/20\n",
      "12398/12398 [==============================] - 23s - loss: 0.0027 - acc: 0.9992 - val_loss: 1.1474 - val_acc: 0.8403\n",
      "1408/1530 [==========================>...] - ETA: 0sBuild model...\n",
      "Train on 12398 samples, validate on 1378 samples\n",
      "Epoch 1/20\n",
      "12398/12398 [==============================] - 24s - loss: 0.4074 - acc: 0.8038 - val_loss: 0.2861 - val_acc: 0.8824\n",
      "Epoch 2/20\n",
      "12398/12398 [==============================] - 23s - loss: 0.1811 - acc: 0.9302 - val_loss: 0.3101 - val_acc: 0.8708\n",
      "Epoch 3/20\n",
      "12398/12398 [==============================] - 23s - loss: 0.0787 - acc: 0.9741 - val_loss: 0.4524 - val_acc: 0.8614\n",
      "Epoch 4/20\n",
      "12398/12398 [==============================] - 23s - loss: 0.0365 - acc: 0.9886 - val_loss: 0.5662 - val_acc: 0.8498\n",
      "Epoch 5/20\n",
      "12398/12398 [==============================] - 23s - loss: 0.0166 - acc: 0.9950 - val_loss: 0.6923 - val_acc: 0.8621\n",
      "Epoch 6/20\n",
      "12398/12398 [==============================] - 23s - loss: 0.0121 - acc: 0.9956 - val_loss: 0.7530 - val_acc: 0.8505\n",
      "Epoch 7/20\n",
      "12398/12398 [==============================] - 23s - loss: 0.0130 - acc: 0.9952 - val_loss: 0.7262 - val_acc: 0.8520\n",
      "Epoch 8/20\n",
      "12398/12398 [==============================] - 23s - loss: 0.0070 - acc: 0.9974 - val_loss: 0.9155 - val_acc: 0.8382\n",
      "Epoch 9/20\n",
      "12398/12398 [==============================] - 23s - loss: 0.0075 - acc: 0.9975 - val_loss: 0.8726 - val_acc: 0.8425\n",
      "Epoch 10/20\n",
      "12398/12398 [==============================] - 23s - loss: 0.0077 - acc: 0.9973 - val_loss: 0.8704 - val_acc: 0.8520\n",
      "Epoch 11/20\n",
      "12398/12398 [==============================] - 23s - loss: 0.0076 - acc: 0.9972 - val_loss: 0.8420 - val_acc: 0.8418\n",
      "Epoch 12/20\n",
      "12398/12398 [==============================] - 23s - loss: 0.0067 - acc: 0.9978 - val_loss: 0.9490 - val_acc: 0.8491\n",
      "Epoch 13/20\n",
      "12398/12398 [==============================] - 23s - loss: 0.0048 - acc: 0.9985 - val_loss: 1.1082 - val_acc: 0.8425\n",
      "Epoch 14/20\n",
      "12398/12398 [==============================] - 23s - loss: 0.0071 - acc: 0.9981 - val_loss: 1.0335 - val_acc: 0.8331\n",
      "Epoch 15/20\n",
      "12398/12398 [==============================] - 23s - loss: 0.0043 - acc: 0.9984 - val_loss: 1.1370 - val_acc: 0.8425\n",
      "Epoch 16/20\n",
      "12398/12398 [==============================] - 23s - loss: 0.0023 - acc: 0.9993 - val_loss: 1.1428 - val_acc: 0.8440\n",
      "Epoch 17/20\n",
      "12398/12398 [==============================] - 23s - loss: 0.0024 - acc: 0.9994 - val_loss: 1.1596 - val_acc: 0.8454\n",
      "Epoch 18/20\n",
      "12398/12398 [==============================] - 23s - loss: 0.0034 - acc: 0.9985 - val_loss: 1.3092 - val_acc: 0.8374\n",
      "Epoch 19/20\n",
      "12398/12398 [==============================] - 23s - loss: 0.0052 - acc: 0.9983 - val_loss: 1.1147 - val_acc: 0.8360\n",
      "Epoch 20/20\n",
      "12398/12398 [==============================] - 23s - loss: 0.0041 - acc: 0.9984 - val_loss: 1.1403 - val_acc: 0.8447\n",
      "1440/1530 [===========================>..] - ETA: 0sBuild model...\n",
      "Train on 12398 samples, validate on 1378 samples\n",
      "Epoch 1/20\n",
      "12398/12398 [==============================] - 24s - loss: 0.3946 - acc: 0.8179 - val_loss: 0.2934 - val_acc: 0.8810\n",
      "Epoch 2/20\n",
      "12398/12398 [==============================] - 23s - loss: 0.1799 - acc: 0.9346 - val_loss: 0.3416 - val_acc: 0.8592\n",
      "Epoch 3/20\n"
     ]
    },
    {
     "name": "stdout",
     "output_type": "stream",
     "text": [
      "12398/12398 [==============================] - 22s - loss: 0.0794 - acc: 0.9727 - val_loss: 0.5160 - val_acc: 0.8563\n",
      "Epoch 4/20\n",
      "12398/12398 [==============================] - 23s - loss: 0.0401 - acc: 0.9880 - val_loss: 0.5355 - val_acc: 0.8476\n",
      "Epoch 5/20\n",
      "12398/12398 [==============================] - 22s - loss: 0.0200 - acc: 0.9940 - val_loss: 0.6561 - val_acc: 0.8498\n",
      "Epoch 6/20\n",
      "12398/12398 [==============================] - 23s - loss: 0.0145 - acc: 0.9951 - val_loss: 0.8066 - val_acc: 0.8316\n",
      "Epoch 7/20\n",
      "12398/12398 [==============================] - 23s - loss: 0.0101 - acc: 0.9971 - val_loss: 0.9148 - val_acc: 0.8454\n",
      "Epoch 8/20\n",
      "12398/12398 [==============================] - 23s - loss: 0.0082 - acc: 0.9975 - val_loss: 1.0241 - val_acc: 0.8374\n",
      "Epoch 9/20\n",
      "12398/12398 [==============================] - 23s - loss: 0.0093 - acc: 0.9971 - val_loss: 0.8337 - val_acc: 0.8483\n",
      "Epoch 10/20\n",
      "12398/12398 [==============================] - 23s - loss: 0.0058 - acc: 0.9978 - val_loss: 1.0116 - val_acc: 0.8345\n",
      "Epoch 11/20\n",
      "12398/12398 [==============================] - 23s - loss: 0.0086 - acc: 0.9977 - val_loss: 0.8928 - val_acc: 0.8440\n",
      "Epoch 12/20\n",
      "12398/12398 [==============================] - 22s - loss: 0.0054 - acc: 0.9980 - val_loss: 1.1218 - val_acc: 0.8302\n",
      "Epoch 13/20\n",
      "12398/12398 [==============================] - 22s - loss: 0.0069 - acc: 0.9973 - val_loss: 1.0236 - val_acc: 0.8447\n",
      "Epoch 14/20\n",
      "12398/12398 [==============================] - 23s - loss: 0.0050 - acc: 0.9983 - val_loss: 1.0879 - val_acc: 0.8382\n",
      "Epoch 15/20\n",
      "12398/12398 [==============================] - 23s - loss: 0.0062 - acc: 0.9981 - val_loss: 0.9632 - val_acc: 0.8505\n",
      "Epoch 16/20\n",
      "12398/12398 [==============================] - 23s - loss: 0.0038 - acc: 0.9985 - val_loss: 1.1328 - val_acc: 0.8316\n",
      "Epoch 17/20\n",
      "12398/12398 [==============================] - 23s - loss: 0.0020 - acc: 0.9994 - val_loss: 1.3761 - val_acc: 0.8244\n",
      "Epoch 18/20\n",
      "12398/12398 [==============================] - 22s - loss: 0.0041 - acc: 0.9989 - val_loss: 1.2670 - val_acc: 0.8316\n",
      "Epoch 19/20\n",
      "12398/12398 [==============================] - 23s - loss: 0.0036 - acc: 0.9988 - val_loss: 1.1087 - val_acc: 0.8258\n",
      "Epoch 20/20\n",
      "12398/12398 [==============================] - 23s - loss: 0.0053 - acc: 0.9981 - val_loss: 1.1208 - val_acc: 0.8324\n",
      "1504/1530 [============================>.] - ETA: 0s"
     ]
    }
   ],
   "source": [
    "results = cross_val(tweet_sec,ds['category'],10)"
   ]
  },
  {
   "cell_type": "code",
   "execution_count": 16,
   "metadata": {},
   "outputs": [
    {
     "name": "stdout",
     "output_type": "stream",
     "text": [
      "Acc: 84.29 (+/- 1.28)\n"
     ]
    }
   ],
   "source": [
    "print(\"Acc: %.2f (+/- %.2f)\" %(np.mean(results), np.std(results)))"
   ]
  },
  {
   "cell_type": "code",
   "execution_count": 17,
   "metadata": {},
   "outputs": [
    {
     "name": "stdout",
     "output_type": "stream",
     "text": [
      "Model 1, acc: 83.22 \n",
      "Model 2, acc: 85.51 \n",
      "Model 3, acc: 84.73 \n",
      "Model 4, acc: 83.20 \n",
      "Model 5, acc: 85.10 \n",
      "Model 6, acc: 85.23 \n",
      "Model 7, acc: 81.44 \n",
      "Model 8, acc: 83.92 \n",
      "Model 9, acc: 85.88 \n",
      "Model 10, acc: 84.64 \n"
     ]
    }
   ],
   "source": [
    "for i in range (0,len(results)):\n",
    "    print \"Model %d, acc: %.2f \" %(i+1,results[i])"
   ]
  },
  {
   "cell_type": "code",
   "execution_count": 18,
   "metadata": {},
   "outputs": [
    {
     "name": "stdout",
     "output_type": "stream",
     "text": [
      "Build model...\n",
      "Epoch 1/20\n",
      "15306/15306 [==============================] - 29s - loss: 0.3740 - acc: 0.8325    \n",
      "Epoch 2/20\n",
      "15306/15306 [==============================] - 27s - loss: 0.1787 - acc: 0.9326    \n",
      "Epoch 3/20\n",
      "15306/15306 [==============================] - 28s - loss: 0.0830 - acc: 0.9706    \n",
      "Epoch 4/20\n",
      "15306/15306 [==============================] - 28s - loss: 0.0402 - acc: 0.9869    \n",
      "Epoch 5/20\n",
      "15306/15306 [==============================] - 28s - loss: 0.0252 - acc: 0.9910    \n",
      "Epoch 6/20\n",
      "15306/15306 [==============================] - 28s - loss: 0.0150 - acc: 0.9950    \n",
      "Epoch 7/20\n",
      "15306/15306 [==============================] - 27s - loss: 0.0108 - acc: 0.9965    \n",
      "Epoch 8/20\n",
      "15306/15306 [==============================] - 28s - loss: 0.0085 - acc: 0.9975    \n",
      "Epoch 9/20\n",
      "15306/15306 [==============================] - 27s - loss: 0.0097 - acc: 0.9962    \n",
      "Epoch 10/20\n",
      "15306/15306 [==============================] - 27s - loss: 0.0077 - acc: 0.9972    \n",
      "Epoch 11/20\n",
      "15306/15306 [==============================] - 27s - loss: 0.0084 - acc: 0.9969    \n",
      "Epoch 12/20\n",
      "15306/15306 [==============================] - 28s - loss: 0.0091 - acc: 0.9970    \n",
      "Epoch 13/20\n",
      "15306/15306 [==============================] - 28s - loss: 0.0042 - acc: 0.9987    \n",
      "Epoch 14/20\n",
      "15306/15306 [==============================] - 27s - loss: 0.0057 - acc: 0.9979    \n",
      "Epoch 15/20\n",
      "15306/15306 [==============================] - 28s - loss: 0.0042 - acc: 0.9988    \n",
      "Epoch 16/20\n",
      "15306/15306 [==============================] - 28s - loss: 0.0045 - acc: 0.9983    \n",
      "Epoch 17/20\n",
      "15306/15306 [==============================] - 28s - loss: 0.0046 - acc: 0.9983    \n",
      "Epoch 18/20\n",
      "15306/15306 [==============================] - 28s - loss: 0.0043 - acc: 0.9987    \n",
      "Epoch 19/20\n",
      "15306/15306 [==============================] - 28s - loss: 0.0037 - acc: 0.9988    \n",
      "Epoch 20/20\n",
      "15306/15306 [==============================] - 28s - loss: 0.0052 - acc: 0.9982    \n"
     ]
    }
   ],
   "source": [
    "trained_model = train_model(tweet_sec,ds['category'])"
   ]
  },
  {
   "cell_type": "code",
   "execution_count": 19,
   "metadata": {
    "collapsed": true
   },
   "outputs": [],
   "source": [
    "model_json = trained_model.model.to_json()\n",
    "with open(\"./data/models/ccn_bi_lstm/bi_lstm_cnn.json\",'w') as json_file:\n",
    "    json_file.write(model_json)\n",
    "trained_model.model.save_weights(\"./data/models/ccn_bi_lstm/bi_lstm_cnn_weights.h5\")"
   ]
  },
  {
   "cell_type": "code",
   "execution_count": 20,
   "metadata": {
    "collapsed": true
   },
   "outputs": [],
   "source": [
    "trained_model.model.save(\"./data/models/ccn_bi_lstm/bi_lstm_cnn.h5\")"
   ]
  }
 ],
 "metadata": {
  "kernelspec": {
   "display_name": "Python(irnoy-env)",
   "language": "python",
   "name": "web"
  },
  "language_info": {
   "codemirror_mode": {
    "name": "ipython",
    "version": 2
   },
   "file_extension": ".py",
   "mimetype": "text/x-python",
   "name": "python",
   "nbconvert_exporter": "python",
   "pygments_lexer": "ipython2",
   "version": "2.7.12"
  }
 },
 "nbformat": 4,
 "nbformat_minor": 2
}
