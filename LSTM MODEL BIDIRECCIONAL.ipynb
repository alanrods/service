{
 "cells": [
  {
   "cell_type": "markdown",
   "metadata": {},
   "source": [
    "## BIDIRECTIONAL LSTM"
   ]
  },
  {
   "cell_type": "code",
   "execution_count": 1,
   "metadata": {},
   "outputs": [
    {
     "name": "stderr",
     "output_type": "stream",
     "text": [
      "Using TensorFlow backend.\n"
     ]
    }
   ],
   "source": [
    "from keras.preprocessing import sequence\n",
    "from keras.models import Sequential\n",
    "from keras.layers import Dense, Embedding, Bidirectional\n",
    "from keras.layers import LSTM"
   ]
  },
  {
   "cell_type": "code",
   "execution_count": 2,
   "metadata": {
    "collapsed": true
   },
   "outputs": [],
   "source": [
    "import numpy as np\n",
    "import pandas as pd"
   ]
  },
  {
   "cell_type": "code",
   "execution_count": 3,
   "metadata": {
    "collapsed": true
   },
   "outputs": [],
   "source": [
    "import pickle"
   ]
  },
  {
   "cell_type": "markdown",
   "metadata": {},
   "source": [
    "Embeding"
   ]
  },
  {
   "cell_type": "code",
   "execution_count": 4,
   "metadata": {
    "collapsed": true
   },
   "outputs": [],
   "source": [
    "max_features = 20000\n",
    "maxlen = 20\n",
    "embedding_size = 128"
   ]
  },
  {
   "cell_type": "markdown",
   "metadata": {},
   "source": [
    "LSTM"
   ]
  },
  {
   "cell_type": "code",
   "execution_count": 5,
   "metadata": {
    "collapsed": true
   },
   "outputs": [],
   "source": [
    "lstm_output_size = 128"
   ]
  },
  {
   "cell_type": "markdown",
   "metadata": {},
   "source": [
    "Training"
   ]
  },
  {
   "cell_type": "code",
   "execution_count": 6,
   "metadata": {
    "collapsed": true
   },
   "outputs": [],
   "source": [
    "batch_size = 32\n",
    "epochs = 20"
   ]
  },
  {
   "cell_type": "code",
   "execution_count": 7,
   "metadata": {
    "collapsed": true
   },
   "outputs": [],
   "source": [
    "from sklearn.model_selection import train_test_split\n",
    "from sklearn.model_selection import StratifiedKFold"
   ]
  },
  {
   "cell_type": "code",
   "execution_count": 8,
   "metadata": {
    "collapsed": true
   },
   "outputs": [],
   "source": [
    "def load_ds(path):\n",
    "    vecfile = open(path,'r')\n",
    "    return pickle.load(vecfile)"
   ]
  },
  {
   "cell_type": "code",
   "execution_count": 12,
   "metadata": {
    "collapsed": true
   },
   "outputs": [],
   "source": [
    "def build_arch():\n",
    "    print('Build model...')\n",
    "    model = Sequential()\n",
    "    model.add(Embedding(max_features, embedding_size))\n",
    "    model.add(Bidirectional(\n",
    "                LSTM(lstm_output_size,\n",
    "                   activation='tanh', \n",
    "                   recurrent_activation='hard_sigmoid', \n",
    "                   dropout=0.2, \n",
    "                   recurrent_dropout=0.2\n",
    "                    )\n",
    "                )\n",
    "             )\n",
    "    model.add(Dense(1, activation='sigmoid'))\n",
    "    return model"
   ]
  },
  {
   "cell_type": "code",
   "execution_count": 13,
   "metadata": {
    "collapsed": true
   },
   "outputs": [],
   "source": [
    "def cross_val(tweet_sec, target, nFolds):\n",
    "    kFold = StratifiedKFold(n_splits=nFolds, shuffle=True)\n",
    "    scores = []\n",
    "    for train, test in kFold.split(tweet_sec,target):\n",
    "        model = build_arch()\n",
    "        model.compile(loss='binary_crossentropy', optimizer='adam', metrics=['accuracy'])\n",
    "        model.fit(tweet_sec[train],target[train],\n",
    "                  batch_size=batch_size,\n",
    "                  epochs=epochs,\n",
    "                  validation_split=0.1,\n",
    "                  verbose=1)\n",
    "        score, acc = model.evaluate(tweet_sec[test], target[test],batch_size=batch_size)\n",
    "        scores.append(acc * 100)\n",
    "    return scores   "
   ]
  },
  {
   "cell_type": "code",
   "execution_count": 14,
   "metadata": {
    "collapsed": true
   },
   "outputs": [],
   "source": [
    "#Training with the 100% of the data set\n",
    "def train_model(tweet_sec,target):\n",
    "    model = build_arch()\n",
    "    model.compile(loss='binary_crossentropy', optimizer='adam', metrics=['accuracy'])\n",
    "    return model.fit(tweet_sec, target,\n",
    "              batch_size=batch_size,\n",
    "              epochs=epochs,\n",
    "              verbose=1)"
   ]
  },
  {
   "cell_type": "code",
   "execution_count": 9,
   "metadata": {},
   "outputs": [
    {
     "data": {
      "text/html": [
       "<div>\n",
       "<style>\n",
       "    .dataframe thead tr:only-child th {\n",
       "        text-align: right;\n",
       "    }\n",
       "\n",
       "    .dataframe thead th {\n",
       "        text-align: left;\n",
       "    }\n",
       "\n",
       "    .dataframe tbody tr th {\n",
       "        vertical-align: top;\n",
       "    }\n",
       "</style>\n",
       "<table border=\"1\" class=\"dataframe\">\n",
       "  <thead>\n",
       "    <tr style=\"text-align: right;\">\n",
       "      <th></th>\n",
       "      <th>category</th>\n",
       "      <th>tweet_sec</th>\n",
       "    </tr>\n",
       "  </thead>\n",
       "  <tbody>\n",
       "    <tr>\n",
       "      <th>0</th>\n",
       "      <td>1</td>\n",
       "      <td>[268, 459, 146, 2, 470, 4493]</td>\n",
       "    </tr>\n",
       "    <tr>\n",
       "      <th>1</th>\n",
       "      <td>1</td>\n",
       "      <td>[2264, 7, 9784, 3050]</td>\n",
       "    </tr>\n",
       "    <tr>\n",
       "      <th>2</th>\n",
       "      <td>0</td>\n",
       "      <td>[80, 172, 35, 1, 14, 39, 2265, 7, 9785, 2266, ...</td>\n",
       "    </tr>\n",
       "    <tr>\n",
       "      <th>3</th>\n",
       "      <td>1</td>\n",
       "      <td>[107, 41, 21, 471, 9, 659, 5, 216, 300, 5, 7, ...</td>\n",
       "    </tr>\n",
       "    <tr>\n",
       "      <th>4</th>\n",
       "      <td>1</td>\n",
       "      <td>[562, 106, 29, 563, 29, 422]</td>\n",
       "    </tr>\n",
       "  </tbody>\n",
       "</table>\n",
       "</div>"
      ],
      "text/plain": [
       "   category                                          tweet_sec\n",
       "0         1                      [268, 459, 146, 2, 470, 4493]\n",
       "1         1                              [2264, 7, 9784, 3050]\n",
       "2         0  [80, 172, 35, 1, 14, 39, 2265, 7, 9785, 2266, ...\n",
       "3         1  [107, 41, 21, 471, 9, 659, 5, 216, 300, 5, 7, ...\n",
       "4         1                       [562, 106, 29, 563, 29, 422]"
      ]
     },
     "execution_count": 9,
     "metadata": {},
     "output_type": "execute_result"
    }
   ],
   "source": [
    "ds = load_ds('./data/ann/vectors_50_50.txt')\n",
    "ds.head()"
   ]
  },
  {
   "cell_type": "code",
   "execution_count": 10,
   "metadata": {},
   "outputs": [
    {
     "name": "stdout",
     "output_type": "stream",
     "text": [
      "Pad sequences (samples x time)\n",
      "('tweet shape:', (15306, 20))\n"
     ]
    }
   ],
   "source": [
    "print('Pad sequences (samples x time)')\n",
    "tweet_sec = sequence.pad_sequences(ds['tweet_sec'], maxlen=maxlen)\n",
    "print('tweet shape:', tweet_sec.shape)"
   ]
  },
  {
   "cell_type": "code",
   "execution_count": 15,
   "metadata": {
    "scrolled": true
   },
   "outputs": [
    {
     "name": "stdout",
     "output_type": "stream",
     "text": [
      "Build model...\n",
      "Train on 12396 samples, validate on 1378 samples\n",
      "Epoch 1/20\n",
      "12396/12396 [==============================] - 43s - loss: 0.3964 - acc: 0.8178 - val_loss: 0.2765 - val_acc: 0.8861\n",
      "Epoch 2/20\n",
      "12396/12396 [==============================] - 41s - loss: 0.1699 - acc: 0.9380 - val_loss: 0.3440 - val_acc: 0.8541\n",
      "Epoch 3/20\n",
      "12396/12396 [==============================] - 41s - loss: 0.0895 - acc: 0.9693 - val_loss: 0.5308 - val_acc: 0.8491\n",
      "Epoch 4/20\n",
      "12396/12396 [==============================] - 41s - loss: 0.0565 - acc: 0.9793 - val_loss: 0.4592 - val_acc: 0.8469\n",
      "Epoch 5/20\n",
      "12396/12396 [==============================] - 41s - loss: 0.0414 - acc: 0.9857 - val_loss: 0.5888 - val_acc: 0.8527\n",
      "Epoch 6/20\n",
      "12396/12396 [==============================] - 41s - loss: 0.0266 - acc: 0.9910 - val_loss: 0.6837 - val_acc: 0.8541\n",
      "Epoch 7/20\n",
      "12396/12396 [==============================] - 41s - loss: 0.0221 - acc: 0.9932 - val_loss: 0.8082 - val_acc: 0.8425\n",
      "Epoch 8/20\n",
      "12396/12396 [==============================] - 42s - loss: 0.0185 - acc: 0.9935 - val_loss: 0.7671 - val_acc: 0.8389\n",
      "Epoch 9/20\n",
      "12396/12396 [==============================] - 42s - loss: 0.0167 - acc: 0.9948 - val_loss: 0.8699 - val_acc: 0.8396\n",
      "Epoch 10/20\n",
      "12396/12396 [==============================] - 42s - loss: 0.0149 - acc: 0.9951 - val_loss: 0.8305 - val_acc: 0.8345\n",
      "Epoch 11/20\n",
      "12396/12396 [==============================] - 42s - loss: 0.0070 - acc: 0.9982 - val_loss: 1.2653 - val_acc: 0.8229\n",
      "Epoch 12/20\n",
      "12396/12396 [==============================] - 42s - loss: 0.0088 - acc: 0.9973 - val_loss: 0.8919 - val_acc: 0.8345\n",
      "Epoch 13/20\n",
      "12396/12396 [==============================] - 42s - loss: 0.0118 - acc: 0.9960 - val_loss: 0.9724 - val_acc: 0.8345\n",
      "Epoch 14/20\n",
      "12396/12396 [==============================] - 42s - loss: 0.0109 - acc: 0.9964 - val_loss: 0.9820 - val_acc: 0.8331\n",
      "Epoch 15/20\n",
      "12396/12396 [==============================] - 42s - loss: 0.0087 - acc: 0.9970 - val_loss: 0.9828 - val_acc: 0.8215\n",
      "Epoch 16/20\n",
      "12396/12396 [==============================] - 41s - loss: 0.0037 - acc: 0.9989 - val_loss: 1.1015 - val_acc: 0.8287\n",
      "Epoch 17/20\n",
      "12396/12396 [==============================] - 41s - loss: 0.0080 - acc: 0.9977 - val_loss: 1.0370 - val_acc: 0.8287\n",
      "Epoch 18/20\n",
      "12396/12396 [==============================] - 41s - loss: 0.0050 - acc: 0.9990 - val_loss: 1.1663 - val_acc: 0.8302\n",
      "Epoch 19/20\n",
      "12396/12396 [==============================] - 41s - loss: 0.0052 - acc: 0.9987 - val_loss: 0.9803 - val_acc: 0.8280\n",
      "Epoch 20/20\n",
      "12396/12396 [==============================] - 41s - loss: 0.0028 - acc: 0.9991 - val_loss: 1.1753 - val_acc: 0.8382\n",
      "1504/1532 [============================>.] - ETA: 0sBuild model...\n",
      "Train on 12396 samples, validate on 1378 samples\n",
      "Epoch 1/20\n",
      "12396/12396 [==============================] - 42s - loss: 0.3908 - acc: 0.8208 - val_loss: 0.2844 - val_acc: 0.8832\n",
      "Epoch 2/20\n",
      "12396/12396 [==============================] - 42s - loss: 0.1632 - acc: 0.9418 - val_loss: 0.4476 - val_acc: 0.8498\n",
      "Epoch 3/20\n",
      "12396/12396 [==============================] - 41s - loss: 0.0921 - acc: 0.9685 - val_loss: 0.4354 - val_acc: 0.8592\n",
      "Epoch 4/20\n",
      "12396/12396 [==============================] - 42s - loss: 0.0580 - acc: 0.9797 - val_loss: 0.4948 - val_acc: 0.8469\n",
      "Epoch 5/20\n",
      "12396/12396 [==============================] - 41s - loss: 0.0352 - acc: 0.9891 - val_loss: 0.6212 - val_acc: 0.8491\n",
      "Epoch 6/20\n",
      "12396/12396 [==============================] - 42s - loss: 0.0291 - acc: 0.9900 - val_loss: 0.6242 - val_acc: 0.8534\n",
      "Epoch 7/20\n",
      "12396/12396 [==============================] - 42s - loss: 0.0252 - acc: 0.9915 - val_loss: 0.5789 - val_acc: 0.8491\n",
      "Epoch 8/20\n",
      "12396/12396 [==============================] - 42s - loss: 0.0236 - acc: 0.9920 - val_loss: 0.7480 - val_acc: 0.8411\n",
      "Epoch 9/20\n",
      "12396/12396 [==============================] - 42s - loss: 0.0162 - acc: 0.9945 - val_loss: 0.7526 - val_acc: 0.8425\n",
      "Epoch 10/20\n",
      "12396/12396 [==============================] - 42s - loss: 0.0101 - acc: 0.9973 - val_loss: 0.8666 - val_acc: 0.8360\n",
      "Epoch 11/20\n",
      "12396/12396 [==============================] - 41s - loss: 0.0114 - acc: 0.9962 - val_loss: 0.8065 - val_acc: 0.8316\n",
      "Epoch 12/20\n",
      "12396/12396 [==============================] - 42s - loss: 0.0125 - acc: 0.9963 - val_loss: 0.7875 - val_acc: 0.8403\n",
      "Epoch 13/20\n",
      "12396/12396 [==============================] - 42s - loss: 0.0116 - acc: 0.9955 - val_loss: 0.9318 - val_acc: 0.8345\n",
      "Epoch 14/20\n",
      "12396/12396 [==============================] - 43s - loss: 0.0080 - acc: 0.9976 - val_loss: 0.9133 - val_acc: 0.8433\n",
      "Epoch 15/20\n",
      "12396/12396 [==============================] - 43s - loss: 0.0049 - acc: 0.9985 - val_loss: 1.0365 - val_acc: 0.8396\n",
      "Epoch 16/20\n",
      "12396/12396 [==============================] - 42s - loss: 0.0061 - acc: 0.9977 - val_loss: 0.8764 - val_acc: 0.8447\n",
      "Epoch 17/20\n",
      "12396/12396 [==============================] - 42s - loss: 0.0058 - acc: 0.9985 - val_loss: 0.9686 - val_acc: 0.8411\n",
      "Epoch 18/20\n",
      "12396/12396 [==============================] - 42s - loss: 0.0053 - acc: 0.9984 - val_loss: 1.0677 - val_acc: 0.8367\n",
      "Epoch 19/20\n",
      "12396/12396 [==============================] - 42s - loss: 0.0049 - acc: 0.9988 - val_loss: 1.0559 - val_acc: 0.8331\n",
      "Epoch 20/20\n",
      "12396/12396 [==============================] - 43s - loss: 0.0033 - acc: 0.9992 - val_loss: 1.0858 - val_acc: 0.8403\n",
      "1504/1532 [============================>.] - ETA: 0sBuild model...\n",
      "Train on 12396 samples, validate on 1378 samples\n",
      "Epoch 1/20\n",
      "12396/12396 [==============================] - 42s - loss: 0.3900 - acc: 0.8173 - val_loss: 0.2750 - val_acc: 0.8832\n",
      "Epoch 2/20\n",
      "12396/12396 [==============================] - 42s - loss: 0.1685 - acc: 0.9385 - val_loss: 0.3190 - val_acc: 0.8614\n",
      "Epoch 3/20\n",
      "12396/12396 [==============================] - 42s - loss: 0.0931 - acc: 0.9667 - val_loss: 0.3517 - val_acc: 0.8781\n",
      "Epoch 4/20\n",
      "12396/12396 [==============================] - 42s - loss: 0.0580 - acc: 0.9808 - val_loss: 0.5014 - val_acc: 0.8665\n",
      "Epoch 5/20\n",
      "12396/12396 [==============================] - 42s - loss: 0.0383 - acc: 0.9874 - val_loss: 0.5509 - val_acc: 0.8650\n",
      "Epoch 6/20\n",
      "12396/12396 [==============================] - 43s - loss: 0.0255 - acc: 0.9917 - val_loss: 0.6290 - val_acc: 0.8563\n",
      "Epoch 7/20\n",
      "12396/12396 [==============================] - 42s - loss: 0.0195 - acc: 0.9935 - val_loss: 0.6436 - val_acc: 0.8527\n",
      "Epoch 8/20\n",
      "12396/12396 [==============================] - 43s - loss: 0.0183 - acc: 0.9944 - val_loss: 0.6545 - val_acc: 0.8563\n",
      "Epoch 9/20\n",
      "12396/12396 [==============================] - 42s - loss: 0.0174 - acc: 0.9941 - val_loss: 0.6913 - val_acc: 0.8491\n",
      "Epoch 10/20\n",
      "12396/12396 [==============================] - 42s - loss: 0.0137 - acc: 0.9955 - val_loss: 0.8899 - val_acc: 0.8447\n",
      "Epoch 11/20\n",
      "12396/12396 [==============================] - 42s - loss: 0.0104 - acc: 0.9964 - val_loss: 0.7169 - val_acc: 0.8338\n",
      "Epoch 12/20\n",
      "12396/12396 [==============================] - 40s - loss: 0.0133 - acc: 0.9959 - val_loss: 0.7488 - val_acc: 0.8520\n",
      "Epoch 13/20\n",
      "12396/12396 [==============================] - 41s - loss: 0.0084 - acc: 0.9969 - val_loss: 0.8324 - val_acc: 0.8447\n",
      "Epoch 14/20\n",
      "12396/12396 [==============================] - 41s - loss: 0.0077 - acc: 0.9977 - val_loss: 0.9133 - val_acc: 0.8476\n",
      "Epoch 15/20\n",
      "12396/12396 [==============================] - 41s - loss: 0.0074 - acc: 0.9980 - val_loss: 0.9772 - val_acc: 0.8483\n",
      "Epoch 16/20\n",
      "12396/12396 [==============================] - 41s - loss: 0.0050 - acc: 0.9987 - val_loss: 1.0104 - val_acc: 0.8418\n",
      "Epoch 17/20\n",
      "12396/12396 [==============================] - 41s - loss: 0.0051 - acc: 0.9981 - val_loss: 0.9959 - val_acc: 0.8353\n",
      "Epoch 18/20\n",
      "12396/12396 [==============================] - 43s - loss: 0.0075 - acc: 0.9968 - val_loss: 0.8933 - val_acc: 0.8295\n",
      "Epoch 19/20\n",
      "12396/12396 [==============================] - 45s - loss: 0.0076 - acc: 0.9973 - val_loss: 0.8685 - val_acc: 0.8374\n",
      "Epoch 20/20\n",
      "12396/12396 [==============================] - 48s - loss: 0.0037 - acc: 0.9985 - val_loss: 0.9372 - val_acc: 0.8316\n",
      "1472/1532 [===========================>..] - ETA: 0sBuild model...\n",
      "Train on 12398 samples, validate on 1378 samples\n",
      "Epoch 1/20\n"
     ]
    },
    {
     "name": "stdout",
     "output_type": "stream",
     "text": [
      "12398/12398 [==============================] - 47s - loss: 0.3898 - acc: 0.8213 - val_loss: 0.2683 - val_acc: 0.8904\n",
      "Epoch 2/20\n",
      "12398/12398 [==============================] - 46s - loss: 0.1683 - acc: 0.9405 - val_loss: 0.3114 - val_acc: 0.8832\n",
      "Epoch 3/20\n",
      "12398/12398 [==============================] - 46s - loss: 0.0944 - acc: 0.9668 - val_loss: 0.3675 - val_acc: 0.8723\n",
      "Epoch 4/20\n",
      "12398/12398 [==============================] - 46s - loss: 0.0590 - acc: 0.9810 - val_loss: 0.4668 - val_acc: 0.8701\n",
      "Epoch 5/20\n",
      "12398/12398 [==============================] - 49s - loss: 0.0393 - acc: 0.9864 - val_loss: 0.5387 - val_acc: 0.8643\n",
      "Epoch 6/20\n",
      "12398/12398 [==============================] - 45s - loss: 0.0288 - acc: 0.9904 - val_loss: 0.6208 - val_acc: 0.8505\n",
      "Epoch 7/20\n",
      "12398/12398 [==============================] - 48s - loss: 0.0241 - acc: 0.9927 - val_loss: 0.6652 - val_acc: 0.8367\n",
      "Epoch 8/20\n",
      "12398/12398 [==============================] - 46s - loss: 0.0210 - acc: 0.9923 - val_loss: 0.8009 - val_acc: 0.8462\n",
      "Epoch 9/20\n",
      "12398/12398 [==============================] - 47s - loss: 0.0175 - acc: 0.9940 - val_loss: 0.7750 - val_acc: 0.8411\n",
      "Epoch 10/20\n",
      "12398/12398 [==============================] - 44s - loss: 0.0125 - acc: 0.9956 - val_loss: 0.8269 - val_acc: 0.8324\n",
      "Epoch 11/20\n",
      "12398/12398 [==============================] - 47s - loss: 0.0097 - acc: 0.9969 - val_loss: 0.9128 - val_acc: 0.8316\n",
      "Epoch 12/20\n",
      "12398/12398 [==============================] - 47s - loss: 0.0118 - acc: 0.9960 - val_loss: 0.8998 - val_acc: 0.8345\n",
      "Epoch 13/20\n",
      "12398/12398 [==============================] - 47s - loss: 0.0115 - acc: 0.9960 - val_loss: 0.9453 - val_acc: 0.8389\n",
      "Epoch 14/20\n",
      "12398/12398 [==============================] - 45s - loss: 0.0090 - acc: 0.9966 - val_loss: 0.9824 - val_acc: 0.8331\n",
      "Epoch 15/20\n",
      "12398/12398 [==============================] - 46s - loss: 0.0057 - acc: 0.9985 - val_loss: 1.0796 - val_acc: 0.8396\n",
      "Epoch 16/20\n",
      "12398/12398 [==============================] - 46s - loss: 0.0118 - acc: 0.9960 - val_loss: 1.0914 - val_acc: 0.8222\n",
      "Epoch 17/20\n",
      "12398/12398 [==============================] - 43s - loss: 0.0063 - acc: 0.9978 - val_loss: 1.1482 - val_acc: 0.8309\n",
      "Epoch 18/20\n",
      "12398/12398 [==============================] - 42s - loss: 0.0082 - acc: 0.9973 - val_loss: 1.0822 - val_acc: 0.8324\n",
      "Epoch 19/20\n",
      "12398/12398 [==============================] - 42s - loss: 0.0047 - acc: 0.9983 - val_loss: 1.0722 - val_acc: 0.8309\n",
      "Epoch 20/20\n",
      "12398/12398 [==============================] - 48s - loss: 0.0054 - acc: 0.9975 - val_loss: 1.1393 - val_acc: 0.8374\n",
      "1530/1530 [==============================] - 1s     \n",
      "Build model...\n",
      "Train on 12398 samples, validate on 1378 samples\n",
      "Epoch 1/20\n",
      "12398/12398 [==============================] - 47s - loss: 0.3937 - acc: 0.8236 - val_loss: 0.2897 - val_acc: 0.8795\n",
      "Epoch 2/20\n",
      "12398/12398 [==============================] - 47s - loss: 0.1702 - acc: 0.9377 - val_loss: 0.3402 - val_acc: 0.8665\n",
      "Epoch 3/20\n",
      "12398/12398 [==============================] - 48s - loss: 0.0929 - acc: 0.9688 - val_loss: 0.3738 - val_acc: 0.8643\n",
      "Epoch 4/20\n",
      "12398/12398 [==============================] - 48s - loss: 0.0536 - acc: 0.9826 - val_loss: 0.4529 - val_acc: 0.8527\n",
      "Epoch 5/20\n",
      "12398/12398 [==============================] - 48s - loss: 0.0367 - acc: 0.9885 - val_loss: 0.5645 - val_acc: 0.8563\n",
      "Epoch 6/20\n",
      "12398/12398 [==============================] - 51s - loss: 0.0301 - acc: 0.9894 - val_loss: 0.6191 - val_acc: 0.8469\n",
      "Epoch 7/20\n",
      "12398/12398 [==============================] - 50s - loss: 0.0231 - acc: 0.9920 - val_loss: 0.7578 - val_acc: 0.8382\n",
      "Epoch 8/20\n",
      "12398/12398 [==============================] - 52s - loss: 0.0172 - acc: 0.9941 - val_loss: 0.7873 - val_acc: 0.8411\n",
      "Epoch 9/20\n",
      "12398/12398 [==============================] - 48s - loss: 0.0163 - acc: 0.9942 - val_loss: 0.8408 - val_acc: 0.8258\n",
      "Epoch 10/20\n",
      "12398/12398 [==============================] - 46s - loss: 0.0157 - acc: 0.9947 - val_loss: 0.7896 - val_acc: 0.8382\n",
      "Epoch 11/20\n",
      "12398/12398 [==============================] - 43s - loss: 0.0105 - acc: 0.9969 - val_loss: 0.8644 - val_acc: 0.8454\n",
      "Epoch 12/20\n",
      "12398/12398 [==============================] - 48s - loss: 0.0080 - acc: 0.9978 - val_loss: 0.9796 - val_acc: 0.8491\n",
      "Epoch 13/20\n",
      "12398/12398 [==============================] - 48s - loss: 0.0069 - acc: 0.9980 - val_loss: 0.9849 - val_acc: 0.8316\n",
      "Epoch 14/20\n",
      "12398/12398 [==============================] - 47s - loss: 0.0120 - acc: 0.9964 - val_loss: 0.8652 - val_acc: 0.8411\n",
      "Epoch 15/20\n",
      "12398/12398 [==============================] - 48s - loss: 0.0094 - acc: 0.9969 - val_loss: 0.9032 - val_acc: 0.8418\n",
      "Epoch 16/20\n",
      "12398/12398 [==============================] - 45s - loss: 0.0064 - acc: 0.9985 - val_loss: 0.9969 - val_acc: 0.8345\n",
      "Epoch 17/20\n",
      "12398/12398 [==============================] - 45s - loss: 0.0056 - acc: 0.9985 - val_loss: 0.9847 - val_acc: 0.8374\n",
      "Epoch 18/20\n",
      "12398/12398 [==============================] - 46s - loss: 0.0074 - acc: 0.9978 - val_loss: 0.9906 - val_acc: 0.8258\n",
      "Epoch 19/20\n",
      "12398/12398 [==============================] - 46s - loss: 0.0051 - acc: 0.9983 - val_loss: 1.0756 - val_acc: 0.8222\n",
      "Epoch 20/20\n",
      "12398/12398 [==============================] - 46s - loss: 0.0047 - acc: 0.9985 - val_loss: 0.9842 - val_acc: 0.8309\n",
      "1504/1530 [============================>.] - ETA: 0sBuild model...\n",
      "Train on 12398 samples, validate on 1378 samples\n",
      "Epoch 1/20\n",
      "12398/12398 [==============================] - 47s - loss: 0.3801 - acc: 0.8290 - val_loss: 0.2838 - val_acc: 0.8861\n",
      "Epoch 2/20\n",
      "12398/12398 [==============================] - 46s - loss: 0.1696 - acc: 0.9377 - val_loss: 0.3363 - val_acc: 0.8672\n",
      "Epoch 3/20\n",
      "12398/12398 [==============================] - 45s - loss: 0.0946 - acc: 0.9689 - val_loss: 0.4110 - val_acc: 0.8447\n",
      "Epoch 4/20\n",
      "12398/12398 [==============================] - 47s - loss: 0.0600 - acc: 0.9798 - val_loss: 0.5136 - val_acc: 0.8614\n",
      "Epoch 5/20\n",
      "12398/12398 [==============================] - 46s - loss: 0.0417 - acc: 0.9860 - val_loss: 0.5062 - val_acc: 0.8541\n",
      "Epoch 6/20\n",
      "12398/12398 [==============================] - 46s - loss: 0.0333 - acc: 0.9889 - val_loss: 0.5815 - val_acc: 0.8469\n",
      "Epoch 7/20\n",
      "12398/12398 [==============================] - 45s - loss: 0.0234 - acc: 0.9927 - val_loss: 0.7027 - val_acc: 0.8360\n",
      "Epoch 8/20\n",
      "12398/12398 [==============================] - 46s - loss: 0.0221 - acc: 0.9926 - val_loss: 0.7065 - val_acc: 0.8418\n",
      "Epoch 9/20\n",
      "12398/12398 [==============================] - 46s - loss: 0.0146 - acc: 0.9954 - val_loss: 0.7379 - val_acc: 0.8374\n",
      "Epoch 10/20\n",
      "12398/12398 [==============================] - 46s - loss: 0.0157 - acc: 0.9954 - val_loss: 0.7744 - val_acc: 0.8280\n",
      "Epoch 11/20\n",
      "12398/12398 [==============================] - 47s - loss: 0.0099 - acc: 0.9968 - val_loss: 0.9307 - val_acc: 0.8266\n",
      "Epoch 12/20\n",
      "12398/12398 [==============================] - 46s - loss: 0.0086 - acc: 0.9976 - val_loss: 0.9143 - val_acc: 0.8280\n",
      "Epoch 13/20\n",
      "12398/12398 [==============================] - 46s - loss: 0.0099 - acc: 0.9965 - val_loss: 0.9537 - val_acc: 0.8353\n",
      "Epoch 14/20\n",
      "12398/12398 [==============================] - 46s - loss: 0.0081 - acc: 0.9970 - val_loss: 0.9050 - val_acc: 0.8215\n",
      "Epoch 15/20\n",
      "12398/12398 [==============================] - 46s - loss: 0.0088 - acc: 0.9973 - val_loss: 0.9918 - val_acc: 0.8222\n",
      "Epoch 16/20\n",
      "12398/12398 [==============================] - 46s - loss: 0.0082 - acc: 0.9970 - val_loss: 0.9944 - val_acc: 0.8266\n",
      "Epoch 17/20\n",
      "12398/12398 [==============================] - 47s - loss: 0.0084 - acc: 0.9977 - val_loss: 0.9595 - val_acc: 0.8331\n",
      "Epoch 18/20\n",
      "12398/12398 [==============================] - 46s - loss: 0.0054 - acc: 0.9982 - val_loss: 0.9758 - val_acc: 0.8179\n",
      "Epoch 19/20\n",
      "12398/12398 [==============================] - 46s - loss: 0.0054 - acc: 0.9983 - val_loss: 1.1400 - val_acc: 0.8353\n",
      "Epoch 20/20\n",
      "12398/12398 [==============================] - 47s - loss: 0.0047 - acc: 0.9982 - val_loss: 1.0910 - val_acc: 0.8229\n",
      "1504/1530 [============================>.] - ETA: 0sBuild model...\n",
      "Train on 12398 samples, validate on 1378 samples\n",
      "Epoch 1/20\n",
      "12398/12398 [==============================] - 48s - loss: 0.3866 - acc: 0.8174 - val_loss: 0.2676 - val_acc: 0.8904\n",
      "Epoch 2/20\n"
     ]
    },
    {
     "name": "stdout",
     "output_type": "stream",
     "text": [
      "12398/12398 [==============================] - 46s - loss: 0.1698 - acc: 0.9407 - val_loss: 0.3054 - val_acc: 0.8766\n",
      "Epoch 3/20\n",
      "12398/12398 [==============================] - 46s - loss: 0.0919 - acc: 0.9698 - val_loss: 0.3911 - val_acc: 0.8672\n",
      "Epoch 4/20\n",
      "12398/12398 [==============================] - 46s - loss: 0.0561 - acc: 0.9810 - val_loss: 0.4981 - val_acc: 0.8643\n",
      "Epoch 5/20\n",
      "12398/12398 [==============================] - 46s - loss: 0.0380 - acc: 0.9876 - val_loss: 0.5537 - val_acc: 0.8621\n",
      "Epoch 6/20\n",
      "12398/12398 [==============================] - 46s - loss: 0.0251 - acc: 0.9927 - val_loss: 0.6243 - val_acc: 0.8520\n",
      "Epoch 7/20\n",
      "12398/12398 [==============================] - 46s - loss: 0.0236 - acc: 0.9933 - val_loss: 0.6203 - val_acc: 0.8491\n",
      "Epoch 8/20\n",
      "12398/12398 [==============================] - 47s - loss: 0.0188 - acc: 0.9935 - val_loss: 0.6314 - val_acc: 0.8520\n",
      "Epoch 9/20\n",
      "12398/12398 [==============================] - 45s - loss: 0.0149 - acc: 0.9948 - val_loss: 0.7282 - val_acc: 0.8505\n",
      "Epoch 10/20\n",
      "12398/12398 [==============================] - 46s - loss: 0.0126 - acc: 0.9959 - val_loss: 0.7829 - val_acc: 0.8491\n",
      "Epoch 11/20\n",
      "12398/12398 [==============================] - 44s - loss: 0.0089 - acc: 0.9969 - val_loss: 0.7219 - val_acc: 0.8498\n",
      "Epoch 12/20\n",
      "12398/12398 [==============================] - 45s - loss: 0.0137 - acc: 0.9959 - val_loss: 0.7540 - val_acc: 0.8316\n",
      "Epoch 13/20\n",
      "12398/12398 [==============================] - 45s - loss: 0.0127 - acc: 0.9961 - val_loss: 0.8273 - val_acc: 0.8411\n",
      "Epoch 14/20\n",
      "12398/12398 [==============================] - 46s - loss: 0.0059 - acc: 0.9981 - val_loss: 0.8484 - val_acc: 0.8498\n",
      "Epoch 15/20\n",
      "12398/12398 [==============================] - 45s - loss: 0.0052 - acc: 0.9985 - val_loss: 1.0757 - val_acc: 0.8396\n",
      "Epoch 16/20\n",
      "12398/12398 [==============================] - 46s - loss: 0.0081 - acc: 0.9973 - val_loss: 1.0437 - val_acc: 0.8208\n",
      "Epoch 17/20\n",
      "12398/12398 [==============================] - 46s - loss: 0.0077 - acc: 0.9973 - val_loss: 0.9668 - val_acc: 0.8266\n",
      "Epoch 18/20\n",
      "12398/12398 [==============================] - 46s - loss: 0.0067 - acc: 0.9979 - val_loss: 0.9216 - val_acc: 0.8411\n",
      "Epoch 19/20\n",
      "12398/12398 [==============================] - 46s - loss: 0.0034 - acc: 0.9990 - val_loss: 1.1117 - val_acc: 0.8316\n",
      "Epoch 20/20\n",
      "12398/12398 [==============================] - 48s - loss: 0.0049 - acc: 0.9986 - val_loss: 1.0428 - val_acc: 0.8447\n",
      "1504/1530 [============================>.] - ETA: 0sBuild model...\n",
      "Train on 12398 samples, validate on 1378 samples\n",
      "Epoch 1/20\n",
      "12398/12398 [==============================] - 48s - loss: 0.3860 - acc: 0.8247 - val_loss: 0.2705 - val_acc: 0.8882\n",
      "Epoch 2/20\n",
      "12398/12398 [==============================] - 47s - loss: 0.1713 - acc: 0.9383 - val_loss: 0.3138 - val_acc: 0.8766\n",
      "Epoch 3/20\n",
      "12398/12398 [==============================] - 49s - loss: 0.0953 - acc: 0.9694 - val_loss: 0.4188 - val_acc: 0.8737\n",
      "Epoch 4/20\n",
      "12398/12398 [==============================] - 46s - loss: 0.0614 - acc: 0.9791 - val_loss: 0.5004 - val_acc: 0.8527\n",
      "Epoch 5/20\n",
      "12398/12398 [==============================] - 46s - loss: 0.0422 - acc: 0.9856 - val_loss: 0.5013 - val_acc: 0.8541\n",
      "Epoch 6/20\n",
      "12398/12398 [==============================] - 46s - loss: 0.0318 - acc: 0.9902 - val_loss: 0.5426 - val_acc: 0.8505\n",
      "Epoch 7/20\n",
      "12398/12398 [==============================] - 47s - loss: 0.0245 - acc: 0.9921 - val_loss: 0.6226 - val_acc: 0.8520\n",
      "Epoch 8/20\n",
      "12398/12398 [==============================] - 47s - loss: 0.0175 - acc: 0.9941 - val_loss: 0.7441 - val_acc: 0.8505\n",
      "Epoch 9/20\n",
      "12398/12398 [==============================] - 48s - loss: 0.0182 - acc: 0.9927 - val_loss: 0.6765 - val_acc: 0.8462\n",
      "Epoch 10/20\n",
      "12398/12398 [==============================] - 48s - loss: 0.0164 - acc: 0.9944 - val_loss: 0.6772 - val_acc: 0.8469\n",
      "Epoch 11/20\n",
      "12398/12398 [==============================] - 54s - loss: 0.0114 - acc: 0.9964 - val_loss: 0.7942 - val_acc: 0.8360\n",
      "Epoch 12/20\n",
      "12398/12398 [==============================] - 54s - loss: 0.0084 - acc: 0.9974 - val_loss: 0.9515 - val_acc: 0.8396\n",
      "Epoch 13/20\n",
      "12398/12398 [==============================] - 48s - loss: 0.0096 - acc: 0.9975 - val_loss: 0.8197 - val_acc: 0.8367\n",
      "Epoch 14/20\n",
      "12398/12398 [==============================] - 46s - loss: 0.0095 - acc: 0.9968 - val_loss: 1.0125 - val_acc: 0.8338\n",
      "Epoch 15/20\n",
      "12398/12398 [==============================] - 47s - loss: 0.0125 - acc: 0.9961 - val_loss: 0.8856 - val_acc: 0.8440\n",
      "Epoch 16/20\n",
      "12398/12398 [==============================] - 46s - loss: 0.0070 - acc: 0.9980 - val_loss: 0.9185 - val_acc: 0.8411\n",
      "Epoch 17/20\n",
      "12398/12398 [==============================] - 47s - loss: 0.0059 - acc: 0.9983 - val_loss: 0.9199 - val_acc: 0.8338\n",
      "Epoch 18/20\n",
      "12398/12398 [==============================] - 48s - loss: 0.0055 - acc: 0.9981 - val_loss: 1.0219 - val_acc: 0.8389\n",
      "Epoch 19/20\n",
      "12398/12398 [==============================] - 47s - loss: 0.0043 - acc: 0.9984 - val_loss: 1.0847 - val_acc: 0.8382\n",
      "Epoch 20/20\n",
      "12398/12398 [==============================] - 46s - loss: 0.0043 - acc: 0.9986 - val_loss: 1.1248 - val_acc: 0.8433\n",
      "1504/1530 [============================>.] - ETA: 0sBuild model...\n",
      "Train on 12398 samples, validate on 1378 samples\n",
      "Epoch 1/20\n",
      "12398/12398 [==============================] - 48s - loss: 0.3846 - acc: 0.8246 - val_loss: 0.2847 - val_acc: 0.8861\n",
      "Epoch 2/20\n",
      "12398/12398 [==============================] - 46s - loss: 0.1663 - acc: 0.9389 - val_loss: 0.2937 - val_acc: 0.8824\n",
      "Epoch 3/20\n",
      "12398/12398 [==============================] - 46s - loss: 0.0884 - acc: 0.9683 - val_loss: 0.3689 - val_acc: 0.8687\n",
      "Epoch 4/20\n",
      "12398/12398 [==============================] - 46s - loss: 0.0558 - acc: 0.9819 - val_loss: 0.4857 - val_acc: 0.8549\n",
      "Epoch 5/20\n",
      "12398/12398 [==============================] - 47s - loss: 0.0396 - acc: 0.9858 - val_loss: 0.6122 - val_acc: 0.8440\n",
      "Epoch 6/20\n",
      "12398/12398 [==============================] - 46s - loss: 0.0310 - acc: 0.9884 - val_loss: 0.5936 - val_acc: 0.8549\n",
      "Epoch 7/20\n",
      "12398/12398 [==============================] - 45s - loss: 0.0234 - acc: 0.9929 - val_loss: 0.6695 - val_acc: 0.8454\n",
      "Epoch 8/20\n",
      "12398/12398 [==============================] - 45s - loss: 0.0161 - acc: 0.9952 - val_loss: 0.7962 - val_acc: 0.8403\n",
      "Epoch 9/20\n",
      "12398/12398 [==============================] - 49s - loss: 0.0150 - acc: 0.9953 - val_loss: 0.7352 - val_acc: 0.8382\n",
      "Epoch 10/20\n",
      "12398/12398 [==============================] - 48s - loss: 0.0135 - acc: 0.9960 - val_loss: 0.7415 - val_acc: 0.8411\n",
      "Epoch 11/20\n",
      "12398/12398 [==============================] - 47s - loss: 0.0080 - acc: 0.9976 - val_loss: 0.8486 - val_acc: 0.8367\n",
      "Epoch 12/20\n",
      "12398/12398 [==============================] - 48s - loss: 0.0105 - acc: 0.9965 - val_loss: 0.7882 - val_acc: 0.8418\n",
      "Epoch 13/20\n",
      "12398/12398 [==============================] - 46s - loss: 0.0103 - acc: 0.9965 - val_loss: 0.8028 - val_acc: 0.8367\n",
      "Epoch 14/20\n",
      "12398/12398 [==============================] - 48s - loss: 0.0077 - acc: 0.9974 - val_loss: 0.9656 - val_acc: 0.8389\n",
      "Epoch 15/20\n",
      "12398/12398 [==============================] - 46s - loss: 0.0092 - acc: 0.9971 - val_loss: 0.8371 - val_acc: 0.8418\n",
      "Epoch 16/20\n",
      "12398/12398 [==============================] - 47s - loss: 0.0051 - acc: 0.9983 - val_loss: 0.9814 - val_acc: 0.8374\n",
      "Epoch 17/20\n",
      "12398/12398 [==============================] - 44s - loss: 0.0024 - acc: 0.9994 - val_loss: 1.0465 - val_acc: 0.8316\n",
      "Epoch 18/20\n",
      "12398/12398 [==============================] - 44s - loss: 0.0075 - acc: 0.9979 - val_loss: 0.9210 - val_acc: 0.8295\n",
      "Epoch 19/20\n",
      "12398/12398 [==============================] - 45s - loss: 0.0067 - acc: 0.9976 - val_loss: 0.8971 - val_acc: 0.8360\n",
      "Epoch 20/20\n",
      "12398/12398 [==============================] - 51s - loss: 0.0065 - acc: 0.9980 - val_loss: 0.8336 - val_acc: 0.8382\n",
      "1504/1530 [============================>.] - ETA: 0sBuild model...\n",
      "Train on 12398 samples, validate on 1378 samples\n",
      "Epoch 1/20\n",
      "12398/12398 [==============================] - 51s - loss: 0.3893 - acc: 0.8223 - val_loss: 0.2934 - val_acc: 0.8824\n",
      "Epoch 2/20\n",
      "12398/12398 [==============================] - 45s - loss: 0.1682 - acc: 0.9389 - val_loss: 0.3034 - val_acc: 0.8737\n",
      "Epoch 3/20\n"
     ]
    },
    {
     "name": "stdout",
     "output_type": "stream",
     "text": [
      "12398/12398 [==============================] - 46s - loss: 0.0937 - acc: 0.9691 - val_loss: 0.3892 - val_acc: 0.8701\n",
      "Epoch 4/20\n",
      "12398/12398 [==============================] - 44s - loss: 0.0584 - acc: 0.9791 - val_loss: 0.4580 - val_acc: 0.8476\n",
      "Epoch 5/20\n",
      "12398/12398 [==============================] - 46s - loss: 0.0405 - acc: 0.9860 - val_loss: 0.5472 - val_acc: 0.8585\n",
      "Epoch 6/20\n",
      "12398/12398 [==============================] - 46s - loss: 0.0309 - acc: 0.9890 - val_loss: 0.5994 - val_acc: 0.8585\n",
      "Epoch 7/20\n",
      "12398/12398 [==============================] - 46s - loss: 0.0209 - acc: 0.9932 - val_loss: 0.7819 - val_acc: 0.8338\n",
      "Epoch 8/20\n",
      "12398/12398 [==============================] - 46s - loss: 0.0182 - acc: 0.9937 - val_loss: 0.8317 - val_acc: 0.8549\n",
      "Epoch 9/20\n",
      "12398/12398 [==============================] - 46s - loss: 0.0151 - acc: 0.9955 - val_loss: 0.8515 - val_acc: 0.8374\n",
      "Epoch 10/20\n",
      "12398/12398 [==============================] - 46s - loss: 0.0184 - acc: 0.9937 - val_loss: 0.8334 - val_acc: 0.8396\n",
      "Epoch 11/20\n",
      "12398/12398 [==============================] - 46s - loss: 0.0116 - acc: 0.9965 - val_loss: 0.7946 - val_acc: 0.8418\n",
      "Epoch 12/20\n",
      "12398/12398 [==============================] - 46s - loss: 0.0100 - acc: 0.9971 - val_loss: 0.8487 - val_acc: 0.8403\n",
      "Epoch 13/20\n",
      "12398/12398 [==============================] - 47s - loss: 0.0115 - acc: 0.9963 - val_loss: 0.9381 - val_acc: 0.8389\n",
      "Epoch 14/20\n",
      "12398/12398 [==============================] - 46s - loss: 0.0066 - acc: 0.9980 - val_loss: 0.8866 - val_acc: 0.8360\n",
      "Epoch 15/20\n",
      "12398/12398 [==============================] - 47s - loss: 0.0063 - acc: 0.9981 - val_loss: 0.9641 - val_acc: 0.8440\n",
      "Epoch 16/20\n",
      "12398/12398 [==============================] - 48s - loss: 0.0090 - acc: 0.9975 - val_loss: 0.8997 - val_acc: 0.8374\n",
      "Epoch 17/20\n",
      "12398/12398 [==============================] - 47s - loss: 0.0091 - acc: 0.9967 - val_loss: 0.8093 - val_acc: 0.8360\n",
      "Epoch 18/20\n",
      "12398/12398 [==============================] - 48s - loss: 0.0046 - acc: 0.9987 - val_loss: 1.0627 - val_acc: 0.8440\n",
      "Epoch 19/20\n",
      "12398/12398 [==============================] - 48s - loss: 0.0074 - acc: 0.9974 - val_loss: 0.9389 - val_acc: 0.8403\n",
      "Epoch 20/20\n",
      "12398/12398 [==============================] - 48s - loss: 0.0050 - acc: 0.9982 - val_loss: 0.9505 - val_acc: 0.8309\n",
      "1472/1530 [===========================>..] - ETA: 0s"
     ]
    }
   ],
   "source": [
    "results = cross_val(tweet_sec,ds['category'],10)"
   ]
  },
  {
   "cell_type": "code",
   "execution_count": 16,
   "metadata": {},
   "outputs": [
    {
     "name": "stdout",
     "output_type": "stream",
     "text": [
      "Acc: 84.50 (+/- 0.77)\n"
     ]
    }
   ],
   "source": [
    "print(\"Acc: %.2f (+/- %.2f)\" %(np.mean(results), np.std(results)))"
   ]
  },
  {
   "cell_type": "code",
   "execution_count": 17,
   "metadata": {},
   "outputs": [
    {
     "name": "stdout",
     "output_type": "stream",
     "text": [
      "Model 1, acc: 85.25 \n",
      "Model 2, acc: 84.92 \n",
      "Model 3, acc: 84.40 \n",
      "Model 4, acc: 83.53 \n",
      "Model 5, acc: 85.56 \n",
      "Model 6, acc: 82.94 \n",
      "Model 7, acc: 85.16 \n",
      "Model 8, acc: 84.05 \n",
      "Model 9, acc: 84.38 \n",
      "Model 10, acc: 84.84 \n"
     ]
    }
   ],
   "source": [
    "for i in range (0,len(results)):\n",
    "    print \"Model %d, acc: %.2f \" %(i+1,results[i])"
   ]
  },
  {
   "cell_type": "code",
   "execution_count": 18,
   "metadata": {},
   "outputs": [
    {
     "name": "stdout",
     "output_type": "stream",
     "text": [
      "Build model...\n",
      "Epoch 1/20\n",
      "15306/15306 [==============================] - 58s - loss: 0.3675 - acc: 0.8322    \n",
      "Epoch 2/20\n",
      "15306/15306 [==============================] - 56s - loss: 0.1702 - acc: 0.9386    \n",
      "Epoch 3/20\n",
      "15306/15306 [==============================] - 57s - loss: 0.1033 - acc: 0.9630    \n",
      "Epoch 4/20\n",
      "15306/15306 [==============================] - 55s - loss: 0.0630 - acc: 0.9783    \n",
      "Epoch 5/20\n",
      "15306/15306 [==============================] - 56s - loss: 0.0434 - acc: 0.9862    \n",
      "Epoch 6/20\n",
      "15306/15306 [==============================] - 56s - loss: 0.0327 - acc: 0.9892    \n",
      "Epoch 7/20\n",
      "15306/15306 [==============================] - 52s - loss: 0.0255 - acc: 0.9915    \n",
      "Epoch 8/20\n",
      "15306/15306 [==============================] - 49s - loss: 0.0228 - acc: 0.9921    \n",
      "Epoch 9/20\n",
      "15306/15306 [==============================] - 51s - loss: 0.0202 - acc: 0.9927    \n",
      "Epoch 10/20\n",
      "15306/15306 [==============================] - 52s - loss: 0.0171 - acc: 0.9936    \n",
      "Epoch 11/20\n",
      "15306/15306 [==============================] - 54s - loss: 0.0107 - acc: 0.9966    \n",
      "Epoch 12/20\n",
      "15306/15306 [==============================] - 56s - loss: 0.0071 - acc: 0.9977    \n",
      "Epoch 13/20\n",
      "15306/15306 [==============================] - 54s - loss: 0.0075 - acc: 0.9972    \n",
      "Epoch 14/20\n",
      "15306/15306 [==============================] - 57s - loss: 0.0103 - acc: 0.9969    \n",
      "Epoch 15/20\n",
      "15306/15306 [==============================] - 55s - loss: 0.0073 - acc: 0.9978    \n",
      "Epoch 16/20\n",
      "15306/15306 [==============================] - 62s - loss: 0.0069 - acc: 0.9979    \n",
      "Epoch 17/20\n",
      "15306/15306 [==============================] - 60s - loss: 0.0046 - acc: 0.9986    \n",
      "Epoch 18/20\n",
      "15306/15306 [==============================] - 62s - loss: 0.0042 - acc: 0.9985    \n",
      "Epoch 19/20\n",
      "15306/15306 [==============================] - 64s - loss: 0.0057 - acc: 0.9984    \n",
      "Epoch 20/20\n",
      "15306/15306 [==============================] - 61s - loss: 0.0071 - acc: 0.9978    \n"
     ]
    }
   ],
   "source": [
    "trained_model = train_model(tweet_sec,ds['category'])"
   ]
  },
  {
   "cell_type": "code",
   "execution_count": 24,
   "metadata": {},
   "outputs": [],
   "source": [
    "model_json = trained_model.model.to_json()\n",
    "with open(\"./data/models/bi_lstm/bi_lstm.json\",'w') as json_file:\n",
    "    json_file.write(model_json)\n",
    "trained_model.model.save_weights(\"./data/models/bi_lstm/bi_lstm_weights.h5\")"
   ]
  },
  {
   "cell_type": "code",
   "execution_count": 25,
   "metadata": {
    "collapsed": true
   },
   "outputs": [],
   "source": [
    "trained_model.model.save(\"./data/models/bi_lstm/bi_lstm.h5\")"
   ]
  }
 ],
 "metadata": {
  "kernelspec": {
   "display_name": "Python(irnoy-env)",
   "language": "python",
   "name": "web"
  },
  "language_info": {
   "codemirror_mode": {
    "name": "ipython",
    "version": 2
   },
   "file_extension": ".py",
   "mimetype": "text/x-python",
   "name": "python",
   "nbconvert_exporter": "python",
   "pygments_lexer": "ipython2",
   "version": "2.7.12"
  }
 },
 "nbformat": 4,
 "nbformat_minor": 2
}
