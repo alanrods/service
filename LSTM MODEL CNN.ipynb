{
 "cells": [
  {
   "cell_type": "markdown",
   "metadata": {},
   "source": [
    "## LSTM CNN"
   ]
  },
  {
   "cell_type": "code",
   "execution_count": 1,
   "metadata": {},
   "outputs": [
    {
     "name": "stderr",
     "output_type": "stream",
     "text": [
      "Using TensorFlow backend.\n"
     ]
    }
   ],
   "source": [
    "from keras.preprocessing import sequence\n",
    "from keras.models import Sequential\n",
    "from keras.layers import Dense, Embedding, Dropout\n",
    "from keras.layers import LSTM\n",
    "from keras.layers import Conv1D, MaxPooling1D\n",
    "from keras.models import model_from_json"
   ]
  },
  {
   "cell_type": "code",
   "execution_count": 2,
   "metadata": {
    "collapsed": true
   },
   "outputs": [],
   "source": [
    "import numpy as np\n",
    "import pandas as pd"
   ]
  },
  {
   "cell_type": "code",
   "execution_count": 3,
   "metadata": {
    "collapsed": true
   },
   "outputs": [],
   "source": [
    "import pickle"
   ]
  },
  {
   "cell_type": "code",
   "execution_count": 4,
   "metadata": {
    "collapsed": true
   },
   "outputs": [],
   "source": [
    "from sklearn.model_selection import train_test_split\n",
    "from sklearn.model_selection import StratifiedKFold"
   ]
  },
  {
   "cell_type": "markdown",
   "metadata": {},
   "source": [
    "Embeding"
   ]
  },
  {
   "cell_type": "code",
   "execution_count": 5,
   "metadata": {
    "collapsed": true
   },
   "outputs": [],
   "source": [
    "max_features = 20000\n",
    "maxlen = 20\n",
    "embedding_size = 128"
   ]
  },
  {
   "cell_type": "markdown",
   "metadata": {},
   "source": [
    "Convolution"
   ]
  },
  {
   "cell_type": "code",
   "execution_count": 6,
   "metadata": {
    "collapsed": true
   },
   "outputs": [],
   "source": [
    "kernel_size = 5\n",
    "filters = 64\n",
    "pool_size = 4"
   ]
  },
  {
   "cell_type": "markdown",
   "metadata": {},
   "source": [
    "LSTM"
   ]
  },
  {
   "cell_type": "code",
   "execution_count": 7,
   "metadata": {
    "collapsed": true
   },
   "outputs": [],
   "source": [
    "lstm_output_size = 128"
   ]
  },
  {
   "cell_type": "markdown",
   "metadata": {},
   "source": [
    "Training"
   ]
  },
  {
   "cell_type": "code",
   "execution_count": 8,
   "metadata": {
    "collapsed": true
   },
   "outputs": [],
   "source": [
    "batch_size = 32\n",
    "epochs = 20"
   ]
  },
  {
   "cell_type": "code",
   "execution_count": 9,
   "metadata": {
    "collapsed": true
   },
   "outputs": [],
   "source": [
    "def load_ds(path):\n",
    "    vecfile = open(path,'r')\n",
    "    return pickle.load(vecfile)"
   ]
  },
  {
   "cell_type": "code",
   "execution_count": 10,
   "metadata": {},
   "outputs": [
    {
     "data": {
      "text/html": [
       "<div>\n",
       "<style>\n",
       "    .dataframe thead tr:only-child th {\n",
       "        text-align: right;\n",
       "    }\n",
       "\n",
       "    .dataframe thead th {\n",
       "        text-align: left;\n",
       "    }\n",
       "\n",
       "    .dataframe tbody tr th {\n",
       "        vertical-align: top;\n",
       "    }\n",
       "</style>\n",
       "<table border=\"1\" class=\"dataframe\">\n",
       "  <thead>\n",
       "    <tr style=\"text-align: right;\">\n",
       "      <th></th>\n",
       "      <th>category</th>\n",
       "      <th>tweet_sec</th>\n",
       "    </tr>\n",
       "  </thead>\n",
       "  <tbody>\n",
       "    <tr>\n",
       "      <th>0</th>\n",
       "      <td>1</td>\n",
       "      <td>[268, 459, 146, 2, 470, 4493]</td>\n",
       "    </tr>\n",
       "    <tr>\n",
       "      <th>1</th>\n",
       "      <td>1</td>\n",
       "      <td>[2264, 7, 9784, 3050]</td>\n",
       "    </tr>\n",
       "    <tr>\n",
       "      <th>2</th>\n",
       "      <td>0</td>\n",
       "      <td>[80, 172, 35, 1, 14, 39, 2265, 7, 9785, 2266, ...</td>\n",
       "    </tr>\n",
       "    <tr>\n",
       "      <th>3</th>\n",
       "      <td>1</td>\n",
       "      <td>[107, 41, 21, 471, 9, 659, 5, 216, 300, 5, 7, ...</td>\n",
       "    </tr>\n",
       "    <tr>\n",
       "      <th>4</th>\n",
       "      <td>1</td>\n",
       "      <td>[562, 106, 29, 563, 29, 422]</td>\n",
       "    </tr>\n",
       "  </tbody>\n",
       "</table>\n",
       "</div>"
      ],
      "text/plain": [
       "   category                                          tweet_sec\n",
       "0         1                      [268, 459, 146, 2, 470, 4493]\n",
       "1         1                              [2264, 7, 9784, 3050]\n",
       "2         0  [80, 172, 35, 1, 14, 39, 2265, 7, 9785, 2266, ...\n",
       "3         1  [107, 41, 21, 471, 9, 659, 5, 216, 300, 5, 7, ...\n",
       "4         1                       [562, 106, 29, 563, 29, 422]"
      ]
     },
     "execution_count": 10,
     "metadata": {},
     "output_type": "execute_result"
    }
   ],
   "source": [
    "ds = load_ds('./data/ann/vectors_50_50.txt')\n",
    "ds.head()"
   ]
  },
  {
   "cell_type": "code",
   "execution_count": 11,
   "metadata": {},
   "outputs": [
    {
     "name": "stdout",
     "output_type": "stream",
     "text": [
      "Pad sequences (samples x time)\n",
      "('tweet shape:', (15306, 20))\n"
     ]
    }
   ],
   "source": [
    "print('Pad sequences (samples x time)')\n",
    "tweet_sec = sequence.pad_sequences(ds['tweet_sec'], maxlen=maxlen)\n",
    "print('tweet shape:', tweet_sec.shape)"
   ]
  },
  {
   "cell_type": "code",
   "execution_count": 12,
   "metadata": {
    "collapsed": true
   },
   "outputs": [],
   "source": [
    "def build_arch():\n",
    "    print('Build model...')\n",
    "    model = Sequential()\n",
    "    model.add(Embedding(max_features, embedding_size, input_length=maxlen))\n",
    "    model.add(Dropout(0.25))\n",
    "    model.add(Conv1D(filters,\n",
    "                 kernel_size,\n",
    "                 padding='valid',\n",
    "                 activation='relu',\n",
    "                 strides=1))\n",
    "    model.add(MaxPooling1D(pool_size=pool_size))\n",
    "    model.add(LSTM(lstm_output_size,\n",
    "                   activation='tanh', \n",
    "                   recurrent_activation='hard_sigmoid', \n",
    "                   dropout=0.2, \n",
    "                   recurrent_dropout=0.2))\n",
    "    model.add(Dense(1, activation='sigmoid'))\n",
    "    return model"
   ]
  },
  {
   "cell_type": "code",
   "execution_count": 13,
   "metadata": {
    "collapsed": true
   },
   "outputs": [],
   "source": [
    "def cross_val(tweet_sec, target, nFolds):\n",
    "    kFold = StratifiedKFold(n_splits=nFolds, shuffle=True)\n",
    "    scores = []\n",
    "    for train, test in kFold.split(tweet_sec,target):\n",
    "        model = build_arch()\n",
    "        model.compile(loss='binary_crossentropy', optimizer='adam', metrics=['accuracy'])\n",
    "        model.fit(tweet_sec[train],\n",
    "                  target[train],\n",
    "                  batch_size=batch_size,\n",
    "                  epochs=epochs,verbose=1,\n",
    "                  validation_split=0.1)\n",
    "        score, acc = model.evaluate(tweet_sec[test], target[test],batch_size=batch_size)\n",
    "        scores.append(acc * 100)\n",
    "    return scores   "
   ]
  },
  {
   "cell_type": "code",
   "execution_count": 14,
   "metadata": {
    "collapsed": true
   },
   "outputs": [],
   "source": [
    "#Training with the 100% of the data set\n",
    "def train_model(tweet_sec,target):\n",
    "    model = build_arch()\n",
    "    model.compile(loss='binary_crossentropy', optimizer='adam', metrics=['accuracy'])\n",
    "    return model.fit(tweet_sec, target,\n",
    "              batch_size=batch_size,\n",
    "              epochs=epochs,\n",
    "              verbose=1)        "
   ]
  },
  {
   "cell_type": "code",
   "execution_count": 15,
   "metadata": {
    "scrolled": true
   },
   "outputs": [
    {
     "name": "stdout",
     "output_type": "stream",
     "text": [
      "Build model...\n",
      "Train on 12396 samples, validate on 1378 samples\n",
      "Epoch 1/20\n",
      "12396/12396 [==============================] - 21s - loss: 0.4119 - acc: 0.8097 - val_loss: 0.3000 - val_acc: 0.8716\n",
      "Epoch 2/20\n",
      "12396/12396 [==============================] - 19s - loss: 0.1948 - acc: 0.9269 - val_loss: 0.3346 - val_acc: 0.8701\n",
      "Epoch 3/20\n",
      "12396/12396 [==============================] - 20s - loss: 0.0933 - acc: 0.9668 - val_loss: 0.3896 - val_acc: 0.8614\n",
      "Epoch 4/20\n",
      "12396/12396 [==============================] - 20s - loss: 0.0442 - acc: 0.9853 - val_loss: 0.5077 - val_acc: 0.8520\n",
      "Epoch 5/20\n",
      "12396/12396 [==============================] - 20s - loss: 0.0230 - acc: 0.9935 - val_loss: 0.6606 - val_acc: 0.8411\n",
      "Epoch 6/20\n",
      "12396/12396 [==============================] - 20s - loss: 0.0152 - acc: 0.9956 - val_loss: 0.7086 - val_acc: 0.8345\n",
      "Epoch 7/20\n",
      "12396/12396 [==============================] - 20s - loss: 0.0112 - acc: 0.9958 - val_loss: 0.7774 - val_acc: 0.8454\n",
      "Epoch 8/20\n",
      "12396/12396 [==============================] - 19s - loss: 0.0094 - acc: 0.9966 - val_loss: 0.8960 - val_acc: 0.8425\n",
      "Epoch 9/20\n",
      "12396/12396 [==============================] - 19s - loss: 0.0065 - acc: 0.9977 - val_loss: 0.8835 - val_acc: 0.8338\n",
      "Epoch 10/20\n",
      "12396/12396 [==============================] - 19s - loss: 0.0053 - acc: 0.9981 - val_loss: 1.0057 - val_acc: 0.8374\n",
      "Epoch 11/20\n",
      "12396/12396 [==============================] - 19s - loss: 0.0070 - acc: 0.9976 - val_loss: 1.0464 - val_acc: 0.8389\n",
      "Epoch 12/20\n",
      "12396/12396 [==============================] - 19s - loss: 0.0091 - acc: 0.9969 - val_loss: 0.8508 - val_acc: 0.8491\n",
      "Epoch 13/20\n",
      "12396/12396 [==============================] - 19s - loss: 0.0053 - acc: 0.9981 - val_loss: 0.9069 - val_acc: 0.8476\n",
      "Epoch 14/20\n",
      "12396/12396 [==============================] - 19s - loss: 0.0033 - acc: 0.9987 - val_loss: 1.1528 - val_acc: 0.8360\n",
      "Epoch 15/20\n",
      "12396/12396 [==============================] - 19s - loss: 0.0038 - acc: 0.9987 - val_loss: 0.9739 - val_acc: 0.8338\n",
      "Epoch 16/20\n",
      "12396/12396 [==============================] - 20s - loss: 0.0032 - acc: 0.9989 - val_loss: 0.9961 - val_acc: 0.8389\n",
      "Epoch 17/20\n",
      "12396/12396 [==============================] - 21s - loss: 0.0029 - acc: 0.9993 - val_loss: 1.1019 - val_acc: 0.8396\n",
      "Epoch 18/20\n",
      "12396/12396 [==============================] - 20s - loss: 0.0046 - acc: 0.9987 - val_loss: 1.2000 - val_acc: 0.8273\n",
      "Epoch 19/20\n",
      "12396/12396 [==============================] - 20s - loss: 0.0052 - acc: 0.9982 - val_loss: 1.0208 - val_acc: 0.8338\n",
      "Epoch 20/20\n",
      "12396/12396 [==============================] - 20s - loss: 0.0044 - acc: 0.9985 - val_loss: 1.0509 - val_acc: 0.8309\n",
      "1408/1532 [==========================>...] - ETA: 0sBuild model...\n",
      "Train on 12396 samples, validate on 1378 samples\n",
      "Epoch 1/20\n",
      "12396/12396 [==============================] - 20s - loss: 0.4046 - acc: 0.8095 - val_loss: 0.2845 - val_acc: 0.8824\n",
      "Epoch 2/20\n",
      "12396/12396 [==============================] - 20s - loss: 0.1924 - acc: 0.9295 - val_loss: 0.3201 - val_acc: 0.8774\n",
      "Epoch 3/20\n",
      "12396/12396 [==============================] - 20s - loss: 0.0949 - acc: 0.9671 - val_loss: 0.3896 - val_acc: 0.8556\n",
      "Epoch 4/20\n",
      "12396/12396 [==============================] - 20s - loss: 0.0459 - acc: 0.9862 - val_loss: 0.5878 - val_acc: 0.8469\n",
      "Epoch 5/20\n",
      "12396/12396 [==============================] - 20s - loss: 0.0272 - acc: 0.9914 - val_loss: 0.6403 - val_acc: 0.8462\n",
      "Epoch 6/20\n",
      "12396/12396 [==============================] - 20s - loss: 0.0177 - acc: 0.9945 - val_loss: 0.7101 - val_acc: 0.8403\n",
      "Epoch 7/20\n",
      "12396/12396 [==============================] - 20s - loss: 0.0105 - acc: 0.9968 - val_loss: 0.7813 - val_acc: 0.8396\n",
      "Epoch 8/20\n",
      "12396/12396 [==============================] - 20s - loss: 0.0124 - acc: 0.9954 - val_loss: 0.8225 - val_acc: 0.8411\n",
      "Epoch 9/20\n",
      "12396/12396 [==============================] - 20s - loss: 0.0106 - acc: 0.9958 - val_loss: 0.7975 - val_acc: 0.8418\n",
      "Epoch 10/20\n",
      "12396/12396 [==============================] - 20s - loss: 0.0053 - acc: 0.9985 - val_loss: 1.0482 - val_acc: 0.8331\n",
      "Epoch 11/20\n",
      "12396/12396 [==============================] - 20s - loss: 0.0071 - acc: 0.9976 - val_loss: 1.0599 - val_acc: 0.8287\n",
      "Epoch 12/20\n",
      "12396/12396 [==============================] - 20s - loss: 0.0077 - acc: 0.9973 - val_loss: 0.9810 - val_acc: 0.8345\n",
      "Epoch 13/20\n",
      "12396/12396 [==============================] - 20s - loss: 0.0046 - acc: 0.9983 - val_loss: 1.0871 - val_acc: 0.8338\n",
      "Epoch 14/20\n",
      "12396/12396 [==============================] - 20s - loss: 0.0064 - acc: 0.9979 - val_loss: 0.9742 - val_acc: 0.8389\n",
      "Epoch 15/20\n",
      "12396/12396 [==============================] - 19s - loss: 0.0043 - acc: 0.9986 - val_loss: 1.1239 - val_acc: 0.8425\n",
      "Epoch 16/20\n",
      "12396/12396 [==============================] - 20s - loss: 0.0036 - acc: 0.9989 - val_loss: 1.1455 - val_acc: 0.8331\n",
      "Epoch 17/20\n",
      "12396/12396 [==============================] - 20s - loss: 0.0028 - acc: 0.9990 - val_loss: 1.1373 - val_acc: 0.8411\n",
      "Epoch 18/20\n",
      "12396/12396 [==============================] - 20s - loss: 0.0047 - acc: 0.9985 - val_loss: 1.2409 - val_acc: 0.8454\n",
      "Epoch 19/20\n",
      "12396/12396 [==============================] - 19s - loss: 0.0034 - acc: 0.9992 - val_loss: 1.2432 - val_acc: 0.8324\n",
      "Epoch 20/20\n",
      "12396/12396 [==============================] - 20s - loss: 0.0020 - acc: 0.9994 - val_loss: 1.3875 - val_acc: 0.8353\n",
      "1408/1532 [==========================>...] - ETA: 0sBuild model...\n",
      "Train on 12396 samples, validate on 1378 samples\n",
      "Epoch 1/20\n",
      "12396/12396 [==============================] - 20s - loss: 0.4032 - acc: 0.8117 - val_loss: 0.2909 - val_acc: 0.8861\n",
      "Epoch 2/20\n",
      "12396/12396 [==============================] - 20s - loss: 0.1945 - acc: 0.9272 - val_loss: 0.2964 - val_acc: 0.8803\n",
      "Epoch 3/20\n",
      "12396/12396 [==============================] - 20s - loss: 0.0961 - acc: 0.9670 - val_loss: 0.4017 - val_acc: 0.8687\n",
      "Epoch 4/20\n",
      "12396/12396 [==============================] - 20s - loss: 0.0483 - acc: 0.9849 - val_loss: 0.4781 - val_acc: 0.8614\n",
      "Epoch 5/20\n",
      "12396/12396 [==============================] - 20s - loss: 0.0255 - acc: 0.9919 - val_loss: 0.6259 - val_acc: 0.8418\n",
      "Epoch 6/20\n",
      "12396/12396 [==============================] - 20s - loss: 0.0156 - acc: 0.9954 - val_loss: 0.6422 - val_acc: 0.8476\n",
      "Epoch 7/20\n",
      "12396/12396 [==============================] - 20s - loss: 0.0104 - acc: 0.9965 - val_loss: 0.7409 - val_acc: 0.8374\n",
      "Epoch 8/20\n",
      "12396/12396 [==============================] - 19s - loss: 0.0077 - acc: 0.9975 - val_loss: 0.8178 - val_acc: 0.8462\n",
      "Epoch 9/20\n",
      "12396/12396 [==============================] - 19s - loss: 0.0086 - acc: 0.9975 - val_loss: 0.8170 - val_acc: 0.8491\n",
      "Epoch 10/20\n",
      "12396/12396 [==============================] - 20s - loss: 0.0048 - acc: 0.9982 - val_loss: 0.9182 - val_acc: 0.8425\n",
      "Epoch 11/20\n",
      "12396/12396 [==============================] - 20s - loss: 0.0043 - acc: 0.9985 - val_loss: 0.9136 - val_acc: 0.8403\n",
      "Epoch 12/20\n",
      "12396/12396 [==============================] - 19s - loss: 0.0071 - acc: 0.9973 - val_loss: 0.9545 - val_acc: 0.8374\n",
      "Epoch 13/20\n",
      "12396/12396 [==============================] - 20s - loss: 0.0052 - acc: 0.9982 - val_loss: 0.9295 - val_acc: 0.8433\n",
      "Epoch 14/20\n",
      "12396/12396 [==============================] - 20s - loss: 0.0047 - acc: 0.9982 - val_loss: 1.0150 - val_acc: 0.8425\n",
      "Epoch 15/20\n",
      "12396/12396 [==============================] - 20s - loss: 0.0049 - acc: 0.9985 - val_loss: 1.0225 - val_acc: 0.8389\n",
      "Epoch 16/20\n",
      "12396/12396 [==============================] - 19s - loss: 0.0058 - acc: 0.9987 - val_loss: 0.8955 - val_acc: 0.8440\n",
      "Epoch 17/20\n",
      "12396/12396 [==============================] - 20s - loss: 0.0012 - acc: 0.9998 - val_loss: 1.1576 - val_acc: 0.8425\n",
      "Epoch 18/20\n",
      "12396/12396 [==============================] - 20s - loss: 0.0023 - acc: 0.9993 - val_loss: 1.1136 - val_acc: 0.8483\n",
      "Epoch 19/20\n",
      "12396/12396 [==============================] - 20s - loss: 0.0040 - acc: 0.9989 - val_loss: 0.9280 - val_acc: 0.8403\n",
      "Epoch 20/20\n",
      "12396/12396 [==============================] - 19s - loss: 0.0022 - acc: 0.9993 - val_loss: 1.1301 - val_acc: 0.8447\n",
      "1376/1532 [=========================>....] - ETA: 0sBuild model...\n",
      "Train on 12398 samples, validate on 1378 samples\n",
      "Epoch 1/20\n",
      "12398/12398 [==============================] - 20s - loss: 0.4071 - acc: 0.8124 - val_loss: 0.2953 - val_acc: 0.8839\n",
      "Epoch 2/20\n",
      "12398/12398 [==============================] - 20s - loss: 0.1922 - acc: 0.9289 - val_loss: 0.3113 - val_acc: 0.8766\n",
      "Epoch 3/20\n",
      "12398/12398 [==============================] - 20s - loss: 0.0951 - acc: 0.9675 - val_loss: 0.3671 - val_acc: 0.8687\n",
      "Epoch 4/20\n",
      "12398/12398 [==============================] - 20s - loss: 0.0408 - acc: 0.9869 - val_loss: 0.5144 - val_acc: 0.8556\n",
      "Epoch 5/20\n",
      "12398/12398 [==============================] - 20s - loss: 0.0246 - acc: 0.9916 - val_loss: 0.5733 - val_acc: 0.8578\n",
      "Epoch 6/20\n",
      "12398/12398 [==============================] - 20s - loss: 0.0167 - acc: 0.9944 - val_loss: 0.6361 - val_acc: 0.8534\n",
      "Epoch 7/20\n",
      "12398/12398 [==============================] - 20s - loss: 0.0121 - acc: 0.9958 - val_loss: 0.7591 - val_acc: 0.8403\n",
      "Epoch 8/20\n",
      "12398/12398 [==============================] - 20s - loss: 0.0110 - acc: 0.9960 - val_loss: 0.7081 - val_acc: 0.8505\n",
      "Epoch 9/20\n",
      "12398/12398 [==============================] - 20s - loss: 0.0081 - acc: 0.9975 - val_loss: 0.7911 - val_acc: 0.8491\n",
      "Epoch 10/20\n",
      "12398/12398 [==============================] - 20s - loss: 0.0066 - acc: 0.9980 - val_loss: 0.8594 - val_acc: 0.8527\n",
      "Epoch 11/20\n",
      "12398/12398 [==============================] - 20s - loss: 0.0042 - acc: 0.9990 - val_loss: 0.9550 - val_acc: 0.8570\n",
      "Epoch 12/20\n",
      "12398/12398 [==============================] - 20s - loss: 0.0094 - acc: 0.9969 - val_loss: 0.8200 - val_acc: 0.8389\n",
      "Epoch 13/20\n",
      "12398/12398 [==============================] - 20s - loss: 0.0074 - acc: 0.9970 - val_loss: 0.8153 - val_acc: 0.8469\n",
      "Epoch 14/20\n",
      "12398/12398 [==============================] - 20s - loss: 0.0037 - acc: 0.9989 - val_loss: 0.9630 - val_acc: 0.8462\n",
      "Epoch 15/20\n",
      "12398/12398 [==============================] - 20s - loss: 0.0037 - acc: 0.9989 - val_loss: 1.0163 - val_acc: 0.8512\n",
      "Epoch 16/20\n",
      "12398/12398 [==============================] - 20s - loss: 0.0061 - acc: 0.9985 - val_loss: 0.8430 - val_acc: 0.8498\n",
      "Epoch 17/20\n",
      "12398/12398 [==============================] - 20s - loss: 0.0031 - acc: 0.9990 - val_loss: 1.1074 - val_acc: 0.8462\n",
      "Epoch 18/20\n",
      "12398/12398 [==============================] - 20s - loss: 0.0028 - acc: 0.9994 - val_loss: 0.9938 - val_acc: 0.8425\n",
      "Epoch 19/20\n",
      "12398/12398 [==============================] - 20s - loss: 0.0037 - acc: 0.9989 - val_loss: 1.0584 - val_acc: 0.8295\n",
      "Epoch 20/20\n",
      "12398/12398 [==============================] - 20s - loss: 0.0033 - acc: 0.9989 - val_loss: 1.0232 - val_acc: 0.8367\n",
      "1504/1530 [============================>.] - ETA: 0sBuild model...\n",
      "Train on 12398 samples, validate on 1378 samples\n",
      "Epoch 1/20\n",
      "12398/12398 [==============================] - 20s - loss: 0.4087 - acc: 0.8106 - val_loss: 0.3012 - val_acc: 0.8766\n",
      "Epoch 2/20\n",
      "12398/12398 [==============================] - 20s - loss: 0.1955 - acc: 0.9261 - val_loss: 0.3283 - val_acc: 0.8650\n",
      "Epoch 3/20\n",
      "12398/12398 [==============================] - 20s - loss: 0.0930 - acc: 0.9685 - val_loss: 0.4084 - val_acc: 0.8512\n",
      "Epoch 4/20\n",
      "12398/12398 [==============================] - 20s - loss: 0.0454 - acc: 0.9866 - val_loss: 0.5305 - val_acc: 0.8469\n",
      "Epoch 5/20\n",
      "12398/12398 [==============================] - 20s - loss: 0.0223 - acc: 0.9935 - val_loss: 0.6454 - val_acc: 0.8483\n",
      "Epoch 6/20\n",
      "12398/12398 [==============================] - 20s - loss: 0.0155 - acc: 0.9951 - val_loss: 0.7038 - val_acc: 0.8389\n",
      "Epoch 7/20\n",
      "12398/12398 [==============================] - 20s - loss: 0.0149 - acc: 0.9949 - val_loss: 0.7009 - val_acc: 0.8403\n",
      "Epoch 8/20\n",
      "12398/12398 [==============================] - 20s - loss: 0.0071 - acc: 0.9978 - val_loss: 0.8625 - val_acc: 0.8425\n",
      "Epoch 9/20\n",
      "12398/12398 [==============================] - 20s - loss: 0.0096 - acc: 0.9967 - val_loss: 0.8676 - val_acc: 0.8418\n",
      "Epoch 10/20\n",
      "12398/12398 [==============================] - 20s - loss: 0.0089 - acc: 0.9970 - val_loss: 0.8477 - val_acc: 0.8360\n",
      "Epoch 11/20\n",
      "12398/12398 [==============================] - 20s - loss: 0.0062 - acc: 0.9977 - val_loss: 0.9149 - val_acc: 0.8353\n",
      "Epoch 12/20\n",
      "12398/12398 [==============================] - 20s - loss: 0.0075 - acc: 0.9973 - val_loss: 0.9655 - val_acc: 0.8295\n",
      "Epoch 13/20\n",
      "12398/12398 [==============================] - 20s - loss: 0.0072 - acc: 0.9977 - val_loss: 0.8987 - val_acc: 0.8353\n",
      "Epoch 14/20\n",
      "12398/12398 [==============================] - 20s - loss: 0.0041 - acc: 0.9987 - val_loss: 0.9696 - val_acc: 0.8331\n",
      "Epoch 15/20\n",
      "12398/12398 [==============================] - 20s - loss: 0.0029 - acc: 0.9990 - val_loss: 1.0667 - val_acc: 0.8360\n",
      "Epoch 16/20\n",
      "12398/12398 [==============================] - 20s - loss: 0.0030 - acc: 0.9991 - val_loss: 1.2088 - val_acc: 0.8215\n",
      "Epoch 17/20\n",
      "12398/12398 [==============================] - 20s - loss: 0.0059 - acc: 0.9980 - val_loss: 0.9459 - val_acc: 0.8266\n",
      "Epoch 18/20\n",
      "12398/12398 [==============================] - 20s - loss: 0.0052 - acc: 0.9984 - val_loss: 0.9337 - val_acc: 0.8287\n",
      "Epoch 19/20\n",
      "12398/12398 [==============================] - 20s - loss: 0.0043 - acc: 0.9984 - val_loss: 1.0132 - val_acc: 0.8360\n",
      "Epoch 20/20\n",
      "12398/12398 [==============================] - 20s - loss: 0.0038 - acc: 0.9990 - val_loss: 0.9423 - val_acc: 0.8411\n",
      "1440/1530 [===========================>..] - ETA: 0sBuild model...\n",
      "Train on 12398 samples, validate on 1378 samples\n",
      "Epoch 1/20\n",
      "12398/12398 [==============================] - 20s - loss: 0.4129 - acc: 0.8072 - val_loss: 0.2833 - val_acc: 0.8795\n",
      "Epoch 2/20\n",
      "12398/12398 [==============================] - 20s - loss: 0.1937 - acc: 0.9271 - val_loss: 0.3156 - val_acc: 0.8687\n",
      "Epoch 3/20\n",
      "12398/12398 [==============================] - 20s - loss: 0.0962 - acc: 0.9668 - val_loss: 0.4062 - val_acc: 0.8541\n",
      "Epoch 4/20\n",
      "12398/12398 [==============================] - 20s - loss: 0.0454 - acc: 0.9848 - val_loss: 0.5272 - val_acc: 0.8541\n",
      "Epoch 5/20\n",
      "12398/12398 [==============================] - 20s - loss: 0.0208 - acc: 0.9933 - val_loss: 0.6136 - val_acc: 0.8462\n",
      "Epoch 6/20\n",
      "12398/12398 [==============================] - 20s - loss: 0.0157 - acc: 0.9947 - val_loss: 0.6763 - val_acc: 0.8585\n",
      "Epoch 7/20\n",
      "12398/12398 [==============================] - 20s - loss: 0.0100 - acc: 0.9963 - val_loss: 0.8300 - val_acc: 0.8491\n",
      "Epoch 8/20\n",
      "12398/12398 [==============================] - 20s - loss: 0.0073 - acc: 0.9975 - val_loss: 0.8763 - val_acc: 0.8549\n",
      "Epoch 9/20\n",
      "12398/12398 [==============================] - 20s - loss: 0.0092 - acc: 0.9969 - val_loss: 0.8893 - val_acc: 0.8541\n",
      "Epoch 10/20\n",
      "12398/12398 [==============================] - 20s - loss: 0.0080 - acc: 0.9975 - val_loss: 0.8627 - val_acc: 0.8483\n",
      "Epoch 11/20\n",
      "12398/12398 [==============================] - 20s - loss: 0.0066 - acc: 0.9977 - val_loss: 0.9116 - val_acc: 0.8541\n",
      "Epoch 12/20\n",
      "12398/12398 [==============================] - 20s - loss: 0.0078 - acc: 0.9975 - val_loss: 0.8908 - val_acc: 0.8382\n",
      "Epoch 13/20\n",
      "12398/12398 [==============================] - 19s - loss: 0.0055 - acc: 0.9981 - val_loss: 0.9922 - val_acc: 0.8447\n",
      "Epoch 14/20\n",
      "12398/12398 [==============================] - 20s - loss: 0.0063 - acc: 0.9978 - val_loss: 1.0071 - val_acc: 0.8418\n",
      "Epoch 15/20\n",
      "12398/12398 [==============================] - 20s - loss: 0.0049 - acc: 0.9983 - val_loss: 1.0300 - val_acc: 0.8411\n",
      "Epoch 16/20\n",
      "12398/12398 [==============================] - 20s - loss: 0.0036 - acc: 0.9985 - val_loss: 1.0536 - val_acc: 0.8367\n",
      "Epoch 17/20\n",
      "12398/12398 [==============================] - 20s - loss: 0.0045 - acc: 0.9982 - val_loss: 1.0246 - val_acc: 0.8287\n",
      "Epoch 18/20\n",
      "12398/12398 [==============================] - 20s - loss: 0.0033 - acc: 0.9987 - val_loss: 1.2677 - val_acc: 0.8440\n",
      "Epoch 19/20\n",
      "12398/12398 [==============================] - 20s - loss: 0.0031 - acc: 0.9989 - val_loss: 1.2921 - val_acc: 0.8367\n",
      "Epoch 20/20\n",
      "12398/12398 [==============================] - 20s - loss: 0.0043 - acc: 0.9986 - val_loss: 1.0739 - val_acc: 0.8389\n",
      "1408/1530 [==========================>...] - ETA: 0sBuild model...\n",
      "Train on 12398 samples, validate on 1378 samples\n",
      "Epoch 1/20\n",
      "12398/12398 [==============================] - 20s - loss: 0.4015 - acc: 0.8126 - val_loss: 0.2914 - val_acc: 0.8853\n",
      "Epoch 2/20\n"
     ]
    },
    {
     "name": "stdout",
     "output_type": "stream",
     "text": [
      "12398/12398 [==============================] - 19s - loss: 0.1912 - acc: 0.9291 - val_loss: 0.2789 - val_acc: 0.8853\n",
      "Epoch 3/20\n",
      "12398/12398 [==============================] - 19s - loss: 0.0895 - acc: 0.9685 - val_loss: 0.3871 - val_acc: 0.8708\n",
      "Epoch 4/20\n",
      "12398/12398 [==============================] - 19s - loss: 0.0395 - acc: 0.9888 - val_loss: 0.4388 - val_acc: 0.8687\n",
      "Epoch 5/20\n",
      "12398/12398 [==============================] - 19s - loss: 0.0253 - acc: 0.9923 - val_loss: 0.5415 - val_acc: 0.8549\n",
      "Epoch 6/20\n",
      "12398/12398 [==============================] - 19s - loss: 0.0152 - acc: 0.9952 - val_loss: 0.6867 - val_acc: 0.8425\n",
      "Epoch 7/20\n",
      "12398/12398 [==============================] - 21s - loss: 0.0108 - acc: 0.9967 - val_loss: 0.7761 - val_acc: 0.8570\n",
      "Epoch 8/20\n",
      "12398/12398 [==============================] - 20s - loss: 0.0067 - acc: 0.9975 - val_loss: 0.9228 - val_acc: 0.8345\n",
      "Epoch 9/20\n",
      "12398/12398 [==============================] - 20s - loss: 0.0080 - acc: 0.9972 - val_loss: 0.7821 - val_acc: 0.8556\n",
      "Epoch 10/20\n",
      "12398/12398 [==============================] - 20s - loss: 0.0100 - acc: 0.9970 - val_loss: 0.6942 - val_acc: 0.8563\n",
      "Epoch 11/20\n",
      "12398/12398 [==============================] - 20s - loss: 0.0064 - acc: 0.9981 - val_loss: 0.8321 - val_acc: 0.8411\n",
      "Epoch 12/20\n",
      "12398/12398 [==============================] - 20s - loss: 0.0049 - acc: 0.9983 - val_loss: 0.8085 - val_acc: 0.8541\n",
      "Epoch 13/20\n",
      "12398/12398 [==============================] - 20s - loss: 0.0039 - acc: 0.9986 - val_loss: 0.9465 - val_acc: 0.8520\n",
      "Epoch 14/20\n",
      "12398/12398 [==============================] - 20s - loss: 0.0032 - acc: 0.9987 - val_loss: 1.0225 - val_acc: 0.8433\n",
      "Epoch 15/20\n",
      "12398/12398 [==============================] - 20s - loss: 0.0047 - acc: 0.9984 - val_loss: 1.0578 - val_acc: 0.8483\n",
      "Epoch 16/20\n",
      "12398/12398 [==============================] - 20s - loss: 0.0050 - acc: 0.9985 - val_loss: 0.8971 - val_acc: 0.8425\n",
      "Epoch 17/20\n",
      "12398/12398 [==============================] - 20s - loss: 0.0048 - acc: 0.9986 - val_loss: 0.8852 - val_acc: 0.8440\n",
      "Epoch 18/20\n",
      "12398/12398 [==============================] - 20s - loss: 0.0051 - acc: 0.9983 - val_loss: 0.7785 - val_acc: 0.8534.998\n",
      "Epoch 19/20\n",
      "12398/12398 [==============================] - 20s - loss: 0.0023 - acc: 0.9991 - val_loss: 0.9091 - val_acc: 0.8273\n",
      "Epoch 20/20\n",
      "12398/12398 [==============================] - 20s - loss: 0.0015 - acc: 0.9995 - val_loss: 0.9652 - val_acc: 0.8462\n",
      "1504/1530 [============================>.] - ETA: 0sBuild model...\n",
      "Train on 12398 samples, validate on 1378 samples\n",
      "Epoch 1/20\n",
      "12398/12398 [==============================] - 21s - loss: 0.4040 - acc: 0.8172 - val_loss: 0.3011 - val_acc: 0.8766\n",
      "Epoch 2/20\n",
      "12398/12398 [==============================] - 20s - loss: 0.1911 - acc: 0.9293 - val_loss: 0.3255 - val_acc: 0.8701\n",
      "Epoch 3/20\n",
      "12398/12398 [==============================] - 20s - loss: 0.0926 - acc: 0.9690 - val_loss: 0.4133 - val_acc: 0.8498\n",
      "Epoch 4/20\n",
      "12398/12398 [==============================] - 20s - loss: 0.0451 - acc: 0.9859 - val_loss: 0.5223 - val_acc: 0.8425\n",
      "Epoch 5/20\n",
      "12398/12398 [==============================] - 20s - loss: 0.0235 - acc: 0.9922 - val_loss: 0.6496 - val_acc: 0.8534\n",
      "Epoch 6/20\n",
      "12398/12398 [==============================] - 20s - loss: 0.0158 - acc: 0.9951 - val_loss: 0.8070 - val_acc: 0.8360\n",
      "Epoch 7/20\n",
      "12398/12398 [==============================] - 20s - loss: 0.0112 - acc: 0.9965 - val_loss: 0.7959 - val_acc: 0.8440\n",
      "Epoch 8/20\n",
      "12398/12398 [==============================] - 20s - loss: 0.0144 - acc: 0.9953 - val_loss: 0.8118 - val_acc: 0.8411\n",
      "Epoch 9/20\n",
      "12398/12398 [==============================] - 20s - loss: 0.0062 - acc: 0.9979 - val_loss: 0.9392 - val_acc: 0.8389\n",
      "Epoch 10/20\n",
      "12398/12398 [==============================] - 20s - loss: 0.0051 - acc: 0.9983 - val_loss: 1.0677 - val_acc: 0.8462\n",
      "Epoch 11/20\n",
      "12398/12398 [==============================] - 20s - loss: 0.0078 - acc: 0.9970 - val_loss: 0.8521 - val_acc: 0.8491\n",
      "Epoch 12/20\n",
      "12398/12398 [==============================] - 20s - loss: 0.0072 - acc: 0.9973 - val_loss: 0.8217 - val_acc: 0.8505\n",
      "Epoch 13/20\n",
      "12398/12398 [==============================] - 20s - loss: 0.0046 - acc: 0.9988 - val_loss: 0.9096 - val_acc: 0.8374\n",
      "Epoch 14/20\n",
      "12398/12398 [==============================] - 20s - loss: 0.0046 - acc: 0.9984 - val_loss: 0.9434 - val_acc: 0.8418\n",
      "Epoch 15/20\n",
      "12398/12398 [==============================] - 20s - loss: 0.0029 - acc: 0.9990 - val_loss: 1.0207 - val_acc: 0.8433\n",
      "Epoch 16/20\n",
      "12398/12398 [==============================] - 20s - loss: 0.0068 - acc: 0.9977 - val_loss: 0.8895 - val_acc: 0.8382\n",
      "Epoch 17/20\n",
      "12398/12398 [==============================] - 20s - loss: 0.0024 - acc: 0.9992 - val_loss: 1.0610 - val_acc: 0.8454\n",
      "Epoch 18/20\n",
      "12398/12398 [==============================] - 20s - loss: 0.0035 - acc: 0.9987 - val_loss: 1.1067 - val_acc: 0.8382\n",
      "Epoch 19/20\n",
      "12398/12398 [==============================] - 20s - loss: 0.0032 - acc: 0.9990 - val_loss: 1.1225 - val_acc: 0.8331\n",
      "Epoch 20/20\n",
      "12398/12398 [==============================] - 19s - loss: 0.0037 - acc: 0.9986 - val_loss: 1.0322 - val_acc: 0.8338\n",
      "1440/1530 [===========================>..] - ETA: 0sBuild model...\n",
      "Train on 12398 samples, validate on 1378 samples\n",
      "Epoch 1/20\n",
      "12398/12398 [==============================] - 20s - loss: 0.4059 - acc: 0.8092 - val_loss: 0.2943 - val_acc: 0.8817\n",
      "Epoch 2/20\n",
      "12398/12398 [==============================] - 20s - loss: 0.1937 - acc: 0.9280 - val_loss: 0.3233 - val_acc: 0.8650\n",
      "Epoch 3/20\n",
      "12398/12398 [==============================] - 20s - loss: 0.0961 - acc: 0.9677 - val_loss: 0.4020 - val_acc: 0.8425\n",
      "Epoch 4/20\n",
      "12398/12398 [==============================] - 19s - loss: 0.0484 - acc: 0.9836 - val_loss: 0.5308 - val_acc: 0.8483\n",
      "Epoch 5/20\n",
      "12398/12398 [==============================] - 20s - loss: 0.0260 - acc: 0.9912 - val_loss: 0.6403 - val_acc: 0.8374\n",
      "Epoch 6/20\n",
      "12398/12398 [==============================] - 20s - loss: 0.0161 - acc: 0.9951 - val_loss: 0.8159 - val_acc: 0.8324\n",
      "Epoch 7/20\n",
      "12398/12398 [==============================] - 20s - loss: 0.0142 - acc: 0.9949 - val_loss: 0.7458 - val_acc: 0.8353\n",
      "Epoch 8/20\n",
      "12398/12398 [==============================] - 20s - loss: 0.0093 - acc: 0.9970 - val_loss: 0.9193 - val_acc: 0.8309\n",
      "Epoch 9/20\n",
      "12398/12398 [==============================] - 20s - loss: 0.0087 - acc: 0.9968 - val_loss: 0.9294 - val_acc: 0.8287\n",
      "Epoch 10/20\n",
      "12398/12398 [==============================] - 20s - loss: 0.0094 - acc: 0.9963 - val_loss: 0.9184 - val_acc: 0.8374\n",
      "Epoch 11/20\n",
      "12398/12398 [==============================] - 19s - loss: 0.0075 - acc: 0.9972 - val_loss: 0.9244 - val_acc: 0.8382\n",
      "Epoch 12/20\n",
      "12398/12398 [==============================] - 19s - loss: 0.0046 - acc: 0.9983 - val_loss: 1.0004 - val_acc: 0.8374\n",
      "Epoch 13/20\n",
      "12398/12398 [==============================] - 19s - loss: 0.0060 - acc: 0.9981 - val_loss: 0.9968 - val_acc: 0.8353.99\n",
      "Epoch 14/20\n",
      "12398/12398 [==============================] - 19s - loss: 0.0050 - acc: 0.9985 - val_loss: 1.0742 - val_acc: 0.8280\n",
      "Epoch 15/20\n",
      "12398/12398 [==============================] - 19s - loss: 0.0034 - acc: 0.9985 - val_loss: 1.1692 - val_acc: 0.8280\n",
      "Epoch 16/20\n",
      "12398/12398 [==============================] - 19s - loss: 0.0061 - acc: 0.9977 - val_loss: 1.1635 - val_acc: 0.8120\n",
      "Epoch 17/20\n",
      "12398/12398 [==============================] - 19s - loss: 0.0035 - acc: 0.9990 - val_loss: 1.0440 - val_acc: 0.8411\n",
      "Epoch 18/20\n",
      "12398/12398 [==============================] - 19s - loss: 0.0044 - acc: 0.9986 - val_loss: 1.0552 - val_acc: 0.8273\n",
      "Epoch 19/20\n",
      "12398/12398 [==============================] - 19s - loss: 0.0033 - acc: 0.9987 - val_loss: 1.0656 - val_acc: 0.8208\n",
      "Epoch 20/20\n",
      "12398/12398 [==============================] - 19s - loss: 0.0021 - acc: 0.9994 - val_loss: 1.1932 - val_acc: 0.8302\n",
      "1440/1530 [===========================>..] - ETA: 0sBuild model...\n",
      "Train on 12398 samples, validate on 1378 samples\n",
      "Epoch 1/20\n",
      "12398/12398 [==============================] - 20s - loss: 0.4056 - acc: 0.8156 - val_loss: 0.2866 - val_acc: 0.8817\n",
      "Epoch 2/20\n",
      "12398/12398 [==============================] - 19s - loss: 0.1931 - acc: 0.9271 - val_loss: 0.3040 - val_acc: 0.8817\n",
      "Epoch 3/20\n"
     ]
    },
    {
     "name": "stdout",
     "output_type": "stream",
     "text": [
      "12398/12398 [==============================] - 20s - loss: 0.0923 - acc: 0.9687 - val_loss: 0.3809 - val_acc: 0.8614\n",
      "Epoch 4/20\n",
      "12398/12398 [==============================] - 20s - loss: 0.0441 - acc: 0.9869 - val_loss: 0.5650 - val_acc: 0.8433\n",
      "Epoch 5/20\n",
      "12398/12398 [==============================] - 20s - loss: 0.0262 - acc: 0.9918 - val_loss: 0.5953 - val_acc: 0.8462\n",
      "Epoch 6/20\n",
      "12398/12398 [==============================] - 20s - loss: 0.0155 - acc: 0.9959 - val_loss: 0.7102 - val_acc: 0.8541\n",
      "Epoch 7/20\n",
      "12398/12398 [==============================] - 20s - loss: 0.0116 - acc: 0.9962 - val_loss: 0.7475 - val_acc: 0.8425\n",
      "Epoch 8/20\n",
      "12398/12398 [==============================] - 19s - loss: 0.0130 - acc: 0.9959 - val_loss: 0.8319 - val_acc: 0.8541\n",
      "Epoch 9/20\n",
      "12398/12398 [==============================] - 19s - loss: 0.0072 - acc: 0.9973 - val_loss: 0.9361 - val_acc: 0.8360\n",
      "Epoch 10/20\n",
      "12398/12398 [==============================] - 19s - loss: 0.0083 - acc: 0.9973 - val_loss: 0.9384 - val_acc: 0.8433\n",
      "Epoch 11/20\n",
      "12398/12398 [==============================] - 19s - loss: 0.0069 - acc: 0.9974 - val_loss: 0.9289 - val_acc: 0.8396\n",
      "Epoch 12/20\n",
      "12398/12398 [==============================] - 19s - loss: 0.0066 - acc: 0.9974 - val_loss: 0.8758 - val_acc: 0.8425\n",
      "Epoch 13/20\n",
      "12398/12398 [==============================] - 19s - loss: 0.0056 - acc: 0.9979 - val_loss: 0.8788 - val_acc: 0.8469\n",
      "Epoch 14/20\n",
      "12398/12398 [==============================] - 19s - loss: 0.0046 - acc: 0.9982 - val_loss: 1.0036 - val_acc: 0.8483\n",
      "Epoch 15/20\n",
      "12398/12398 [==============================] - 19s - loss: 0.0049 - acc: 0.9985 - val_loss: 1.0546 - val_acc: 0.8273\n",
      "Epoch 16/20\n",
      "12398/12398 [==============================] - 19s - loss: 0.0072 - acc: 0.9973 - val_loss: 0.9312 - val_acc: 0.8374\n",
      "Epoch 17/20\n",
      "12398/12398 [==============================] - 19s - loss: 0.0031 - acc: 0.9990 - val_loss: 0.9983 - val_acc: 0.8338\n",
      "Epoch 18/20\n",
      "12398/12398 [==============================] - 19s - loss: 0.0045 - acc: 0.9984 - val_loss: 1.0497 - val_acc: 0.8345\n",
      "Epoch 19/20\n",
      "12398/12398 [==============================] - 19s - loss: 0.0020 - acc: 0.9993 - val_loss: 1.1496 - val_acc: 0.8396\n",
      "Epoch 20/20\n",
      "12398/12398 [==============================] - 19s - loss: 0.0030 - acc: 0.9990 - val_loss: 1.1515 - val_acc: 0.8295\n",
      "1440/1530 [===========================>..] - ETA: 0s"
     ]
    }
   ],
   "source": [
    "results = cross_val(tweet_sec,ds['category'],10)"
   ]
  },
  {
   "cell_type": "code",
   "execution_count": 16,
   "metadata": {},
   "outputs": [
    {
     "name": "stdout",
     "output_type": "stream",
     "text": [
      "Acc: 84.08 (+/- 0.77)\n"
     ]
    }
   ],
   "source": [
    "print(\"Acc: %.2f (+/- %.2f)\" %(np.mean(results), np.std(results)))"
   ]
  },
  {
   "cell_type": "code",
   "execution_count": 17,
   "metadata": {},
   "outputs": [
    {
     "name": "stdout",
     "output_type": "stream",
     "text": [
      "Model 1, acc: 84.99 \n",
      "Model 2, acc: 85.44 \n",
      "Model 3, acc: 84.20 \n",
      "Model 4, acc: 83.59 \n",
      "Model 5, acc: 84.64 \n",
      "Model 6, acc: 83.66 \n",
      "Model 7, acc: 83.86 \n",
      "Model 8, acc: 84.38 \n",
      "Model 9, acc: 82.75 \n",
      "Model 10, acc: 83.27 \n"
     ]
    }
   ],
   "source": [
    "for i in range (0,len(results)):\n",
    "    print \"Model %d, acc: %.2f \" %(i+1,results[i])"
   ]
  },
  {
   "cell_type": "code",
   "execution_count": 16,
   "metadata": {},
   "outputs": [
    {
     "name": "stdout",
     "output_type": "stream",
     "text": [
      "Build model...\n",
      "Epoch 1/20\n",
      "15306/15306 [==============================] - 25s - loss: 0.3825 - acc: 0.8264    \n",
      "Epoch 2/20\n",
      "15306/15306 [==============================] - 23s - loss: 0.1876 - acc: 0.9304    \n",
      "Epoch 3/20\n",
      "15306/15306 [==============================] - 23s - loss: 0.0944 - acc: 0.9677    \n",
      "Epoch 4/20\n",
      "15306/15306 [==============================] - 24s - loss: 0.0449 - acc: 0.9852    \n",
      "Epoch 5/20\n",
      "15306/15306 [==============================] - 24s - loss: 0.0233 - acc: 0.9925    \n",
      "Epoch 6/20\n",
      "15306/15306 [==============================] - 24s - loss: 0.0173 - acc: 0.9943    \n",
      "Epoch 7/20\n",
      "15306/15306 [==============================] - 24s - loss: 0.0117 - acc: 0.9963    \n",
      "Epoch 8/20\n",
      "15306/15306 [==============================] - 24s - loss: 0.0087 - acc: 0.9971    \n",
      "Epoch 9/20\n",
      "15306/15306 [==============================] - 24s - loss: 0.0082 - acc: 0.9971    \n",
      "Epoch 10/20\n",
      "15306/15306 [==============================] - 24s - loss: 0.0075 - acc: 0.9974    \n",
      "Epoch 11/20\n",
      "15306/15306 [==============================] - 24s - loss: 0.0073 - acc: 0.9973    \n",
      "Epoch 12/20\n",
      "15306/15306 [==============================] - 24s - loss: 0.0059 - acc: 0.9976    \n",
      "Epoch 13/20\n",
      "15306/15306 [==============================] - 24s - loss: 0.0055 - acc: 0.9980    \n",
      "Epoch 14/20\n",
      "15306/15306 [==============================] - 26s - loss: 0.0052 - acc: 0.9982    \n",
      "Epoch 15/20\n",
      "15306/15306 [==============================] - 25s - loss: 0.0037 - acc: 0.9990    \n",
      "Epoch 16/20\n",
      "15306/15306 [==============================] - 25s - loss: 0.0040 - acc: 0.9986    \n",
      "Epoch 17/20\n",
      "15306/15306 [==============================] - 25s - loss: 0.0045 - acc: 0.9985    \n",
      "Epoch 18/20\n",
      "15306/15306 [==============================] - 25s - loss: 0.0036 - acc: 0.9987    \n",
      "Epoch 19/20\n",
      "15306/15306 [==============================] - 25s - loss: 0.0033 - acc: 0.9988    \n",
      "Epoch 20/20\n",
      "15306/15306 [==============================] - 25s - loss: 0.0058 - acc: 0.9984    \n"
     ]
    }
   ],
   "source": [
    "trained_model = train_model(tweet_sec,ds['category'])"
   ]
  },
  {
   "cell_type": "code",
   "execution_count": 17,
   "metadata": {
    "collapsed": true
   },
   "outputs": [],
   "source": [
    "model_json = trained_model.model.to_json()\n",
    "with open(\"./data/models/ccn_lstm/lstm_cnn.json\",'w') as json_file:\n",
    "    json_file.write(model_json)\n",
    "trained_model.model.save_weights(\"./data/models/ccn_lstm/lstm_cnn_weights.h5\")"
   ]
  },
  {
   "cell_type": "code",
   "execution_count": 18,
   "metadata": {
    "collapsed": true
   },
   "outputs": [],
   "source": [
    "trained_model.model.save(\"./data/models/ccn_lstm/lstm_cnn.h5\")"
   ]
  }
 ],
 "metadata": {
  "kernelspec": {
   "display_name": "Python(irnoy-env)",
   "language": "python",
   "name": "web"
  },
  "language_info": {
   "codemirror_mode": {
    "name": "ipython",
    "version": 2
   },
   "file_extension": ".py",
   "mimetype": "text/x-python",
   "name": "python",
   "nbconvert_exporter": "python",
   "pygments_lexer": "ipython2",
   "version": "2.7.12"
  }
 },
 "nbformat": 4,
 "nbformat_minor": 2
}
