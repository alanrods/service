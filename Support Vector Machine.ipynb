{
 "cells": [
  {
   "cell_type": "markdown",
   "metadata": {},
   "source": [
    "# Inory in Spanish Tweets (SVM Model)  \n",
    "### Building a predictive model using RF algorithm  \n",
    "\n",
    "Information about RF algorith and for better understanding:  \n",
    "* [Theory and characteristics](http://www.statsoft.com/textbook/support-vector-machines)\n",
    "* [Very useful examples](http://scikit-learn.org/stable/modules/svm.html)"
   ]
  },
  {
   "cell_type": "code",
   "execution_count": 1,
   "metadata": {
    "collapsed": true
   },
   "outputs": [],
   "source": [
    "import nltk\n",
    "# nltk.download()"
   ]
  },
  {
   "cell_type": "code",
   "execution_count": 2,
   "metadata": {
    "collapsed": true
   },
   "outputs": [],
   "source": [
    "import pandas as pd\n",
    "import numpy as np\n",
    "import io"
   ]
  },
  {
   "cell_type": "code",
   "execution_count": 3,
   "metadata": {
    "collapsed": true
   },
   "outputs": [],
   "source": [
    "import seaborn as sns\n",
    "import matplotlib.pyplot as plt\n",
    "%matplotlib inline"
   ]
  },
  {
   "cell_type": "code",
   "execution_count": 4,
   "metadata": {
    "collapsed": true
   },
   "outputs": [],
   "source": [
    "from nltk.corpus import stopwords\n",
    "from sklearn.feature_extraction.text import CountVectorizer\n",
    "from sklearn.feature_extraction.text import TfidfTransformer"
   ]
  },
  {
   "cell_type": "code",
   "execution_count": 5,
   "metadata": {
    "collapsed": true
   },
   "outputs": [],
   "source": [
    "from sklearn.svm import SVC"
   ]
  },
  {
   "cell_type": "code",
   "execution_count": 6,
   "metadata": {
    "collapsed": true
   },
   "outputs": [],
   "source": [
    "from sklearn.model_selection import cross_val_score\n",
    "from sklearn import preprocessing\n",
    "from sklearn.pipeline import Pipeline"
   ]
  },
  {
   "cell_type": "code",
   "execution_count": 7,
   "metadata": {
    "collapsed": true
   },
   "outputs": [],
   "source": [
    "popular_words = stopwords.words('spanish')"
   ]
  },
  {
   "cell_type": "code",
   "execution_count": 11,
   "metadata": {
    "collapsed": true
   },
   "outputs": [],
   "source": [
    "def read_ds(ds_list):\n",
    "    supreme = []\n",
    "    for tweet in ds_list:\n",
    "        supreme.append(tweet.split('|',2)[-2:])\n",
    "    return supreme\n",
    "\n",
    "def cat2bin(category_col):\n",
    "    lb = preprocessing.LabelBinarizer() # convert cat into binary values\n",
    "    cat_binary = lb.fit_transform(category_col) # We receive an numpy array with shape (#instances,1)\n",
    "    instances = cat_binary.shape[0]\n",
    "    return pd.Series(cat_binary.reshape((instances,))) # Almost all cross-validation metrics need \n",
    "                                                      #the categorical attribute in shape (#instances,0)"
   ]
  },
  {
   "cell_type": "code",
   "execution_count": 25,
   "metadata": {
    "collapsed": true
   },
   "outputs": [],
   "source": [
    "pipeline_svm = Pipeline([\n",
    "    ('bow', CountVectorizer(analyzer='word',stop_words=popular_words,min_df=10,ngram_range=(1,6))),\n",
    "    ('tfidf', TfidfTransformer()), \n",
    "    ('classifier', SVC(kernel='linear')),  \n",
    "])"
   ]
  },
  {
   "cell_type": "markdown",
   "metadata": {},
   "source": [
    "### SVM with 10-90 distribution"
   ]
  },
  {
   "cell_type": "code",
   "execution_count": 37,
   "metadata": {
    "collapsed": true
   },
   "outputs": [],
   "source": [
    "with io.open('data/corpus_10_90.txt','r',encoding='utf8') as f:\n",
    "    corpus_10_90 = f.readlines()"
   ]
  },
  {
   "cell_type": "code",
   "execution_count": 38,
   "metadata": {},
   "outputs": [
    {
     "data": {
      "text/plain": [
       "cat      76530\n",
       "tweet    76530\n",
       "dtype: int64"
      ]
     },
     "execution_count": 38,
     "metadata": {},
     "output_type": "execute_result"
    }
   ],
   "source": [
    "arr_10_90 = np.array(reading_ds(corpus_10_90))\n",
    "df_10_90 = pd.DataFrame(data=arr_10_90,columns=['cat','tweet'])\n",
    "df_10_90.count()"
   ]
  },
  {
   "cell_type": "code",
   "execution_count": 39,
   "metadata": {},
   "outputs": [
    {
     "data": {
      "text/plain": [
       "(76530,)"
      ]
     },
     "execution_count": 39,
     "metadata": {},
     "output_type": "execute_result"
    }
   ],
   "source": [
    "cat_binary = cat2bin(df_10_90.cat)\n",
    "cat_binary.shape"
   ]
  },
  {
   "cell_type": "code",
   "execution_count": 41,
   "metadata": {},
   "outputs": [
    {
     "name": "stdout",
     "output_type": "stream",
     "text": [
      " accuracy  :  0.910910768397\n",
      "precision  :  0.913490826588\n",
      "recall  :  0.99526692044\n",
      "f1  :  0.95262673878\n"
     ]
    }
   ],
   "source": [
    "for score in [\"accuracy\", \"precision\", \"recall\", 'f1']:\n",
    "        print score,\n",
    "        print \" : \",\n",
    "        print cross_val_score(pipeline_svm,df_10_90.tweet,cat_binary,scoring=score,cv=10,n_jobs=-1).mean()"
   ]
  },
  {
   "cell_type": "markdown",
   "metadata": {
    "collapsed": true
   },
   "source": [
    "### SVM with 30-70 distribution"
   ]
  },
  {
   "cell_type": "code",
   "execution_count": 42,
   "metadata": {
    "collapsed": true
   },
   "outputs": [],
   "source": [
    "with io.open('data/corpus_30_70.txt','r',encoding='utf8') as f:\n",
    "    corpus_30_70 = f.readlines()"
   ]
  },
  {
   "cell_type": "code",
   "execution_count": 43,
   "metadata": {},
   "outputs": [
    {
     "data": {
      "text/plain": [
       "cat      25510\n",
       "tweet    25510\n",
       "dtype: int64"
      ]
     },
     "execution_count": 43,
     "metadata": {},
     "output_type": "execute_result"
    }
   ],
   "source": [
    "arr_30_70 = np.array(reading_ds(corpus_30_70))\n",
    "df_30_70 = pd.DataFrame(data=arr_30_70,columns=['cat','tweet'])\n",
    "df_30_70.count()"
   ]
  },
  {
   "cell_type": "code",
   "execution_count": 44,
   "metadata": {},
   "outputs": [
    {
     "data": {
      "text/plain": [
       "(25510,)"
      ]
     },
     "execution_count": 44,
     "metadata": {},
     "output_type": "execute_result"
    }
   ],
   "source": [
    "cat_binary = cat2bin(df_30_70.cat)\n",
    "cat_binary.shape"
   ]
  },
  {
   "cell_type": "code",
   "execution_count": 45,
   "metadata": {},
   "outputs": [
    {
     "name": "stdout",
     "output_type": "stream",
     "text": [
      "accuracy  :  0.792669767694\n",
      "precision  :  0.80432263833\n",
      "recall  :  0.930167188936\n",
      "f1  :  0.862662358688\n"
     ]
    }
   ],
   "source": [
    "for score in [\"accuracy\", \"precision\", \"recall\", 'f1']:\n",
    "        print score,\n",
    "        print \" : \",\n",
    "        print cross_val_score(pipeline_svm,df_30_70.tweet,cat_binary,scoring=score,cv=10,n_jobs=-1).mean()"
   ]
  },
  {
   "cell_type": "markdown",
   "metadata": {},
   "source": [
    "### SVM with 50-50 distribution"
   ]
  },
  {
   "cell_type": "code",
   "execution_count": 46,
   "metadata": {
    "collapsed": true
   },
   "outputs": [],
   "source": [
    "with io.open('data/corpus_50_50.txt','r',encoding='utf8') as f:\n",
    "    corpus_50_50 = f.readlines()"
   ]
  },
  {
   "cell_type": "code",
   "execution_count": 47,
   "metadata": {},
   "outputs": [
    {
     "data": {
      "text/plain": [
       "cat      15306\n",
       "tweet    15306\n",
       "dtype: int64"
      ]
     },
     "execution_count": 47,
     "metadata": {},
     "output_type": "execute_result"
    }
   ],
   "source": [
    "arr_50_50 = np.array(reading_ds(corpus_50_50))\n",
    "df_50_50 = pd.DataFrame(data=arr_50_50,columns=['cat','tweet'])\n",
    "df_50_50.count()"
   ]
  },
  {
   "cell_type": "code",
   "execution_count": 48,
   "metadata": {},
   "outputs": [
    {
     "data": {
      "text/plain": [
       "(15306,)"
      ]
     },
     "execution_count": 48,
     "metadata": {},
     "output_type": "execute_result"
    }
   ],
   "source": [
    "cat_binary = cat2bin(df_50_50.cat)\n",
    "cat_binary.shape"
   ]
  },
  {
   "cell_type": "code",
   "execution_count": 49,
   "metadata": {},
   "outputs": [
    {
     "name": "stdout",
     "output_type": "stream",
     "text": [
      "accuracy  :  0.728472414205\n",
      "precision  :  0.706313323718\n",
      "recall  :  0.782307206608\n",
      "f1  :  0.742329234118\n"
     ]
    }
   ],
   "source": [
    "for score in [\"accuracy\", \"precision\", \"recall\", 'f1']:\n",
    "        print score,\n",
    "        print \" : \",\n",
    "        print cross_val_score(pipeline_svm,df_50_50.tweet,cat_binary,scoring=score,cv=10,n_jobs=-1).mean()"
   ]
  }
 ],
 "metadata": {
  "kernelspec": {
   "display_name": "Python 2",
   "language": "python",
   "name": "python2"
  },
  "language_info": {
   "codemirror_mode": {
    "name": "ipython",
    "version": 2
   },
   "file_extension": ".py",
   "mimetype": "text/x-python",
   "name": "python",
   "nbconvert_exporter": "python",
   "pygments_lexer": "ipython2",
   "version": "2.7.13"
  }
 },
 "nbformat": 4,
 "nbformat_minor": 2
}
