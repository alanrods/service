{
 "cells": [
  {
   "cell_type": "markdown",
   "metadata": {},
   "source": [
    "# CORPUS creation\n",
    "#### We create three different corpus distributions\n",
    "\n",
    "In order to create and testing different situations of this test, we build three different corpus distributions to be able to see, what it is happen with the irony in these situations:  \n",
    "* Not much irony (10% irony instances)\n",
    "* More less irony (30% irony instances)\n",
    "* A half of irony (50% irony instances)"
   ]
  },
  {
   "cell_type": "code",
   "execution_count": 22,
   "metadata": {
    "collapsed": true
   },
   "outputs": [],
   "source": [
    "import io\n",
    "import random"
   ]
  },
  {
   "cell_type": "code",
   "execution_count": 23,
   "metadata": {
    "collapsed": true
   },
   "outputs": [],
   "source": [
    "with io.open('data/ironicos_normalizados.txt','r',encoding='utf8') as f:\n",
    "    ironics = f.readlines()\n",
    "    \n",
    "with io.open('data/no_ironicos_normalizados.txt','r',encoding='utf8') as f:\n",
    "    not_ironics = f.readlines()"
   ]
  },
  {
   "cell_type": "code",
   "execution_count": 24,
   "metadata": {},
   "outputs": [
    {
     "name": "stdout",
     "output_type": "stream",
     "text": [
      "7653 68877\n",
      "76530\n"
     ]
    }
   ],
   "source": [
    "corpus = ironics + not_ironics\n",
    "print len(ironics),len(not_ironics)\n",
    "print len(corpus)"
   ]
  },
  {
   "cell_type": "code",
   "execution_count": 25,
   "metadata": {
    "collapsed": true
   },
   "outputs": [],
   "source": [
    "def write_corpus(path,corpus_list):\n",
    "    corpus_file = open(path,'w')\n",
    "    corpus_file.write(''.join(corpus_list).encode('utf8'))\n",
    "    corpus_file.close()"
   ]
  },
  {
   "cell_type": "markdown",
   "metadata": {},
   "source": [
    "### Not much irony Corpus  \n",
    "Ironics vs non ironics  \n",
    "7653 vs 68877"
   ]
  },
  {
   "cell_type": "code",
   "execution_count": 26,
   "metadata": {
    "collapsed": true
   },
   "outputs": [],
   "source": [
    "corpus_10_90 = ironics + not_ironics\n",
    "random.shuffle(corpus_10_90)"
   ]
  },
  {
   "cell_type": "code",
   "execution_count": 27,
   "metadata": {
    "collapsed": true
   },
   "outputs": [],
   "source": [
    "write_corpus('data/corpus_10_90.txt',corpus_10_90)"
   ]
  },
  {
   "cell_type": "markdown",
   "metadata": {
    "collapsed": true
   },
   "source": [
    "### More less irony Corpus\n",
    "Ironics vs non ironics  \n",
    "7653 vs 17857"
   ]
  },
  {
   "cell_type": "code",
   "execution_count": 28,
   "metadata": {},
   "outputs": [
    {
     "name": "stdout",
     "output_type": "stream",
     "text": [
      "25510\n"
     ]
    }
   ],
   "source": [
    "corpus_30_70 = ironics + not_ironics[:17857]\n",
    "random.shuffle(corpus_30_70)\n",
    "print len(corpus_30_70)"
   ]
  },
  {
   "cell_type": "code",
   "execution_count": 29,
   "metadata": {
    "collapsed": true
   },
   "outputs": [],
   "source": [
    "write_corpus('data/corpus_30_70.txt',corpus_30_70)"
   ]
  },
  {
   "cell_type": "markdown",
   "metadata": {},
   "source": [
    "### A half of irony\n",
    "Ironics vs non ironics\n",
    "7653 vs 7653"
   ]
  },
  {
   "cell_type": "code",
   "execution_count": 30,
   "metadata": {},
   "outputs": [
    {
     "name": "stdout",
     "output_type": "stream",
     "text": [
      "15306\n"
     ]
    }
   ],
   "source": [
    "corpus_50_50 = ironics + not_ironics[:7653]\n",
    "random.shuffle(corpus_50_50)\n",
    "print len(corpus_50_50)"
   ]
  },
  {
   "cell_type": "code",
   "execution_count": 31,
   "metadata": {
    "collapsed": true
   },
   "outputs": [],
   "source": [
    "write_corpus('data/corpus_50_50.txt',corpus_50_50)"
   ]
  }
 ],
 "metadata": {
  "kernelspec": {
   "display_name": "Python 2",
   "language": "python",
   "name": "python2"
  },
  "language_info": {
   "codemirror_mode": {
    "name": "ipython",
    "version": 2
   },
   "file_extension": ".py",
   "mimetype": "text/x-python",
   "name": "python",
   "nbconvert_exporter": "python",
   "pygments_lexer": "ipython2",
   "version": "2.7.13"
  }
 },
 "nbformat": 4,
 "nbformat_minor": 2
}
