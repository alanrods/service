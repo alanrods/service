{
 "cells": [
  {
   "cell_type": "markdown",
   "metadata": {},
   "source": [
    "# PREPROCESSING"
   ]
  },
  {
   "cell_type": "code",
   "execution_count": 1,
   "metadata": {
    "collapsed": true
   },
   "outputs": [],
   "source": [
    "import io\n",
    "import re"
   ]
  },
  {
   "cell_type": "markdown",
   "metadata": {},
   "source": [
    "# Ironics\n",
    "Building a normalized data set for ironics tweets.\n",
    "We already have a pre-build data set "
   ]
  },
  {
   "cell_type": "code",
   "execution_count": null,
   "metadata": {
    "collapsed": true
   },
   "outputs": [],
   "source": [
    "with io.open('data/full_ironicos.txt','r',encoding='utf8') as f:\n",
    "    ironics = f.readlines()"
   ]
  },
  {
   "cell_type": "code",
   "execution_count": null,
   "metadata": {
    "collapsed": true
   },
   "outputs": [],
   "source": [
    "new_file = open('data/ironicos_normalizados.txt','w') \n",
    "\n",
    "for message in ironics:\n",
    "    ironic = [x.rstrip() for x in message.split(':',5)]\n",
    "    ironic = ironic[0::5]\n",
    "    #ironic[1] = ironic[1].lower()\n",
    "    tweet = ironic[1]\n",
    "    tweet = re.sub(r'(#(S|s)arcasmo|#(I|i)ron(i|\\W)a)','',tweet)\n",
    "    tweet = re.sub(r'#SARCASMO|#IRON(I|\\W)A','',tweet)\n",
    "    tweet = re.sub(r'https?://t.co/.\\w*','http://link', tweet)\n",
    "    tweet = re.sub(r'@.\\w*','@',tweet)\n",
    "    tweet = re.sub(r'#','',tweet)\n",
    "    #tweet = re.sub(r'|','-',tweet)\n",
    "    ironic[1] = tweet\n",
    "    ironic.insert(1,'ironic')\n",
    "    new_file.write('|'.join(ironic).encode('utf8')+'\\n')\n",
    "    \n",
    "new_file.close()\n",
    "\n",
    "    "
   ]
  },
  {
   "cell_type": "code",
   "execution_count": null,
   "metadata": {},
   "outputs": [],
   "source": [
    "print len(ironics)"
   ]
  },
  {
   "cell_type": "markdown",
   "metadata": {},
   "source": [
    "# PREPROCESSING\n",
    "Building a normalized data set for ironics tweets"
   ]
  },
  {
   "cell_type": "code",
   "execution_count": null,
   "metadata": {
    "collapsed": true
   },
   "outputs": [],
   "source": [
    "with io.open('data/full_background.txt','r',encoding='utf8') as f:\n",
    "    not_ironics = f.readlines()"
   ]
  },
  {
   "cell_type": "code",
   "execution_count": null,
   "metadata": {
    "collapsed": true
   },
   "outputs": [],
   "source": [
    "new_file = open('data/no_ironicos_normalizados.txt','w') \n",
    "for message in not_ironics[:7653]:\n",
    "    not_ironic = [x.rstrip() for x in message.split(':',1)]\n",
    "    tweet = not_ironic[1]\n",
    "    #not_ironic[1] = re.sub(r'|','-',tweet)\n",
    "    not_ironic.insert(1,'not_ironic')\n",
    "    new_file.write('|'.join(not_ironic).encode('utf8')+'\\n')\n",
    "\n",
    "new_file.close()"
   ]
  },
  {
   "cell_type": "code",
   "execution_count": null,
   "metadata": {},
   "outputs": [],
   "source": [
    "print len(not_ironics)"
   ]
  },
  {
   "cell_type": "code",
   "execution_count": null,
   "metadata": {
    "collapsed": true
   },
   "outputs": [],
   "source": []
  }
 ],
 "metadata": {
  "kernelspec": {
   "display_name": "Python 2",
   "language": "python",
   "name": "python2"
  },
  "language_info": {
   "codemirror_mode": {
    "name": "ipython",
    "version": 2
   },
   "file_extension": ".py",
   "mimetype": "text/x-python",
   "name": "python",
   "nbconvert_exporter": "python",
   "pygments_lexer": "ipython2",
   "version": "2.7.13"
  }
 },
 "nbformat": 4,
 "nbformat_minor": 2
}
