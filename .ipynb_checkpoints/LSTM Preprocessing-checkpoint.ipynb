{
 "cells": [
  {
   "cell_type": "markdown",
   "metadata": {},
   "source": [
    "# LSTM Corpus Creation"
   ]
  },
  {
   "cell_type": "code",
   "execution_count": 1,
   "metadata": {
    "collapsed": true
   },
   "outputs": [],
   "source": [
    "import io\n",
    "import numpy as np\n",
    "import pandas as pd"
   ]
  },
  {
   "cell_type": "code",
   "execution_count": 2,
   "metadata": {},
   "outputs": [
    {
     "name": "stderr",
     "output_type": "stream",
     "text": [
      "Using Theano backend.\n"
     ]
    }
   ],
   "source": [
    "from keras.preprocessing.text import Tokenizer"
   ]
  },
  {
   "cell_type": "code",
   "execution_count": 22,
   "metadata": {
    "collapsed": true
   },
   "outputs": [],
   "source": [
    "import pickle"
   ]
  },
  {
   "cell_type": "code",
   "execution_count": 16,
   "metadata": {
    "collapsed": true
   },
   "outputs": [],
   "source": [
    "tokenizer = Tokenizer(num_words=20000,lower=False)"
   ]
  },
  {
   "cell_type": "code",
   "execution_count": 17,
   "metadata": {
    "collapsed": true
   },
   "outputs": [],
   "source": [
    "def read_ds(ds_list):\n",
    "    supreme = []\n",
    "    for tweet in ds_list:\n",
    "        supreme.append(tweet.split('|',2)[-2:])\n",
    "    return supreme\n",
    "\n",
    "def  change_value(strings):\n",
    "    if strings == 'ironic':\n",
    "        return 1\n",
    "    else:\n",
    "        return 0"
   ]
  },
  {
   "cell_type": "code",
   "execution_count": 35,
   "metadata": {
    "collapsed": true
   },
   "outputs": [],
   "source": [
    "def list2vec(corpus_list):\n",
    "    arr = np.array(read_ds(corpus_list))\n",
    "    df = pd.DataFrame(data=arr,columns=['cat','tweet'])\n",
    "    alter = df['cat'].apply(change_value)\n",
    "    df.insert(loc=2,column='category',value=alter)\n",
    "    tweets = df['tweet'].iloc[:]\n",
    "    tokenizer.fit_on_texts(tweets)\n",
    "    tokenizer.word_index\n",
    "    tweet_sec = tokenizer.texts_to_sequences(tweets)\n",
    "    df.insert(loc=3,column='tweet_sec', value=tweet_sec)\n",
    "    return df[['category','tweet_sec']]"
   ]
  },
  {
   "cell_type": "markdown",
   "metadata": {},
   "source": [
    "# IMPORTANT CLARIFICATION!!!\n",
    "In order to build a data set from easy way, for saving and reading, we used the *Pickle Library*, in this particular case we save and read a **Pandas DataFrame**. Because, we consider this is the best way for setting up a data set for future use in any kind of ANN Model, but we have to say, this is not for human purposes, because the nature of *Pickle Library*, try to read the *txt file* can result impossible.  \n",
    "\n",
    "For this situation, we also save a data set copy by using a **Pandas Method** which is called **to_csv()**, thus we have a readable data set. We do not consider this path for saving and reading the data sets, because we found a **big trouble** when we try to save the *data frame*, **Pandas** saves a string instead of vector (**tweet_sec**), and we prefer to avoid this trouble in order to not increase the complexy of the project.\n"
   ]
  },
  {
   "cell_type": "code",
   "execution_count": 69,
   "metadata": {
    "collapsed": true
   },
   "outputs": [],
   "source": [
    "df = pd.read_csv('./data/ann/vectors_10_90_readable.txt',sep='|')"
   ]
  },
  {
   "cell_type": "code",
   "execution_count": 74,
   "metadata": {},
   "outputs": [
    {
     "name": "stdout",
     "output_type": "stream",
     "text": [
      "[1696, 1451, 2007, 1, 44, 779, 584, 1696, 1451, 3658, 10, 44, 5364, 2, 32, 5094, 1, 198, 4, 3]\n",
      "<type 'str'>\n"
     ]
    }
   ],
   "source": [
    "thing = df.tweet_sec.iloc[::][0] \n",
    "print thing\n",
    "print type(thing)"
   ]
  },
  {
   "cell_type": "markdown",
   "metadata": {},
   "source": [
    "### Corpus with 10-90 distribution"
   ]
  },
  {
   "cell_type": "code",
   "execution_count": 109,
   "metadata": {
    "collapsed": true
   },
   "outputs": [],
   "source": [
    "with io.open('data/corpus_10_90.txt','r',encoding='utf8') as f:\n",
    "    corpus_10_90 = f.readlines()"
   ]
  },
  {
   "cell_type": "code",
   "execution_count": 110,
   "metadata": {},
   "outputs": [
    {
     "data": {
      "text/plain": [
       "category     76530\n",
       "tweet_sec    76530\n",
       "dtype: int64"
      ]
     },
     "execution_count": 110,
     "metadata": {},
     "output_type": "execute_result"
    }
   ],
   "source": [
    "vecorp_10_90 = list2vec(corpus_10_90) \n",
    "vecorp_10_90.count()"
   ]
  },
  {
   "cell_type": "code",
   "execution_count": 112,
   "metadata": {},
   "outputs": [
    {
     "data": {
      "text/html": [
       "<div>\n",
       "<style>\n",
       "    .dataframe thead tr:only-child th {\n",
       "        text-align: right;\n",
       "    }\n",
       "\n",
       "    .dataframe thead th {\n",
       "        text-align: left;\n",
       "    }\n",
       "\n",
       "    .dataframe tbody tr th {\n",
       "        vertical-align: top;\n",
       "    }\n",
       "</style>\n",
       "<table border=\"1\" class=\"dataframe\">\n",
       "  <thead>\n",
       "    <tr style=\"text-align: right;\">\n",
       "      <th></th>\n",
       "      <th>category</th>\n",
       "      <th>tweet_sec</th>\n",
       "    </tr>\n",
       "  </thead>\n",
       "  <tbody>\n",
       "    <tr>\n",
       "      <th>0</th>\n",
       "      <td>0</td>\n",
       "      <td>[1750, 1550, 2072, 1, 46, 792, 588, 1750, 1550...</td>\n",
       "    </tr>\n",
       "    <tr>\n",
       "      <th>1</th>\n",
       "      <td>0</td>\n",
       "      <td>[43, 1562, 15, 13, 438, 9, 130]</td>\n",
       "    </tr>\n",
       "    <tr>\n",
       "      <th>2</th>\n",
       "      <td>1</td>\n",
       "      <td>[309, 25, 296, 31, 310, 91, 25, 145, 294, 21, ...</td>\n",
       "    </tr>\n",
       "    <tr>\n",
       "      <th>3</th>\n",
       "      <td>0</td>\n",
       "      <td>[24, 4522, 1385, 4415, 23, 21, 25, 2850, 6146,...</td>\n",
       "    </tr>\n",
       "    <tr>\n",
       "      <th>4</th>\n",
       "      <td>0</td>\n",
       "      <td>[762, 24, 17280, 2, 645, 7, 21, 511, 40, 15364...</td>\n",
       "    </tr>\n",
       "  </tbody>\n",
       "</table>\n",
       "</div>"
      ],
      "text/plain": [
       "   category                                          tweet_sec\n",
       "0         0  [1750, 1550, 2072, 1, 46, 792, 588, 1750, 1550...\n",
       "1         0                    [43, 1562, 15, 13, 438, 9, 130]\n",
       "2         1  [309, 25, 296, 31, 310, 91, 25, 145, 294, 21, ...\n",
       "3         0  [24, 4522, 1385, 4415, 23, 21, 25, 2850, 6146,...\n",
       "4         0  [762, 24, 17280, 2, 645, 7, 21, 511, 40, 15364..."
      ]
     },
     "execution_count": 112,
     "metadata": {},
     "output_type": "execute_result"
    }
   ],
   "source": [
    "vecorp_10_90.head()"
   ]
  },
  {
   "cell_type": "code",
   "execution_count": 113,
   "metadata": {
    "collapsed": true
   },
   "outputs": [],
   "source": [
    "vecfile = open(\"./data/ann/vectors_10_90.txt\",\"w\")\n",
    "pickle.dump(vecorp_10_90, vecfile)"
   ]
  },
  {
   "cell_type": "code",
   "execution_count": 114,
   "metadata": {
    "collapsed": true
   },
   "outputs": [],
   "source": [
    "vecorp_10_90.to_csv('./data/ann/vectors_10_90_readable.txt',sep='|',index=False)"
   ]
  },
  {
   "cell_type": "markdown",
   "metadata": {},
   "source": [
    "### Corpus with 30-70 distribution"
   ]
  },
  {
   "cell_type": "code",
   "execution_count": 115,
   "metadata": {
    "collapsed": true
   },
   "outputs": [],
   "source": [
    "with io.open('data/corpus_30_70.txt','r',encoding='utf8') as f:\n",
    "    corpus_30_70 = f.readlines()"
   ]
  },
  {
   "cell_type": "code",
   "execution_count": 116,
   "metadata": {},
   "outputs": [
    {
     "data": {
      "text/plain": [
       "category     25510\n",
       "tweet_sec    25510\n",
       "dtype: int64"
      ]
     },
     "execution_count": 116,
     "metadata": {},
     "output_type": "execute_result"
    }
   ],
   "source": [
    "vecorp_30_70 = list2vec(corpus_30_70)\n",
    "vecorp_30_70.count()"
   ]
  },
  {
   "cell_type": "code",
   "execution_count": 117,
   "metadata": {},
   "outputs": [
    {
     "data": {
      "text/html": [
       "<div>\n",
       "<style>\n",
       "    .dataframe thead tr:only-child th {\n",
       "        text-align: right;\n",
       "    }\n",
       "\n",
       "    .dataframe thead th {\n",
       "        text-align: left;\n",
       "    }\n",
       "\n",
       "    .dataframe tbody tr th {\n",
       "        vertical-align: top;\n",
       "    }\n",
       "</style>\n",
       "<table border=\"1\" class=\"dataframe\">\n",
       "  <thead>\n",
       "    <tr style=\"text-align: right;\">\n",
       "      <th></th>\n",
       "      <th>category</th>\n",
       "      <th>tweet_sec</th>\n",
       "    </tr>\n",
       "  </thead>\n",
       "  <tbody>\n",
       "    <tr>\n",
       "      <th>0</th>\n",
       "      <td>1</td>\n",
       "      <td>[1160, 1, 46, 2058, 414, 6, 14474, 1158, 1, 47...</td>\n",
       "    </tr>\n",
       "    <tr>\n",
       "      <th>1</th>\n",
       "      <td>1</td>\n",
       "      <td>[101, 7, 3233, 5, 6290, 7, 24, 9, 462, 244]</td>\n",
       "    </tr>\n",
       "    <tr>\n",
       "      <th>2</th>\n",
       "      <td>0</td>\n",
       "      <td>[84, 222, 7205, 95, 1, 35, 66, 14, 27, 63, 100...</td>\n",
       "    </tr>\n",
       "    <tr>\n",
       "      <th>3</th>\n",
       "      <td>1</td>\n",
       "      <td>[7135, 18, 13753, 2, 16814, 33, 2225, 33, 1924...</td>\n",
       "    </tr>\n",
       "    <tr>\n",
       "      <th>4</th>\n",
       "      <td>0</td>\n",
       "      <td>[8968, 22, 161, 1, 162, 127, 339, 15, 331, 10,...</td>\n",
       "    </tr>\n",
       "  </tbody>\n",
       "</table>\n",
       "</div>"
      ],
      "text/plain": [
       "   category                                          tweet_sec\n",
       "0         1  [1160, 1, 46, 2058, 414, 6, 14474, 1158, 1, 47...\n",
       "1         1        [101, 7, 3233, 5, 6290, 7, 24, 9, 462, 244]\n",
       "2         0  [84, 222, 7205, 95, 1, 35, 66, 14, 27, 63, 100...\n",
       "3         1  [7135, 18, 13753, 2, 16814, 33, 2225, 33, 1924...\n",
       "4         0  [8968, 22, 161, 1, 162, 127, 339, 15, 331, 10,..."
      ]
     },
     "execution_count": 117,
     "metadata": {},
     "output_type": "execute_result"
    }
   ],
   "source": [
    "vecorp_30_70.head()"
   ]
  },
  {
   "cell_type": "code",
   "execution_count": 118,
   "metadata": {
    "collapsed": true
   },
   "outputs": [],
   "source": [
    "vecfile = open(\"./data/ann/vectors_30_70.txt\",\"w\")\n",
    "pickle.dump(vecorp_30_70, vecfile)"
   ]
  },
  {
   "cell_type": "code",
   "execution_count": 119,
   "metadata": {
    "collapsed": true
   },
   "outputs": [],
   "source": [
    "vecorp_30_70.to_csv('./data/ann/vectors_30_70_readable.txt',sep='|',index=False)"
   ]
  },
  {
   "cell_type": "markdown",
   "metadata": {},
   "source": [
    "### Corpus with 50-50 distribution"
   ]
  },
  {
   "cell_type": "code",
   "execution_count": 120,
   "metadata": {
    "collapsed": true
   },
   "outputs": [],
   "source": [
    "with io.open('data/corpus_50_50.txt','r',encoding='utf8') as f:\n",
    "    corpus_50_50 = f.readlines()"
   ]
  },
  {
   "cell_type": "code",
   "execution_count": 121,
   "metadata": {},
   "outputs": [
    {
     "data": {
      "text/plain": [
       "category     15306\n",
       "tweet_sec    15306\n",
       "dtype: int64"
      ]
     },
     "execution_count": 121,
     "metadata": {},
     "output_type": "execute_result"
    }
   ],
   "source": [
    "vecorp_50_50 = list2vec(corpus_50_50)\n",
    "vecorp_50_50.count()"
   ]
  },
  {
   "cell_type": "code",
   "execution_count": 122,
   "metadata": {
    "scrolled": true
   },
   "outputs": [
    {
     "data": {
      "text/html": [
       "<div>\n",
       "<style>\n",
       "    .dataframe thead tr:only-child th {\n",
       "        text-align: right;\n",
       "    }\n",
       "\n",
       "    .dataframe thead th {\n",
       "        text-align: left;\n",
       "    }\n",
       "\n",
       "    .dataframe tbody tr th {\n",
       "        vertical-align: top;\n",
       "    }\n",
       "</style>\n",
       "<table border=\"1\" class=\"dataframe\">\n",
       "  <thead>\n",
       "    <tr style=\"text-align: right;\">\n",
       "      <th></th>\n",
       "      <th>category</th>\n",
       "      <th>tweet_sec</th>\n",
       "    </tr>\n",
       "  </thead>\n",
       "  <tbody>\n",
       "    <tr>\n",
       "      <th>0</th>\n",
       "      <td>1</td>\n",
       "      <td>[364, 791, 175, 1, 507, 4768]</td>\n",
       "    </tr>\n",
       "    <tr>\n",
       "      <th>1</th>\n",
       "      <td>1</td>\n",
       "      <td>[5831, 9, 2338]</td>\n",
       "    </tr>\n",
       "    <tr>\n",
       "      <th>2</th>\n",
       "      <td>0</td>\n",
       "      <td>[54, 138, 34, 2, 15, 40, 2874, 9, 6389, 4057, ...</td>\n",
       "    </tr>\n",
       "    <tr>\n",
       "      <th>3</th>\n",
       "      <td>1</td>\n",
       "      <td>[102, 36, 17, 357, 12, 782, 7, 154, 296, 7, 9,...</td>\n",
       "    </tr>\n",
       "    <tr>\n",
       "      <th>4</th>\n",
       "      <td>1</td>\n",
       "      <td>[872, 112, 29, 595, 29, 535]</td>\n",
       "    </tr>\n",
       "  </tbody>\n",
       "</table>\n",
       "</div>"
      ],
      "text/plain": [
       "   category                                          tweet_sec\n",
       "0         1                      [364, 791, 175, 1, 507, 4768]\n",
       "1         1                                    [5831, 9, 2338]\n",
       "2         0  [54, 138, 34, 2, 15, 40, 2874, 9, 6389, 4057, ...\n",
       "3         1  [102, 36, 17, 357, 12, 782, 7, 154, 296, 7, 9,...\n",
       "4         1                       [872, 112, 29, 595, 29, 535]"
      ]
     },
     "execution_count": 122,
     "metadata": {},
     "output_type": "execute_result"
    }
   ],
   "source": [
    "vecorp_50_50.head()"
   ]
  },
  {
   "cell_type": "code",
   "execution_count": 123,
   "metadata": {
    "collapsed": true
   },
   "outputs": [],
   "source": [
    "vecfile = open(\"./data/ann/vectors_50_50.txt\",\"w\")\n",
    "pickle.dump(vecorp_50_50, vecfile)"
   ]
  },
  {
   "cell_type": "code",
   "execution_count": 124,
   "metadata": {
    "collapsed": true
   },
   "outputs": [],
   "source": [
    "vecorp_50_50.to_csv('./data/ann/vectors_50_50_readable.txt',sep='|',index=False)"
   ]
  }
 ],
 "metadata": {
  "kernelspec": {
   "display_name": "Python(irnoy-env)",
   "language": "python",
   "name": "web"
  },
  "language_info": {
   "codemirror_mode": {
    "name": "ipython",
    "version": 2
   },
   "file_extension": ".py",
   "mimetype": "text/x-python",
   "name": "python",
   "nbconvert_exporter": "python",
   "pygments_lexer": "ipython2",
   "version": "2.7.12"
  }
 },
 "nbformat": 4,
 "nbformat_minor": 2
}
