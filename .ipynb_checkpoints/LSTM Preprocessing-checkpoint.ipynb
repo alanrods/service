{
 "cells": [
  {
   "cell_type": "markdown",
   "metadata": {},
   "source": [
    "# LSTM Corpus Creation"
   ]
  },
  {
   "cell_type": "code",
   "execution_count": 1,
   "metadata": {
    "collapsed": true
   },
   "outputs": [],
   "source": [
    "import io\n",
    "import numpy as np\n",
    "import pandas as pd"
   ]
  },
  {
   "cell_type": "code",
   "execution_count": 2,
   "metadata": {},
   "outputs": [
    {
     "name": "stderr",
     "output_type": "stream",
     "text": [
      "Using TensorFlow backend.\n"
     ]
    }
   ],
   "source": [
    "from keras.preprocessing.text import Tokenizer"
   ]
  },
  {
   "cell_type": "code",
   "execution_count": 3,
   "metadata": {
    "collapsed": true
   },
   "outputs": [],
   "source": [
    "import pickle"
   ]
  },
  {
   "cell_type": "code",
   "execution_count": 4,
   "metadata": {
    "collapsed": true
   },
   "outputs": [],
   "source": [
    "tokenizer = Tokenizer(num_words=20000,lower=False)"
   ]
  },
  {
   "cell_type": "code",
   "execution_count": 5,
   "metadata": {
    "collapsed": true
   },
   "outputs": [],
   "source": [
    "def read_ds(ds_list):\n",
    "    supreme = []\n",
    "    for tweet in ds_list:\n",
    "        supreme.append(tweet.split('|',2)[-2:])\n",
    "    return supreme\n",
    "\n",
    "def  change_value(strings):\n",
    "    if strings == 'ironic':\n",
    "        return 1\n",
    "    else:\n",
    "        return 0"
   ]
  },
  {
   "cell_type": "code",
   "execution_count": 6,
   "metadata": {
    "collapsed": true
   },
   "outputs": [],
   "source": [
    "def saveDict(path, sequence_dict):\n",
    "    return np.save(path, sequence_dict)\n",
    "    \n",
    "\n",
    "def getSequence(tweets_text):\n",
    "    tokenizer.fit_on_texts(tweets_text)\n",
    "    seq_dict = tokenizer.word_index\n",
    "    return tokenizer.texts_to_sequences(tweets_text), seq_dict\n",
    "\n",
    "\n",
    "def list2vec(corpus_list):\n",
    "    arr = np.array(read_ds(corpus_list))\n",
    "    df = pd.DataFrame(data=arr,columns=['cat','tweet'])\n",
    "    alter = df['cat'].apply(change_value)\n",
    "    df.insert(loc=2,column='category',value=alter)\n",
    "    tweets = df['tweet'].iloc[:]\n",
    "    tweet_sec, s_dict = getSequence(tweets)\n",
    "    df.insert(loc=3,column='tweet_sec', value=tweet_sec)\n",
    "    return df[['category','tweet_sec']], s_dict"
   ]
  },
  {
   "cell_type": "markdown",
   "metadata": {},
   "source": [
    "# IMPORTANT CLARIFICATION!!!\n",
    "In order to build a data set from easy way, for saving and reading, we used the *Pickle Library*, in this particular case we save and read a **Pandas DataFrame**. Because, we consider this is the best way for setting up a data set for future use in any kind of ANN Model, but we have to say, this is not for human purposes, because the nature of *Pickle Library*, try to read the *txt file* can result impossible.  \n",
    "\n",
    "For this situation, we also save a data set copy by using a **Pandas Method** which is called **to_csv()**, thus we have a readable data set. We do not consider this path for saving and reading the data sets, because we found a **big trouble** when we try to save the *data frame*, **Pandas** saves a string instead of vector (**tweet_sec**), and we prefer to avoid this trouble in order to not increase the complexy of the project.\n"
   ]
  },
  {
   "cell_type": "code",
   "execution_count": 8,
   "metadata": {
    "collapsed": true
   },
   "outputs": [],
   "source": [
    "df = pd.read_csv('./data/ann/vectors_10_90_readable.txt',sep='|')"
   ]
  },
  {
   "cell_type": "code",
   "execution_count": 9,
   "metadata": {},
   "outputs": [
    {
     "name": "stdout",
     "output_type": "stream",
     "text": [
      "[1750, 1550, 2072, 1, 46, 792, 588, 1750, 1550, 3982, 10, 46, 5925, 2, 32, 5505, 1, 205, 4, 3]\n",
      "<type 'str'>\n"
     ]
    }
   ],
   "source": [
    "thing = df.tweet_sec.iloc[::][0] \n",
    "print thing\n",
    "print type(thing)"
   ]
  },
  {
   "cell_type": "markdown",
   "metadata": {},
   "source": [
    "### Corpus with 10-90 distribution"
   ]
  },
  {
   "cell_type": "code",
   "execution_count": 109,
   "metadata": {
    "collapsed": true
   },
   "outputs": [],
   "source": [
    "with io.open('data/corpus_10_90.txt','r',encoding='utf8') as f:\n",
    "    corpus_10_90 = f.readlines()"
   ]
  },
  {
   "cell_type": "code",
   "execution_count": 110,
   "metadata": {},
   "outputs": [
    {
     "data": {
      "text/plain": [
       "category     76530\n",
       "tweet_sec    76530\n",
       "dtype: int64"
      ]
     },
     "execution_count": 110,
     "metadata": {},
     "output_type": "execute_result"
    }
   ],
   "source": [
    "vecorp_10_90 = list2vec(corpus_10_90) \n",
    "vecorp_10_90.count()"
   ]
  },
  {
   "cell_type": "code",
   "execution_count": 112,
   "metadata": {},
   "outputs": [
    {
     "data": {
      "text/html": [
       "<div>\n",
       "<style>\n",
       "    .dataframe thead tr:only-child th {\n",
       "        text-align: right;\n",
       "    }\n",
       "\n",
       "    .dataframe thead th {\n",
       "        text-align: left;\n",
       "    }\n",
       "\n",
       "    .dataframe tbody tr th {\n",
       "        vertical-align: top;\n",
       "    }\n",
       "</style>\n",
       "<table border=\"1\" class=\"dataframe\">\n",
       "  <thead>\n",
       "    <tr style=\"text-align: right;\">\n",
       "      <th></th>\n",
       "      <th>category</th>\n",
       "      <th>tweet_sec</th>\n",
       "    </tr>\n",
       "  </thead>\n",
       "  <tbody>\n",
       "    <tr>\n",
       "      <th>0</th>\n",
       "      <td>0</td>\n",
       "      <td>[1750, 1550, 2072, 1, 46, 792, 588, 1750, 1550...</td>\n",
       "    </tr>\n",
       "    <tr>\n",
       "      <th>1</th>\n",
       "      <td>0</td>\n",
       "      <td>[43, 1562, 15, 13, 438, 9, 130]</td>\n",
       "    </tr>\n",
       "    <tr>\n",
       "      <th>2</th>\n",
       "      <td>1</td>\n",
       "      <td>[309, 25, 296, 31, 310, 91, 25, 145, 294, 21, ...</td>\n",
       "    </tr>\n",
       "    <tr>\n",
       "      <th>3</th>\n",
       "      <td>0</td>\n",
       "      <td>[24, 4522, 1385, 4415, 23, 21, 25, 2850, 6146,...</td>\n",
       "    </tr>\n",
       "    <tr>\n",
       "      <th>4</th>\n",
       "      <td>0</td>\n",
       "      <td>[762, 24, 17280, 2, 645, 7, 21, 511, 40, 15364...</td>\n",
       "    </tr>\n",
       "  </tbody>\n",
       "</table>\n",
       "</div>"
      ],
      "text/plain": [
       "   category                                          tweet_sec\n",
       "0         0  [1750, 1550, 2072, 1, 46, 792, 588, 1750, 1550...\n",
       "1         0                    [43, 1562, 15, 13, 438, 9, 130]\n",
       "2         1  [309, 25, 296, 31, 310, 91, 25, 145, 294, 21, ...\n",
       "3         0  [24, 4522, 1385, 4415, 23, 21, 25, 2850, 6146,...\n",
       "4         0  [762, 24, 17280, 2, 645, 7, 21, 511, 40, 15364..."
      ]
     },
     "execution_count": 112,
     "metadata": {},
     "output_type": "execute_result"
    }
   ],
   "source": [
    "vecorp_10_90.head()"
   ]
  },
  {
   "cell_type": "code",
   "execution_count": 113,
   "metadata": {
    "collapsed": true
   },
   "outputs": [],
   "source": [
    "vecfile = open(\"./data/ann/vectors_10_90.txt\",\"w\")\n",
    "pickle.dump(vecorp_10_90, vecfile)"
   ]
  },
  {
   "cell_type": "code",
   "execution_count": 114,
   "metadata": {
    "collapsed": true
   },
   "outputs": [],
   "source": [
    "vecorp_10_90.to_csv('./data/ann/vectors_10_90_readable.txt',sep='|',index=False)"
   ]
  },
  {
   "cell_type": "markdown",
   "metadata": {},
   "source": [
    "### Corpus with 30-70 distribution"
   ]
  },
  {
   "cell_type": "code",
   "execution_count": 115,
   "metadata": {
    "collapsed": true
   },
   "outputs": [],
   "source": [
    "with io.open('data/corpus_30_70.txt','r',encoding='utf8') as f:\n",
    "    corpus_30_70 = f.readlines()"
   ]
  },
  {
   "cell_type": "code",
   "execution_count": 116,
   "metadata": {},
   "outputs": [
    {
     "data": {
      "text/plain": [
       "category     25510\n",
       "tweet_sec    25510\n",
       "dtype: int64"
      ]
     },
     "execution_count": 116,
     "metadata": {},
     "output_type": "execute_result"
    }
   ],
   "source": [
    "vecorp_30_70 = list2vec(corpus_30_70)\n",
    "vecorp_30_70.count()"
   ]
  },
  {
   "cell_type": "code",
   "execution_count": 25,
   "metadata": {},
   "outputs": [
    {
     "ename": "NameError",
     "evalue": "name 'vecorp_30_70' is not defined",
     "output_type": "error",
     "traceback": [
      "\u001b[0;31m---------------------------------------------------------------------------\u001b[0m",
      "\u001b[0;31mNameError\u001b[0m                                 Traceback (most recent call last)",
      "\u001b[0;32m<ipython-input-25-5302111217d0>\u001b[0m in \u001b[0;36m<module>\u001b[0;34m()\u001b[0m\n\u001b[0;32m----> 1\u001b[0;31m \u001b[0mvecorp_30_70\u001b[0m\u001b[0;34m.\u001b[0m\u001b[0mhead\u001b[0m\u001b[0;34m(\u001b[0m\u001b[0;34m)\u001b[0m\u001b[0;34m\u001b[0m\u001b[0m\n\u001b[0m",
      "\u001b[0;31mNameError\u001b[0m: name 'vecorp_30_70' is not defined"
     ]
    }
   ],
   "source": [
    "vecorp_30_70.head()"
   ]
  },
  {
   "cell_type": "code",
   "execution_count": 118,
   "metadata": {
    "collapsed": true
   },
   "outputs": [],
   "source": [
    "vecfile = open(\"./data/ann/vectors_30_70.txt\",\"w\")\n",
    "pickle.dump(vecorp_30_70, vecfile)"
   ]
  },
  {
   "cell_type": "code",
   "execution_count": 119,
   "metadata": {
    "collapsed": true
   },
   "outputs": [],
   "source": [
    "vecorp_30_70.to_csv('./data/ann/vectors_30_70_readable.txt',sep='|',index=False)"
   ]
  },
  {
   "cell_type": "markdown",
   "metadata": {},
   "source": [
    "### Corpus with 50-50 distribution"
   ]
  },
  {
   "cell_type": "code",
   "execution_count": 7,
   "metadata": {
    "collapsed": true
   },
   "outputs": [],
   "source": [
    "with io.open('data/corpus_50_50.txt','r',encoding='utf8') as f:\n",
    "    corpus_50_50 = f.readlines()"
   ]
  },
  {
   "cell_type": "code",
   "execution_count": 8,
   "metadata": {},
   "outputs": [
    {
     "data": {
      "text/plain": [
       "category     15306\n",
       "tweet_sec    15306\n",
       "dtype: int64"
      ]
     },
     "execution_count": 8,
     "metadata": {},
     "output_type": "execute_result"
    }
   ],
   "source": [
    "vecorp_50_50, dict_50_50 = list2vec(corpus_50_50)\n",
    "vecorp_50_50.count()"
   ]
  },
  {
   "cell_type": "code",
   "execution_count": 9,
   "metadata": {
    "scrolled": true
   },
   "outputs": [
    {
     "data": {
      "text/html": [
       "<div>\n",
       "<style>\n",
       "    .dataframe thead tr:only-child th {\n",
       "        text-align: right;\n",
       "    }\n",
       "\n",
       "    .dataframe thead th {\n",
       "        text-align: left;\n",
       "    }\n",
       "\n",
       "    .dataframe tbody tr th {\n",
       "        vertical-align: top;\n",
       "    }\n",
       "</style>\n",
       "<table border=\"1\" class=\"dataframe\">\n",
       "  <thead>\n",
       "    <tr style=\"text-align: right;\">\n",
       "      <th></th>\n",
       "      <th>category</th>\n",
       "      <th>tweet_sec</th>\n",
       "    </tr>\n",
       "  </thead>\n",
       "  <tbody>\n",
       "    <tr>\n",
       "      <th>0</th>\n",
       "      <td>1</td>\n",
       "      <td>[268, 459, 146, 2, 470, 4493]</td>\n",
       "    </tr>\n",
       "    <tr>\n",
       "      <th>1</th>\n",
       "      <td>1</td>\n",
       "      <td>[2264, 7, 9784, 3050]</td>\n",
       "    </tr>\n",
       "    <tr>\n",
       "      <th>2</th>\n",
       "      <td>0</td>\n",
       "      <td>[80, 172, 35, 1, 14, 39, 2265, 7, 9785, 2266, ...</td>\n",
       "    </tr>\n",
       "    <tr>\n",
       "      <th>3</th>\n",
       "      <td>1</td>\n",
       "      <td>[107, 41, 21, 471, 9, 659, 5, 216, 300, 5, 7, ...</td>\n",
       "    </tr>\n",
       "    <tr>\n",
       "      <th>4</th>\n",
       "      <td>1</td>\n",
       "      <td>[562, 106, 29, 563, 29, 422]</td>\n",
       "    </tr>\n",
       "  </tbody>\n",
       "</table>\n",
       "</div>"
      ],
      "text/plain": [
       "   category                                          tweet_sec\n",
       "0         1                      [268, 459, 146, 2, 470, 4493]\n",
       "1         1                              [2264, 7, 9784, 3050]\n",
       "2         0  [80, 172, 35, 1, 14, 39, 2265, 7, 9785, 2266, ...\n",
       "3         1  [107, 41, 21, 471, 9, 659, 5, 216, 300, 5, 7, ...\n",
       "4         1                       [562, 106, 29, 563, 29, 422]"
      ]
     },
     "execution_count": 9,
     "metadata": {},
     "output_type": "execute_result"
    }
   ],
   "source": [
    "vecorp_50_50.head()"
   ]
  },
  {
   "cell_type": "code",
   "execution_count": 15,
   "metadata": {},
   "outputs": [
    {
     "ename": "KeyError",
     "evalue": "'@'",
     "output_type": "error",
     "traceback": [
      "\u001b[0;31m---------------------------------------------------------------------------\u001b[0m",
      "\u001b[0;31mKeyError\u001b[0m                                  Traceback (most recent call last)",
      "\u001b[0;32m<ipython-input-15-25b03fc8d64e>\u001b[0m in \u001b[0;36m<module>\u001b[0;34m()\u001b[0m\n\u001b[0;32m----> 1\u001b[0;31m \u001b[0mdict_50_50\u001b[0m\u001b[0;34m[\u001b[0m\u001b[0;34m'@'\u001b[0m\u001b[0;34m]\u001b[0m\u001b[0;34m\u001b[0m\u001b[0m\n\u001b[0m",
      "\u001b[0;31mKeyError\u001b[0m: '@'"
     ]
    }
   ],
   "source": [
    "dict_50_50['http://link']"
   ]
  },
  {
   "cell_type": "code",
   "execution_count": 14,
   "metadata": {},
   "outputs": [
    {
     "name": "stdout",
     "output_type": "stream",
     "text": [
      "29505\n",
      "29505\n"
     ]
    }
   ],
   "source": [
    "values = dict_50_50.values()\n",
    "values.sort()\n",
    "print values[-1]\n",
    "print len(values)"
   ]
  },
  {
   "cell_type": "code",
   "execution_count": 44,
   "metadata": {
    "collapsed": true
   },
   "outputs": [],
   "source": [
    "dict_file = open(\"./data/ann/dicFile_50_50.p\",\"wb\")\n",
    "pickle.dump(dict_50_50, dict_file)"
   ]
  },
  {
   "cell_type": "code",
   "execution_count": 15,
   "metadata": {
    "collapsed": true
   },
   "outputs": [],
   "source": [
    "vecfile = open(\"./data/ann/vectors_50_50.txt\",\"w\")\n",
    "pickle.dump(vecorp_50_50, vecfile)"
   ]
  },
  {
   "cell_type": "code",
   "execution_count": 16,
   "metadata": {
    "collapsed": true
   },
   "outputs": [],
   "source": [
    "vecorp_50_50.to_csv('./data/ann/vectors_50_50_readable.txt',sep='|',index=False)"
   ]
  },
  {
   "cell_type": "code",
   "execution_count": 17,
   "metadata": {
    "collapsed": true
   },
   "outputs": [],
   "source": [
    "saveDict(\"./data/ann/dicFile_50_50.npy\", dict_50_50)"
   ]
  },
  {
   "cell_type": "code",
   "execution_count": null,
   "metadata": {
    "collapsed": true
   },
   "outputs": [],
   "source": []
  }
 ],
 "metadata": {
  "kernelspec": {
   "display_name": "Python(irnoy-env)",
   "language": "python",
   "name": "web"
  },
  "language_info": {
   "codemirror_mode": {
    "name": "ipython",
    "version": 2
   },
   "file_extension": ".py",
   "mimetype": "text/x-python",
   "name": "python",
   "nbconvert_exporter": "python",
   "pygments_lexer": "ipython2",
   "version": "2.7.12"
  }
 },
 "nbformat": 4,
 "nbformat_minor": 2
}
