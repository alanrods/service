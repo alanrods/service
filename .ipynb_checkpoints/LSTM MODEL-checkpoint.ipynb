{
 "cells": [
  {
   "cell_type": "markdown",
   "metadata": {},
   "source": [
    "## LSTM"
   ]
  },
  {
   "cell_type": "code",
   "execution_count": 1,
   "metadata": {},
   "outputs": [
    {
     "name": "stderr",
     "output_type": "stream",
     "text": [
      "Using TensorFlow backend.\n"
     ]
    }
   ],
   "source": [
    "from keras.preprocessing import sequence\n",
    "from keras.models import Sequential\n",
    "from keras.layers import Dense, Embedding\n",
    "from keras.layers import LSTM"
   ]
  },
  {
   "cell_type": "code",
   "execution_count": 2,
   "metadata": {
    "collapsed": true
   },
   "outputs": [],
   "source": [
    "import numpy as np\n",
    "import pandas as pd"
   ]
  },
  {
   "cell_type": "code",
   "execution_count": 3,
   "metadata": {
    "collapsed": true
   },
   "outputs": [],
   "source": [
    "import pickle"
   ]
  },
  {
   "cell_type": "markdown",
   "metadata": {},
   "source": [
    "Embeding"
   ]
  },
  {
   "cell_type": "code",
   "execution_count": 4,
   "metadata": {
    "collapsed": true
   },
   "outputs": [],
   "source": [
    "max_features = 20000\n",
    "maxlen = 20\n",
    "embedding_size = 128"
   ]
  },
  {
   "cell_type": "markdown",
   "metadata": {},
   "source": [
    "LSTM"
   ]
  },
  {
   "cell_type": "code",
   "execution_count": 5,
   "metadata": {
    "collapsed": true
   },
   "outputs": [],
   "source": [
    "lstm_output_size = 128"
   ]
  },
  {
   "cell_type": "markdown",
   "metadata": {},
   "source": [
    "Training"
   ]
  },
  {
   "cell_type": "code",
   "execution_count": 6,
   "metadata": {
    "collapsed": true
   },
   "outputs": [],
   "source": [
    "batch_size = 32\n",
    "epochs = 20"
   ]
  },
  {
   "cell_type": "code",
   "execution_count": 7,
   "metadata": {
    "collapsed": true
   },
   "outputs": [],
   "source": [
    "from sklearn.model_selection import train_test_split\n",
    "from sklearn.model_selection import StratifiedKFold"
   ]
  },
  {
   "cell_type": "code",
   "execution_count": 8,
   "metadata": {
    "collapsed": true
   },
   "outputs": [],
   "source": [
    "def load_ds(path):\n",
    "    vecfile = open(path,'r')\n",
    "    return pickle.load(vecfile)"
   ]
  },
  {
   "cell_type": "code",
   "execution_count": 9,
   "metadata": {},
   "outputs": [
    {
     "data": {
      "text/html": [
       "<div>\n",
       "<style>\n",
       "    .dataframe thead tr:only-child th {\n",
       "        text-align: right;\n",
       "    }\n",
       "\n",
       "    .dataframe thead th {\n",
       "        text-align: left;\n",
       "    }\n",
       "\n",
       "    .dataframe tbody tr th {\n",
       "        vertical-align: top;\n",
       "    }\n",
       "</style>\n",
       "<table border=\"1\" class=\"dataframe\">\n",
       "  <thead>\n",
       "    <tr style=\"text-align: right;\">\n",
       "      <th></th>\n",
       "      <th>category</th>\n",
       "      <th>tweet_sec</th>\n",
       "    </tr>\n",
       "  </thead>\n",
       "  <tbody>\n",
       "    <tr>\n",
       "      <th>0</th>\n",
       "      <td>1</td>\n",
       "      <td>[268, 459, 146, 2, 470, 4493]</td>\n",
       "    </tr>\n",
       "    <tr>\n",
       "      <th>1</th>\n",
       "      <td>1</td>\n",
       "      <td>[2264, 7, 9784, 3050]</td>\n",
       "    </tr>\n",
       "    <tr>\n",
       "      <th>2</th>\n",
       "      <td>0</td>\n",
       "      <td>[80, 172, 35, 1, 14, 39, 2265, 7, 9785, 2266, ...</td>\n",
       "    </tr>\n",
       "    <tr>\n",
       "      <th>3</th>\n",
       "      <td>1</td>\n",
       "      <td>[107, 41, 21, 471, 9, 659, 5, 216, 300, 5, 7, ...</td>\n",
       "    </tr>\n",
       "    <tr>\n",
       "      <th>4</th>\n",
       "      <td>1</td>\n",
       "      <td>[562, 106, 29, 563, 29, 422]</td>\n",
       "    </tr>\n",
       "  </tbody>\n",
       "</table>\n",
       "</div>"
      ],
      "text/plain": [
       "   category                                          tweet_sec\n",
       "0         1                      [268, 459, 146, 2, 470, 4493]\n",
       "1         1                              [2264, 7, 9784, 3050]\n",
       "2         0  [80, 172, 35, 1, 14, 39, 2265, 7, 9785, 2266, ...\n",
       "3         1  [107, 41, 21, 471, 9, 659, 5, 216, 300, 5, 7, ...\n",
       "4         1                       [562, 106, 29, 563, 29, 422]"
      ]
     },
     "execution_count": 9,
     "metadata": {},
     "output_type": "execute_result"
    }
   ],
   "source": [
    "ds = load_ds('./data/ann/vectors_50_50.txt')\n",
    "ds.head()"
   ]
  },
  {
   "cell_type": "code",
   "execution_count": 10,
   "metadata": {},
   "outputs": [
    {
     "name": "stdout",
     "output_type": "stream",
     "text": [
      "Pad sequences (samples x time)\n",
      "('tweet shape:', (15306, 20))\n"
     ]
    }
   ],
   "source": [
    "print('Pad sequences (samples x time)')\n",
    "tweet_sec = sequence.pad_sequences(ds['tweet_sec'], maxlen=maxlen)\n",
    "print('tweet shape:', tweet_sec.shape)"
   ]
  },
  {
   "cell_type": "code",
   "execution_count": 11,
   "metadata": {
    "collapsed": true
   },
   "outputs": [],
   "source": [
    "def build_arch():\n",
    "    print('Build model...')\n",
    "    model = Sequential()\n",
    "    model.add(Embedding(max_features, embedding_size))\n",
    "    model.add(LSTM(lstm_output_size,\n",
    "                   activation='tanh', \n",
    "                   recurrent_activation='hard_sigmoid', \n",
    "                   dropout=0.2, \n",
    "                   recurrent_dropout=0.2))\n",
    "    model.add(Dense(1, activation='sigmoid'))\n",
    "    return model"
   ]
  },
  {
   "cell_type": "code",
   "execution_count": 12,
   "metadata": {
    "collapsed": true
   },
   "outputs": [],
   "source": [
    "def cross_val(tweet_sec, target, nFolds):\n",
    "    kFold = StratifiedKFold(n_splits=nFolds, shuffle=True)\n",
    "    scores = []\n",
    "    for train, test in kFold.split(tweet_sec,target):\n",
    "        model = build_arch()\n",
    "        model.compile(loss='binary_crossentropy', optimizer='adam', metrics=['accuracy'])\n",
    "        model.fit(tweet_sec[train],target[train],\n",
    "                  batch_size=batch_size,\n",
    "                  epochs=epochs,\n",
    "                  validation_split=0.1,\n",
    "                  verbose=1)\n",
    "        score, acc = model.evaluate(tweet_sec[test], target[test],batch_size=batch_size)\n",
    "        scores.append(acc * 100)\n",
    "    return scores   "
   ]
  },
  {
   "cell_type": "code",
   "execution_count": 13,
   "metadata": {
    "collapsed": true
   },
   "outputs": [],
   "source": [
    "#Training with the 100% of the data set\n",
    "def train_model(tweet_sec,target):\n",
    "    model = build_arch()\n",
    "    model.compile(loss='binary_crossentropy', optimizer='adam', metrics=['accuracy'])\n",
    "    return model.fit(tweet_sec, target,\n",
    "              batch_size=batch_size,\n",
    "              epochs=epochs,\n",
    "              verbose=1)"
   ]
  },
  {
   "cell_type": "code",
   "execution_count": 16,
   "metadata": {
    "scrolled": true
   },
   "outputs": [
    {
     "name": "stdout",
     "output_type": "stream",
     "text": [
      "Build model...\n",
      "Train on 12396 samples, validate on 1378 samples\n",
      "Epoch 1/20\n",
      "12396/12396 [==============================] - 29s - loss: 0.3988 - acc: 0.8210 - val_loss: 0.2787 - val_acc: 0.8897\n",
      "Epoch 2/20\n",
      "12396/12396 [==============================] - 28s - loss: 0.1809 - acc: 0.9341 - val_loss: 0.3166 - val_acc: 0.8752\n",
      "Epoch 3/20\n",
      "12396/12396 [==============================] - 28s - loss: 0.0954 - acc: 0.9656 - val_loss: 0.3999 - val_acc: 0.8701\n",
      "Epoch 4/20\n",
      "12396/12396 [==============================] - 28s - loss: 0.0556 - acc: 0.9814 - val_loss: 0.4446 - val_acc: 0.8665\n",
      "Epoch 5/20\n",
      "12396/12396 [==============================] - 28s - loss: 0.0401 - acc: 0.9875 - val_loss: 0.5086 - val_acc: 0.8643\n",
      "Epoch 6/20\n",
      "12396/12396 [==============================] - 28s - loss: 0.0252 - acc: 0.9917 - val_loss: 0.6763 - val_acc: 0.8563\n",
      "Epoch 7/20\n",
      "12396/12396 [==============================] - 28s - loss: 0.0194 - acc: 0.9933 - val_loss: 0.7565 - val_acc: 0.8433\n",
      "Epoch 8/20\n",
      "12396/12396 [==============================] - 28s - loss: 0.0153 - acc: 0.9948 - val_loss: 0.7916 - val_acc: 0.8570\n",
      "Epoch 9/20\n",
      "12396/12396 [==============================] - 28s - loss: 0.0164 - acc: 0.9943 - val_loss: 0.7741 - val_acc: 0.8353\n",
      "Epoch 10/20\n",
      "12396/12396 [==============================] - 28s - loss: 0.0137 - acc: 0.9959 - val_loss: 0.7410 - val_acc: 0.8585\n",
      "Epoch 11/20\n",
      "12396/12396 [==============================] - 28s - loss: 0.0127 - acc: 0.9968 - val_loss: 0.7344 - val_acc: 0.8447\n",
      "Epoch 12/20\n",
      "12396/12396 [==============================] - 28s - loss: 0.0093 - acc: 0.9971 - val_loss: 0.8252 - val_acc: 0.8483\n",
      "Epoch 13/20\n",
      "12396/12396 [==============================] - 28s - loss: 0.0117 - acc: 0.9957 - val_loss: 0.8576 - val_acc: 0.8527\n",
      "Epoch 14/20\n",
      "12396/12396 [==============================] - 28s - loss: 0.0113 - acc: 0.9958 - val_loss: 0.7900 - val_acc: 0.8476\n",
      "Epoch 15/20\n",
      "12396/12396 [==============================] - 28s - loss: 0.0093 - acc: 0.9970 - val_loss: 0.8413 - val_acc: 0.8418\n",
      "Epoch 16/20\n",
      "12396/12396 [==============================] - 28s - loss: 0.0041 - acc: 0.9988 - val_loss: 0.9082 - val_acc: 0.8425\n",
      "Epoch 17/20\n",
      "12396/12396 [==============================] - 28s - loss: 0.0048 - acc: 0.9988 - val_loss: 0.9839 - val_acc: 0.8469\n",
      "Epoch 18/20\n",
      "12396/12396 [==============================] - 28s - loss: 0.0024 - acc: 0.9993 - val_loss: 1.0659 - val_acc: 0.8483\n",
      "Epoch 19/20\n",
      "12396/12396 [==============================] - 28s - loss: 0.0021 - acc: 0.9993 - val_loss: 1.0440 - val_acc: 0.8454\n",
      "Epoch 20/20\n",
      "12396/12396 [==============================] - 28s - loss: 0.0020 - acc: 0.9995 - val_loss: 1.2617 - val_acc: 0.8425\n",
      "1440/1532 [===========================>..] - ETA: 0sBuild model...\n",
      "Train on 12396 samples, validate on 1378 samples\n",
      "Epoch 1/20\n",
      "12396/12396 [==============================] - 28s - loss: 0.3965 - acc: 0.8248 - val_loss: 0.2816 - val_acc: 0.8853\n",
      "Epoch 2/20\n",
      "12396/12396 [==============================] - 28s - loss: 0.1768 - acc: 0.9353 - val_loss: 0.3531 - val_acc: 0.8650\n",
      "Epoch 3/20\n",
      "12396/12396 [==============================] - 28s - loss: 0.0895 - acc: 0.9690 - val_loss: 0.4521 - val_acc: 0.8614\n",
      "Epoch 4/20\n",
      "12396/12396 [==============================] - 28s - loss: 0.0526 - acc: 0.9821 - val_loss: 0.5021 - val_acc: 0.8621\n",
      "Epoch 5/20\n",
      "12396/12396 [==============================] - 28s - loss: 0.0380 - acc: 0.9866 - val_loss: 0.7030 - val_acc: 0.8476\n",
      "Epoch 6/20\n",
      "12396/12396 [==============================] - 27s - loss: 0.0295 - acc: 0.9898 - val_loss: 0.6509 - val_acc: 0.8469\n",
      "Epoch 7/20\n",
      "12396/12396 [==============================] - 28s - loss: 0.0180 - acc: 0.9941 - val_loss: 0.8115 - val_acc: 0.8483\n",
      "Epoch 8/20\n",
      "12396/12396 [==============================] - 27s - loss: 0.0154 - acc: 0.9953 - val_loss: 0.8778 - val_acc: 0.8462\n",
      "Epoch 9/20\n",
      "12396/12396 [==============================] - 27s - loss: 0.0225 - acc: 0.9932 - val_loss: 0.8005 - val_acc: 0.8411\n",
      "Epoch 10/20\n",
      "12396/12396 [==============================] - 27s - loss: 0.0159 - acc: 0.9953 - val_loss: 0.8484 - val_acc: 0.8418\n",
      "Epoch 11/20\n",
      "12396/12396 [==============================] - 27s - loss: 0.0112 - acc: 0.9960 - val_loss: 0.9213 - val_acc: 0.8440\n",
      "Epoch 12/20\n",
      "12396/12396 [==============================] - 28s - loss: 0.0081 - acc: 0.9976 - val_loss: 0.9315 - val_acc: 0.8447\n",
      "Epoch 13/20\n",
      "12396/12396 [==============================] - 28s - loss: 0.0087 - acc: 0.9977 - val_loss: 0.9476 - val_acc: 0.8447\n",
      "Epoch 14/20\n",
      "12396/12396 [==============================] - 28s - loss: 0.0086 - acc: 0.9973 - val_loss: 0.9843 - val_acc: 0.8491\n",
      "Epoch 15/20\n",
      "12396/12396 [==============================] - 28s - loss: 0.0122 - acc: 0.9960 - val_loss: 0.9144 - val_acc: 0.8425\n",
      "Epoch 16/20\n",
      "12396/12396 [==============================] - 28s - loss: 0.0102 - acc: 0.9969 - val_loss: 0.9031 - val_acc: 0.8425\n",
      "Epoch 17/20\n",
      "12396/12396 [==============================] - 28s - loss: 0.0088 - acc: 0.9979 - val_loss: 0.8686 - val_acc: 0.8396\n",
      "Epoch 18/20\n",
      "12396/12396 [==============================] - 28s - loss: 0.0066 - acc: 0.9981 - val_loss: 0.9124 - val_acc: 0.8309\n",
      "Epoch 19/20\n",
      "12396/12396 [==============================] - 28s - loss: 0.0044 - acc: 0.9988 - val_loss: 0.9879 - val_acc: 0.8403\n",
      "Epoch 20/20\n",
      "12396/12396 [==============================] - 28s - loss: 0.0049 - acc: 0.9984 - val_loss: 0.9508 - val_acc: 0.8396\n",
      "1440/1532 [===========================>..] - ETA: 0sBuild model...\n",
      "Train on 12396 samples, validate on 1378 samples\n",
      "Epoch 1/20\n",
      "12396/12396 [==============================] - 28s - loss: 0.4132 - acc: 0.8140 - val_loss: 0.2765 - val_acc: 0.8970\n",
      "Epoch 2/20\n",
      "12396/12396 [==============================] - 28s - loss: 0.1765 - acc: 0.9347 - val_loss: 0.3119 - val_acc: 0.8824\n",
      "Epoch 3/20\n",
      "12396/12396 [==============================] - 28s - loss: 0.0911 - acc: 0.9679 - val_loss: 0.3910 - val_acc: 0.8599\n",
      "Epoch 4/20\n",
      "12396/12396 [==============================] - 28s - loss: 0.0521 - acc: 0.9814 - val_loss: 0.4490 - val_acc: 0.8701\n",
      "Epoch 5/20\n",
      "12396/12396 [==============================] - 28s - loss: 0.0367 - acc: 0.9880 - val_loss: 0.5293 - val_acc: 0.8563\n",
      "Epoch 6/20\n",
      "12396/12396 [==============================] - 28s - loss: 0.0245 - acc: 0.9921 - val_loss: 0.6679 - val_acc: 0.8541\n",
      "Epoch 7/20\n",
      "12396/12396 [==============================] - 28s - loss: 0.0199 - acc: 0.9929 - val_loss: 0.6853 - val_acc: 0.8607\n",
      "Epoch 8/20\n",
      "12396/12396 [==============================] - 28s - loss: 0.0204 - acc: 0.9939 - val_loss: 0.6475 - val_acc: 0.8425\n",
      "Epoch 9/20\n",
      "12396/12396 [==============================] - 28s - loss: 0.0128 - acc: 0.9963 - val_loss: 0.8755 - val_acc: 0.8476\n",
      "Epoch 10/20\n",
      "12396/12396 [==============================] - 28s - loss: 0.0151 - acc: 0.9954 - val_loss: 0.8055 - val_acc: 0.8353\n",
      "Epoch 11/20\n",
      "12396/12396 [==============================] - 28s - loss: 0.0141 - acc: 0.9958 - val_loss: 0.7890 - val_acc: 0.8527\n",
      "Epoch 12/20\n",
      "12396/12396 [==============================] - 28s - loss: 0.0070 - acc: 0.9983 - val_loss: 0.9707 - val_acc: 0.8578\n",
      "Epoch 13/20\n",
      "12396/12396 [==============================] - 28s - loss: 0.0067 - acc: 0.9980 - val_loss: 0.8452 - val_acc: 0.8433\n",
      "Epoch 14/20\n",
      "12396/12396 [==============================] - 28s - loss: 0.0108 - acc: 0.9961 - val_loss: 0.8754 - val_acc: 0.8411\n",
      "Epoch 15/20\n",
      "12396/12396 [==============================] - 28s - loss: 0.0103 - acc: 0.9970 - val_loss: 0.8862 - val_acc: 0.8585\n",
      "Epoch 16/20\n",
      "12396/12396 [==============================] - 28s - loss: 0.0079 - acc: 0.9970 - val_loss: 0.8584 - val_acc: 0.8643\n",
      "Epoch 17/20\n",
      "12396/12396 [==============================] - 28s - loss: 0.0047 - acc: 0.9985 - val_loss: 0.9725 - val_acc: 0.8549\n",
      "Epoch 18/20\n",
      "12396/12396 [==============================] - 28s - loss: 0.0052 - acc: 0.9983 - val_loss: 1.0734 - val_acc: 0.8563\n",
      "Epoch 19/20\n",
      "12396/12396 [==============================] - 27s - loss: 0.0072 - acc: 0.9977 - val_loss: 0.8535 - val_acc: 0.8599\n",
      "Epoch 20/20\n",
      "12396/12396 [==============================] - 27s - loss: 0.0054 - acc: 0.9979 - val_loss: 1.0258 - val_acc: 0.8462\n",
      "1440/1532 [===========================>..] - ETA: 0sBuild model...\n",
      "Train on 12398 samples, validate on 1378 samples\n",
      "Epoch 1/20\n",
      "12398/12398 [==============================] - 27s - loss: 0.3988 - acc: 0.8184 - val_loss: 0.2834 - val_acc: 0.8861\n",
      "Epoch 2/20\n",
      "12398/12398 [==============================] - 27s - loss: 0.1743 - acc: 0.9352 - val_loss: 0.3280 - val_acc: 0.8824\n",
      "Epoch 3/20\n",
      "12398/12398 [==============================] - 27s - loss: 0.0935 - acc: 0.9672 - val_loss: 0.4018 - val_acc: 0.8745\n",
      "Epoch 4/20\n",
      "12398/12398 [==============================] - 27s - loss: 0.0578 - acc: 0.9791 - val_loss: 0.4763 - val_acc: 0.8694\n",
      "Epoch 5/20\n",
      "12398/12398 [==============================] - 27s - loss: 0.0381 - acc: 0.9871 - val_loss: 0.5894 - val_acc: 0.8556\n",
      "Epoch 6/20\n",
      "12398/12398 [==============================] - 27s - loss: 0.0245 - acc: 0.9915 - val_loss: 0.7176 - val_acc: 0.8527\n",
      "Epoch 7/20\n",
      "12398/12398 [==============================] - 27s - loss: 0.0217 - acc: 0.9923 - val_loss: 0.8099 - val_acc: 0.8462\n",
      "Epoch 8/20\n",
      "12398/12398 [==============================] - 27s - loss: 0.0162 - acc: 0.9947 - val_loss: 0.7293 - val_acc: 0.8549\n",
      "Epoch 9/20\n",
      "12398/12398 [==============================] - 27s - loss: 0.0118 - acc: 0.9969 - val_loss: 0.9449 - val_acc: 0.8396\n",
      "Epoch 10/20\n",
      "12398/12398 [==============================] - 27s - loss: 0.0169 - acc: 0.9947 - val_loss: 0.8627 - val_acc: 0.8469\n",
      "Epoch 11/20\n",
      "12398/12398 [==============================] - 27s - loss: 0.0129 - acc: 0.9954 - val_loss: 0.9271 - val_acc: 0.8331\n",
      "Epoch 12/20\n",
      "12398/12398 [==============================] - 27s - loss: 0.0083 - acc: 0.9975 - val_loss: 0.9326 - val_acc: 0.8382\n",
      "Epoch 13/20\n",
      "12398/12398 [==============================] - 27s - loss: 0.0067 - acc: 0.9981 - val_loss: 0.9225 - val_acc: 0.8367\n",
      "Epoch 14/20\n",
      "12398/12398 [==============================] - 27s - loss: 0.0113 - acc: 0.9962 - val_loss: 0.8505 - val_acc: 0.8418\n",
      "Epoch 15/20\n",
      "12398/12398 [==============================] - 27s - loss: 0.0077 - acc: 0.9974 - val_loss: 0.9229 - val_acc: 0.8353\n",
      "Epoch 16/20\n",
      "12398/12398 [==============================] - 27s - loss: 0.0086 - acc: 0.9977 - val_loss: 0.9780 - val_acc: 0.8462\n",
      "Epoch 17/20\n",
      "12398/12398 [==============================] - 27s - loss: 0.0058 - acc: 0.9980 - val_loss: 0.9011 - val_acc: 0.8374\n",
      "Epoch 18/20\n",
      "12398/12398 [==============================] - 27s - loss: 0.0033 - acc: 0.9990 - val_loss: 1.0929 - val_acc: 0.8411\n",
      "Epoch 19/20\n",
      "12398/12398 [==============================] - 27s - loss: 0.0023 - acc: 0.9994 - val_loss: 1.0573 - val_acc: 0.8077\n",
      "Epoch 20/20\n",
      "12398/12398 [==============================] - 27s - loss: 0.0063 - acc: 0.9985 - val_loss: 0.9863 - val_acc: 0.8374\n",
      "1504/1530 [============================>.] - ETA: 0sBuild model...\n",
      "Train on 12398 samples, validate on 1378 samples\n",
      "Epoch 1/20\n",
      "12398/12398 [==============================] - 28s - loss: 0.4084 - acc: 0.8223 - val_loss: 0.3068 - val_acc: 0.8759\n",
      "Epoch 2/20\n",
      "12398/12398 [==============================] - 27s - loss: 0.1788 - acc: 0.9341 - val_loss: 0.3322 - val_acc: 0.8687\n",
      "Epoch 3/20\n",
      "12398/12398 [==============================] - 27s - loss: 0.0975 - acc: 0.9659 - val_loss: 0.3848 - val_acc: 0.8628\n",
      "Epoch 4/20\n",
      "12398/12398 [==============================] - 27s - loss: 0.0553 - acc: 0.9809 - val_loss: 0.4654 - val_acc: 0.8520\n",
      "Epoch 5/20\n",
      "12398/12398 [==============================] - 27s - loss: 0.0384 - acc: 0.9860 - val_loss: 0.6048 - val_acc: 0.8440\n",
      "Epoch 6/20\n",
      "12398/12398 [==============================] - 27s - loss: 0.0263 - acc: 0.9911 - val_loss: 0.6475 - val_acc: 0.8505\n",
      "Epoch 7/20\n",
      "12398/12398 [==============================] - 27s - loss: 0.0293 - acc: 0.9898 - val_loss: 0.7074 - val_acc: 0.8447\n",
      "Epoch 8/20\n",
      "12398/12398 [==============================] - 27s - loss: 0.0203 - acc: 0.9924 - val_loss: 0.7342 - val_acc: 0.8498\n",
      "Epoch 9/20\n",
      "12398/12398 [==============================] - 27s - loss: 0.0130 - acc: 0.9957 - val_loss: 0.8804 - val_acc: 0.8476\n",
      "Epoch 10/20\n",
      "12398/12398 [==============================] - 27s - loss: 0.0153 - acc: 0.9948 - val_loss: 0.8226 - val_acc: 0.8469\n",
      "Epoch 11/20\n",
      "12398/12398 [==============================] - 27s - loss: 0.0153 - acc: 0.9948 - val_loss: 0.8277 - val_acc: 0.8483\n",
      "Epoch 12/20\n",
      "12398/12398 [==============================] - 27s - loss: 0.0079 - acc: 0.9978 - val_loss: 0.8856 - val_acc: 0.8396\n",
      "Epoch 13/20\n",
      "12398/12398 [==============================] - 27s - loss: 0.0081 - acc: 0.9977 - val_loss: 0.9216 - val_acc: 0.8382\n",
      "Epoch 14/20\n",
      "12398/12398 [==============================] - 27s - loss: 0.0183 - acc: 0.9943 - val_loss: 0.8117 - val_acc: 0.8505\n",
      "Epoch 15/20\n",
      "12398/12398 [==============================] - 27s - loss: 0.0084 - acc: 0.9977 - val_loss: 0.9088 - val_acc: 0.8316\n",
      "Epoch 16/20\n",
      "12398/12398 [==============================] - 27s - loss: 0.0098 - acc: 0.9972 - val_loss: 0.8596 - val_acc: 0.8411\n",
      "Epoch 17/20\n",
      "12398/12398 [==============================] - 27s - loss: 0.0074 - acc: 0.9975 - val_loss: 0.8472 - val_acc: 0.8374\n",
      "Epoch 18/20\n",
      "12398/12398 [==============================] - 27s - loss: 0.0059 - acc: 0.9985 - val_loss: 0.9550 - val_acc: 0.8476\n",
      "Epoch 19/20\n",
      "12398/12398 [==============================] - 27s - loss: 0.0059 - acc: 0.9982 - val_loss: 0.9493 - val_acc: 0.8599\n",
      "Epoch 20/20\n",
      "12398/12398 [==============================] - 27s - loss: 0.0037 - acc: 0.9988 - val_loss: 1.0138 - val_acc: 0.8454\n",
      "1504/1530 [============================>.] - ETA: 0sBuild model...\n",
      "Train on 12398 samples, validate on 1378 samples\n",
      "Epoch 1/20\n",
      "12398/12398 [==============================] - 28s - loss: 0.4040 - acc: 0.8213 - val_loss: 0.3074 - val_acc: 0.8839\n",
      "Epoch 2/20\n",
      "12398/12398 [==============================] - 27s - loss: 0.1777 - acc: 0.9356 - val_loss: 0.3359 - val_acc: 0.8723\n",
      "Epoch 3/20\n",
      "12398/12398 [==============================] - 27s - loss: 0.0921 - acc: 0.9664 - val_loss: 0.4155 - val_acc: 0.8774\n",
      "Epoch 4/20\n",
      "12398/12398 [==============================] - 28s - loss: 0.0545 - acc: 0.9810 - val_loss: 0.4743 - val_acc: 0.8657\n",
      "Epoch 5/20\n",
      "12398/12398 [==============================] - 27s - loss: 0.0354 - acc: 0.9879 - val_loss: 0.6684 - val_acc: 0.8498\n",
      "Epoch 6/20\n",
      "12398/12398 [==============================] - 27s - loss: 0.0296 - acc: 0.9904 - val_loss: 0.7307 - val_acc: 0.8316\n",
      "Epoch 7/20\n",
      "12398/12398 [==============================] - 27s - loss: 0.0228 - acc: 0.9925 - val_loss: 0.7055 - val_acc: 0.8491\n",
      "Epoch 8/20\n",
      "12398/12398 [==============================] - 27s - loss: 0.0158 - acc: 0.9952 - val_loss: 0.8820 - val_acc: 0.8403\n",
      "Epoch 9/20\n",
      "12398/12398 [==============================] - 27s - loss: 0.0240 - acc: 0.9920 - val_loss: 0.7893 - val_acc: 0.8425\n",
      "Epoch 10/20\n",
      "12398/12398 [==============================] - 27s - loss: 0.0114 - acc: 0.9969 - val_loss: 0.8646 - val_acc: 0.8374\n",
      "Epoch 11/20\n",
      "12398/12398 [==============================] - 27s - loss: 0.0114 - acc: 0.9966 - val_loss: 0.9172 - val_acc: 0.8389\n",
      "Epoch 12/20\n",
      "12398/12398 [==============================] - 27s - loss: 0.0087 - acc: 0.9967 - val_loss: 0.8991 - val_acc: 0.8454\n",
      "Epoch 13/20\n",
      "12398/12398 [==============================] - 27s - loss: 0.0065 - acc: 0.9981 - val_loss: 0.8993 - val_acc: 0.8418\n",
      "Epoch 14/20\n",
      "12398/12398 [==============================] - 27s - loss: 0.0103 - acc: 0.9971 - val_loss: 0.8861 - val_acc: 0.8382\n",
      "Epoch 15/20\n",
      "12398/12398 [==============================] - 27s - loss: 0.0154 - acc: 0.9950 - val_loss: 0.9229 - val_acc: 0.8367\n",
      "Epoch 16/20\n",
      "12398/12398 [==============================] - 27s - loss: 0.0079 - acc: 0.9977 - val_loss: 0.8897 - val_acc: 0.8403\n",
      "Epoch 17/20\n",
      "12398/12398 [==============================] - 27s - loss: 0.0043 - acc: 0.9990 - val_loss: 0.9408 - val_acc: 0.8476\n",
      "Epoch 18/20\n",
      "12398/12398 [==============================] - 28s - loss: 0.0057 - acc: 0.9984 - val_loss: 0.9026 - val_acc: 0.8374\n",
      "Epoch 19/20\n",
      "12398/12398 [==============================] - 28s - loss: 0.0061 - acc: 0.9981 - val_loss: 1.0687 - val_acc: 0.8266\n",
      "Epoch 20/20\n",
      "12398/12398 [==============================] - 27s - loss: 0.0033 - acc: 0.9992 - val_loss: 1.0135 - val_acc: 0.8360\n",
      "1530/1530 [==============================] - 0s     \n",
      "Build model...\n",
      "Train on 12398 samples, validate on 1378 samples\n",
      "Epoch 1/20\n",
      "12398/12398 [==============================] - 28s - loss: 0.3922 - acc: 0.8239 - val_loss: 0.3270 - val_acc: 0.8694\n",
      "Epoch 2/20\n"
     ]
    },
    {
     "name": "stdout",
     "output_type": "stream",
     "text": [
      "12398/12398 [==============================] - 28s - loss: 0.1745 - acc: 0.9381 - val_loss: 0.3241 - val_acc: 0.8708\n",
      "Epoch 3/20\n",
      "12398/12398 [==============================] - 27s - loss: 0.0884 - acc: 0.9689 - val_loss: 0.4070 - val_acc: 0.8672\n",
      "Epoch 4/20\n",
      "12398/12398 [==============================] - 27s - loss: 0.0527 - acc: 0.9823 - val_loss: 0.5141 - val_acc: 0.8534\n",
      "Epoch 5/20\n",
      "12398/12398 [==============================] - 27s - loss: 0.0344 - acc: 0.9883 - val_loss: 0.5817 - val_acc: 0.8483\n",
      "Epoch 6/20\n",
      "12398/12398 [==============================] - 27s - loss: 0.0295 - acc: 0.9896 - val_loss: 0.6121 - val_acc: 0.8411\n",
      "Epoch 7/20\n",
      "12398/12398 [==============================] - 27s - loss: 0.0226 - acc: 0.9931 - val_loss: 0.7968 - val_acc: 0.8433\n",
      "Epoch 8/20\n",
      "12398/12398 [==============================] - 27s - loss: 0.0189 - acc: 0.9937 - val_loss: 0.6173 - val_acc: 0.8491\n",
      "Epoch 9/20\n",
      "12398/12398 [==============================] - 27s - loss: 0.0217 - acc: 0.9931 - val_loss: 0.7469 - val_acc: 0.8454\n",
      "Epoch 10/20\n",
      "12398/12398 [==============================] - 27s - loss: 0.0133 - acc: 0.9948 - val_loss: 0.8821 - val_acc: 0.8418\n",
      "Epoch 11/20\n",
      "12398/12398 [==============================] - 28s - loss: 0.0097 - acc: 0.9975 - val_loss: 0.8590 - val_acc: 0.8476\n",
      "Epoch 12/20\n",
      "12398/12398 [==============================] - 28s - loss: 0.0124 - acc: 0.9957 - val_loss: 0.8468 - val_acc: 0.8418\n",
      "Epoch 13/20\n",
      "12398/12398 [==============================] - 27s - loss: 0.0116 - acc: 0.9956 - val_loss: 0.8666 - val_acc: 0.8462\n",
      "Epoch 14/20\n",
      "12398/12398 [==============================] - 27s - loss: 0.0062 - acc: 0.9983 - val_loss: 0.9750 - val_acc: 0.8389\n",
      "Epoch 15/20\n",
      "12398/12398 [==============================] - 27s - loss: 0.0089 - acc: 0.9973 - val_loss: 0.9357 - val_acc: 0.8345\n",
      "Epoch 16/20\n",
      "12398/12398 [==============================] - 27s - loss: 0.0080 - acc: 0.9973 - val_loss: 0.8595 - val_acc: 0.8447\n",
      "Epoch 17/20\n",
      "12398/12398 [==============================] - 27s - loss: 0.0054 - acc: 0.9985 - val_loss: 1.0849 - val_acc: 0.8440\n",
      "Epoch 18/20\n",
      "12398/12398 [==============================] - 27s - loss: 0.0024 - acc: 0.9993 - val_loss: 1.2110 - val_acc: 0.8287\n",
      "Epoch 19/20\n",
      "12398/12398 [==============================] - 27s - loss: 0.0065 - acc: 0.9979 - val_loss: 1.0269 - val_acc: 0.8324\n",
      "Epoch 20/20\n",
      "12398/12398 [==============================] - 27s - loss: 0.0078 - acc: 0.9973 - val_loss: 0.9767 - val_acc: 0.8222\n",
      "1440/1530 [===========================>..] - ETA: 0sBuild model...\n",
      "Train on 12398 samples, validate on 1378 samples\n",
      "Epoch 1/20\n",
      "12398/12398 [==============================] - 28s - loss: 0.3979 - acc: 0.8214 - val_loss: 0.2814 - val_acc: 0.8875\n",
      "Epoch 2/20\n",
      "12398/12398 [==============================] - 27s - loss: 0.1732 - acc: 0.9368 - val_loss: 0.3223 - val_acc: 0.8745\n",
      "Epoch 3/20\n",
      "12398/12398 [==============================] - 27s - loss: 0.0927 - acc: 0.9670 - val_loss: 0.3658 - val_acc: 0.8657\n",
      "Epoch 4/20\n",
      "12398/12398 [==============================] - 27s - loss: 0.0506 - acc: 0.9824 - val_loss: 0.4615 - val_acc: 0.8672\n",
      "Epoch 5/20\n",
      "12398/12398 [==============================] - 27s - loss: 0.0363 - acc: 0.9881 - val_loss: 0.5866 - val_acc: 0.8483\n",
      "Epoch 6/20\n",
      "12398/12398 [==============================] - 27s - loss: 0.0264 - acc: 0.9915 - val_loss: 0.6015 - val_acc: 0.8607\n",
      "Epoch 7/20\n",
      "12398/12398 [==============================] - 27s - loss: 0.0232 - acc: 0.9928 - val_loss: 0.6830 - val_acc: 0.8389\n",
      "Epoch 8/20\n",
      "12398/12398 [==============================] - 27s - loss: 0.0167 - acc: 0.9944 - val_loss: 0.7347 - val_acc: 0.8382\n",
      "Epoch 9/20\n",
      "12398/12398 [==============================] - 27s - loss: 0.0194 - acc: 0.9931 - val_loss: 0.7305 - val_acc: 0.8440\n",
      "Epoch 10/20\n",
      "12398/12398 [==============================] - 27s - loss: 0.0127 - acc: 0.9959 - val_loss: 0.8688 - val_acc: 0.8411\n",
      "Epoch 11/20\n",
      "12398/12398 [==============================] - 28s - loss: 0.0090 - acc: 0.9977 - val_loss: 0.8446 - val_acc: 0.8462\n",
      "Epoch 12/20\n",
      "12398/12398 [==============================] - 27s - loss: 0.0098 - acc: 0.9971 - val_loss: 0.8806 - val_acc: 0.8512\n",
      "Epoch 13/20\n",
      "12398/12398 [==============================] - 27s - loss: 0.0110 - acc: 0.9952 - val_loss: 0.9214 - val_acc: 0.8447\n",
      "Epoch 14/20\n",
      "12398/12398 [==============================] - 27s - loss: 0.0069 - acc: 0.9980 - val_loss: 0.8957 - val_acc: 0.8345\n",
      "Epoch 15/20\n",
      "12398/12398 [==============================] - 27s - loss: 0.0087 - acc: 0.9972 - val_loss: 0.8725 - val_acc: 0.8309\n",
      "Epoch 16/20\n",
      "12398/12398 [==============================] - 27s - loss: 0.0103 - acc: 0.9969 - val_loss: 0.9096 - val_acc: 0.8520\n",
      "Epoch 17/20\n",
      "12398/12398 [==============================] - 27s - loss: 0.0068 - acc: 0.9973 - val_loss: 0.8410 - val_acc: 0.8403\n",
      "Epoch 18/20\n",
      "12398/12398 [==============================] - 27s - loss: 0.0054 - acc: 0.9978 - val_loss: 1.0740 - val_acc: 0.8382\n",
      "Epoch 19/20\n",
      "12398/12398 [==============================] - 27s - loss: 0.0043 - acc: 0.9986 - val_loss: 1.0245 - val_acc: 0.8382\n",
      "Epoch 20/20\n",
      "12398/12398 [==============================] - 28s - loss: 0.0075 - acc: 0.9977 - val_loss: 1.0123 - val_acc: 0.8367\n",
      "1408/1530 [==========================>...] - ETA: 0sBuild model...\n",
      "Train on 12398 samples, validate on 1378 samples\n",
      "Epoch 1/20\n",
      "12398/12398 [==============================] - 28s - loss: 0.4017 - acc: 0.8145 - val_loss: 0.2738 - val_acc: 0.8853\n",
      "Epoch 2/20\n",
      "12398/12398 [==============================] - 28s - loss: 0.1807 - acc: 0.9325 - val_loss: 0.3023 - val_acc: 0.8868\n",
      "Epoch 3/20\n",
      "12398/12398 [==============================] - 27s - loss: 0.0896 - acc: 0.9677 - val_loss: 0.3731 - val_acc: 0.8687\n",
      "Epoch 4/20\n",
      "12398/12398 [==============================] - 27s - loss: 0.0579 - acc: 0.9799 - val_loss: 0.4924 - val_acc: 0.8745\n",
      "Epoch 5/20\n",
      "12398/12398 [==============================] - 27s - loss: 0.0378 - acc: 0.9869 - val_loss: 0.5522 - val_acc: 0.8483\n",
      "Epoch 6/20\n",
      "12398/12398 [==============================] - 27s - loss: 0.0272 - acc: 0.9900 - val_loss: 0.7421 - val_acc: 0.8491\n",
      "Epoch 7/20\n",
      "12398/12398 [==============================] - 28s - loss: 0.0187 - acc: 0.9946 - val_loss: 0.6407 - val_acc: 0.8592\n",
      "Epoch 8/20\n",
      "12398/12398 [==============================] - 28s - loss: 0.0193 - acc: 0.9944 - val_loss: 0.8134 - val_acc: 0.8462\n",
      "Epoch 9/20\n",
      "12398/12398 [==============================] - 28s - loss: 0.0173 - acc: 0.9943 - val_loss: 0.7137 - val_acc: 0.8505\n",
      "Epoch 10/20\n",
      "12398/12398 [==============================] - 28s - loss: 0.0135 - acc: 0.9958 - val_loss: 0.7821 - val_acc: 0.8469\n",
      "Epoch 11/20\n",
      "12398/12398 [==============================] - 28s - loss: 0.0080 - acc: 0.9978 - val_loss: 0.8943 - val_acc: 0.8403\n",
      "Epoch 12/20\n",
      "12398/12398 [==============================] - 28s - loss: 0.0129 - acc: 0.9968 - val_loss: 0.9130 - val_acc: 0.8295\n",
      "Epoch 13/20\n",
      "12398/12398 [==============================] - 28s - loss: 0.0115 - acc: 0.9964 - val_loss: 0.8628 - val_acc: 0.8396\n",
      "Epoch 14/20\n",
      "12398/12398 [==============================] - 28s - loss: 0.0103 - acc: 0.9966 - val_loss: 0.9569 - val_acc: 0.8403\n",
      "Epoch 15/20\n",
      "12398/12398 [==============================] - 28s - loss: 0.0076 - acc: 0.9978 - val_loss: 0.9075 - val_acc: 0.8520\n",
      "Epoch 16/20\n",
      "12398/12398 [==============================] - 28s - loss: 0.0069 - acc: 0.9978 - val_loss: 0.9876 - val_acc: 0.8476\n",
      "Epoch 17/20\n",
      "12398/12398 [==============================] - 28s - loss: 0.0056 - acc: 0.9985 - val_loss: 0.9511 - val_acc: 0.8454\n",
      "Epoch 18/20\n",
      "12398/12398 [==============================] - 28s - loss: 0.0057 - acc: 0.9981 - val_loss: 0.9857 - val_acc: 0.8534\n",
      "Epoch 19/20\n",
      "12398/12398 [==============================] - 28s - loss: 0.0091 - acc: 0.9971 - val_loss: 0.8982 - val_acc: 0.8498\n",
      "Epoch 20/20\n",
      "12398/12398 [==============================] - 28s - loss: 0.0064 - acc: 0.9981 - val_loss: 0.9727 - val_acc: 0.8403\n",
      "1530/1530 [==============================] - 0s     \n",
      "Build model...\n",
      "Train on 12398 samples, validate on 1378 samples\n",
      "Epoch 1/20\n",
      "12398/12398 [==============================] - 28s - loss: 0.4101 - acc: 0.8138 - val_loss: 0.2823 - val_acc: 0.8875\n",
      "Epoch 2/20\n",
      "12398/12398 [==============================] - 28s - loss: 0.1747 - acc: 0.9339 - val_loss: 0.3088 - val_acc: 0.8781\n",
      "Epoch 3/20\n",
      "12398/12398 [==============================] - 28s - loss: 0.0962 - acc: 0.9659 - val_loss: 0.3808 - val_acc: 0.8701\n",
      "Epoch 4/20\n",
      "12398/12398 [==============================] - 27s - loss: 0.0557 - acc: 0.9813 - val_loss: 0.4774 - val_acc: 0.8672\n",
      "Epoch 5/20\n",
      "12398/12398 [==============================] - 27s - loss: 0.0380 - acc: 0.9864 - val_loss: 0.5557 - val_acc: 0.8585\n",
      "Epoch 6/20\n",
      "12398/12398 [==============================] - 27s - loss: 0.0257 - acc: 0.9909 - val_loss: 0.5824 - val_acc: 0.8578\n",
      "Epoch 7/20\n",
      "12398/12398 [==============================] - 27s - loss: 0.0218 - acc: 0.9931 - val_loss: 0.6453 - val_acc: 0.8570\n",
      "Epoch 8/20\n",
      "12398/12398 [==============================] - 27s - loss: 0.0202 - acc: 0.9941 - val_loss: 0.7023 - val_acc: 0.8512\n",
      "Epoch 9/20\n",
      "12398/12398 [==============================] - 27s - loss: 0.0171 - acc: 0.9943 - val_loss: 0.6943 - val_acc: 0.8440\n",
      "Epoch 10/20\n",
      "12398/12398 [==============================] - 27s - loss: 0.0100 - acc: 0.9968 - val_loss: 0.9703 - val_acc: 0.8454\n",
      "Epoch 11/20\n",
      "12398/12398 [==============================] - 27s - loss: 0.0101 - acc: 0.9970 - val_loss: 0.9949 - val_acc: 0.8469\n",
      "Epoch 12/20\n",
      "12398/12398 [==============================] - 27s - loss: 0.0116 - acc: 0.9964 - val_loss: 0.7839 - val_acc: 0.8520\n",
      "Epoch 13/20\n",
      "12398/12398 [==============================] - 27s - loss: 0.0096 - acc: 0.9973 - val_loss: 0.9231 - val_acc: 0.8403\n",
      "Epoch 14/20\n",
      "12398/12398 [==============================] - 27s - loss: 0.0064 - acc: 0.9980 - val_loss: 0.9360 - val_acc: 0.8433\n",
      "Epoch 15/20\n",
      "12398/12398 [==============================] - 27s - loss: 0.0053 - acc: 0.9985 - val_loss: 0.9006 - val_acc: 0.8425\n",
      "Epoch 16/20\n",
      "12398/12398 [==============================] - 27s - loss: 0.0049 - acc: 0.9981 - val_loss: 0.9538 - val_acc: 0.8483\n",
      "Epoch 17/20\n",
      "12398/12398 [==============================] - 27s - loss: 0.0020 - acc: 0.9997 - val_loss: 1.1150 - val_acc: 0.8483\n",
      "Epoch 18/20\n",
      "12398/12398 [==============================] - 27s - loss: 0.0019 - acc: 0.9994 - val_loss: 1.0695 - val_acc: 0.8512\n",
      "Epoch 19/20\n",
      "12398/12398 [==============================] - 27s - loss: 0.0019 - acc: 0.9994 - val_loss: 1.2170 - val_acc: 0.8433\n",
      "Epoch 20/20\n",
      "12398/12398 [==============================] - 27s - loss: 0.0177 - acc: 0.9950 - val_loss: 0.7828 - val_acc: 0.8498\n",
      "1440/1530 [===========================>..] - ETA: 0s"
     ]
    }
   ],
   "source": [
    "results = cross_val(tweet_sec,ds['category'],10)"
   ]
  },
  {
   "cell_type": "code",
   "execution_count": 17,
   "metadata": {},
   "outputs": [
    {
     "name": "stdout",
     "output_type": "stream",
     "text": [
      "Acc: 84.95 (+/- 1.05)\n"
     ]
    }
   ],
   "source": [
    "print(\"Acc: %.2f (+/- %.2f)\" %(np.mean(results), np.std(results)))"
   ]
  },
  {
   "cell_type": "code",
   "execution_count": 18,
   "metadata": {},
   "outputs": [
    {
     "name": "stdout",
     "output_type": "stream",
     "text": [
      "Model 1, acc: 84.86 \n",
      "Model 2, acc: 84.01 \n",
      "Model 3, acc: 83.49 \n",
      "Model 4, acc: 85.56 \n",
      "Model 5, acc: 86.21 \n",
      "Model 6, acc: 86.54 \n",
      "Model 7, acc: 83.33 \n",
      "Model 8, acc: 85.23 \n",
      "Model 9, acc: 84.51 \n",
      "Model 10, acc: 85.75 \n"
     ]
    }
   ],
   "source": [
    "for i in range (0,len(results)):\n",
    "    print \"Model %d, acc: %.2f \" %(i+1,results[i])"
   ]
  },
  {
   "cell_type": "code",
   "execution_count": 16,
   "metadata": {},
   "outputs": [
    {
     "name": "stdout",
     "output_type": "stream",
     "text": [
      "Build model...\n",
      "Epoch 1/20\n",
      "15306/15306 [==============================] - 33s - loss: 0.3809 - acc: 0.8338    \n",
      "Epoch 2/20\n",
      "15306/15306 [==============================] - 35s - loss: 0.1746 - acc: 0.9335    \n",
      "Epoch 3/20\n",
      "15306/15306 [==============================] - 34s - loss: 0.0964 - acc: 0.9660    \n",
      "Epoch 4/20\n",
      "15306/15306 [==============================] - 33s - loss: 0.0602 - acc: 0.9786    \n",
      "Epoch 5/20\n",
      "15306/15306 [==============================] - 35s - loss: 0.0398 - acc: 0.9858    \n",
      "Epoch 6/20\n",
      "15306/15306 [==============================] - 32s - loss: 0.0314 - acc: 0.9893    \n",
      "Epoch 7/20\n",
      "15306/15306 [==============================] - 32s - loss: 0.0273 - acc: 0.9905    \n",
      "Epoch 8/20\n",
      "15306/15306 [==============================] - 33s - loss: 0.0205 - acc: 0.9938    \n",
      "Epoch 9/20\n",
      "15306/15306 [==============================] - 33s - loss: 0.0148 - acc: 0.9953    \n",
      "Epoch 10/20\n",
      "15306/15306 [==============================] - 35s - loss: 0.0163 - acc: 0.9947    \n",
      "Epoch 11/20\n",
      "15306/15306 [==============================] - 37s - loss: 0.0181 - acc: 0.9936    \n",
      "Epoch 12/20\n",
      "15306/15306 [==============================] - 38s - loss: 0.0121 - acc: 0.9961    \n",
      "Epoch 13/20\n",
      "15306/15306 [==============================] - 36s - loss: 0.0086 - acc: 0.9971    \n",
      "Epoch 14/20\n",
      "15306/15306 [==============================] - 43s - loss: 0.0060 - acc: 0.9980    \n",
      "Epoch 15/20\n",
      "15306/15306 [==============================] - 39s - loss: 0.0137 - acc: 0.9956    \n",
      "Epoch 16/20\n",
      "15306/15306 [==============================] - 36s - loss: 0.0068 - acc: 0.9975    \n",
      "Epoch 17/20\n",
      "15306/15306 [==============================] - 36s - loss: 0.0043 - acc: 0.9986    \n",
      "Epoch 18/20\n",
      "15306/15306 [==============================] - 35s - loss: 0.0052 - acc: 0.9985    \n",
      "Epoch 19/20\n",
      "15306/15306 [==============================] - 37s - loss: 0.0035 - acc: 0.9986    \n",
      "Epoch 20/20\n",
      "15306/15306 [==============================] - 36s - loss: 0.0061 - acc: 0.9979    - ETA: 0s - loss: 0.0061 - acc: 0.997\n"
     ]
    }
   ],
   "source": [
    "trained_model = train_model(tweet_sec,ds['category'])"
   ]
  },
  {
   "cell_type": "code",
   "execution_count": 19,
   "metadata": {
    "collapsed": true
   },
   "outputs": [],
   "source": [
    "model_json = trained_model.model.to_json()\n",
    "with open(\"./data/models/lstm/lstm.json\",'w') as json_file:\n",
    "    json_file.write(model_json)\n",
    "trained_model.model.save_weights(\"./data/models/lstm/lstm_weights.h5\")"
   ]
  },
  {
   "cell_type": "code",
   "execution_count": 20,
   "metadata": {
    "collapsed": true
   },
   "outputs": [],
   "source": [
    "trained_model.model.save(\"./data/models/lstm/lstm.h5\")"
   ]
  }
 ],
 "metadata": {
  "kernelspec": {
   "display_name": "Python(irnoy-env)",
   "language": "python",
   "name": "web"
  },
  "language_info": {
   "codemirror_mode": {
    "name": "ipython",
    "version": 2
   },
   "file_extension": ".py",
   "mimetype": "text/x-python",
   "name": "python",
   "nbconvert_exporter": "python",
   "pygments_lexer": "ipython2",
   "version": "2.7.12"
  }
 },
 "nbformat": 4,
 "nbformat_minor": 2
}
